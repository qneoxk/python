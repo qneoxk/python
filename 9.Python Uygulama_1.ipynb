{
 "cells": [
  {
   "cell_type": "markdown",
   "metadata": {},
   "source": [
    "# Kullanıcıdan Girdi alma "
   ]
  },
  {
   "cell_type": "code",
   "execution_count": null,
   "metadata": {},
   "outputs": [],
   "source": [
    "x = input(\"Lütfen bir sayı giriniz:\")\n",
    "print(\"Kullanıcının girdiği değer\", x)"
   ]
  },
  {
   "cell_type": "code",
   "execution_count": 2,
   "metadata": {},
   "outputs": [
    {
     "name": "stdin",
     "output_type": "stream",
     "text": [
      "Lütfen bir sayı giriniz: 9\n"
     ]
    },
    {
     "name": "stdout",
     "output_type": "stream",
     "text": [
      "999\n"
     ]
    }
   ],
   "source": [
    "x = input(\"Lütfen bir sayı giriniz:\")\n",
    "print(x*3)"
   ]
  },
  {
   "cell_type": "code",
   "execution_count": 3,
   "metadata": {},
   "outputs": [
    {
     "name": "stdin",
     "output_type": "stream",
     "text": [
      "Lütfen bir sayı giriniz: 9\n"
     ]
    },
    {
     "name": "stdout",
     "output_type": "stream",
     "text": [
      "<class 'str'>\n"
     ]
    }
   ],
   "source": [
    "x = input(\"Lütfen bir sayı giriniz:\")\n",
    "print(type(x))"
   ]
  },
  {
   "cell_type": "code",
   "execution_count": 4,
   "metadata": {},
   "outputs": [
    {
     "name": "stdin",
     "output_type": "stream",
     "text": [
      "Lütfen bir sayı giriniz: 9\n"
     ]
    },
    {
     "name": "stdout",
     "output_type": "stream",
     "text": [
      "27\n"
     ]
    }
   ],
   "source": [
    "x = int(input(\"Lütfen bir sayı giriniz:\")) \n",
    "print(x*3)"
   ]
  },
  {
   "cell_type": "code",
   "execution_count": 9,
   "metadata": {},
   "outputs": [
    {
     "name": "stdin",
     "output_type": "stream",
     "text": [
      "birinci sayı 10\n",
      "ikinci sayı 20\n",
      "üçüncü sayı 30\n"
     ]
    },
    {
     "name": "stdout",
     "output_type": "stream",
     "text": [
      "sayıların toplamı : 60\n"
     ]
    }
   ],
   "source": [
    "a = int(input(\"birinci sayı\"))\n",
    "b = int(input(\"ikinci sayı\"))\n",
    "c = int(input(\"üçüncü sayı\"))\n",
    "print(\"sayıların toplamı :\", a+b+c)"
   ]
  },
  {
   "cell_type": "code",
   "execution_count": 1,
   "metadata": {},
   "outputs": [
    {
     "name": "stdin",
     "output_type": "stream",
     "text": [
      "bir sayı giriniz : 99\n"
     ]
    },
    {
     "data": {
      "text/plain": [
       "99"
      ]
     },
     "execution_count": 1,
     "metadata": {},
     "output_type": "execute_result"
    }
   ],
   "source": [
    "x = int(input(\"bir sayı giriniz :\"))\n",
    "x"
   ]
  },
  {
   "cell_type": "code",
   "execution_count": 13,
   "metadata": {},
   "outputs": [
    {
     "name": "stdin",
     "output_type": "stream",
     "text": [
      "a: x\n"
     ]
    },
    {
     "name": "stdout",
     "output_type": "stream",
     "text": [
      "Lütfen doğru bir sayı giriniz\n"
     ]
    }
   ],
   "source": [
    "try: \n",
    "    a = int(input(\"a:\"))\n",
    "    print(a)\n",
    "    \n",
    "except ValueError:\n",
    "    print(\"Lütfen doğru bir sayı giriniz\")"
   ]
  },
  {
   "cell_type": "markdown",
   "metadata": {},
   "source": [
    "# BAZI UYGULAMALAR"
   ]
  },
  {
   "cell_type": "markdown",
   "metadata": {},
   "source": [
    "## Gelişmiş Kullanıcı girişi"
   ]
  },
  {
   "cell_type": "code",
   "execution_count": 16,
   "metadata": {},
   "outputs": [
    {
     "name": "stdout",
     "output_type": "stream",
     "text": [
      "\n",
      "***********\n",
      "Kullanıcı Girişi Programı\n",
      "***********\n",
      "\n"
     ]
    },
    {
     "name": "stdin",
     "output_type": "stream",
     "text": [
      "Kullanıcı Adı:  c\n",
      "Parola:  987\n"
     ]
    },
    {
     "name": "stdout",
     "output_type": "stream",
     "text": [
      "Kullanıcı Adı Hatalıdır\n"
     ]
    },
    {
     "name": "stdin",
     "output_type": "stream",
     "text": [
      "Kullanıcı Adı:  Cevat Prekazi\n",
      "Parola:  987\n"
     ]
    },
    {
     "name": "stdout",
     "output_type": "stream",
     "text": [
      "Sisteme Başarıyla Giriş Yapıldı\n"
     ]
    }
   ],
   "source": [
    "print(\"\"\"\n",
    "***********\n",
    "Kullanıcı Girişi Programı\n",
    "***********\n",
    "\"\"\")\n",
    "\n",
    "sys_kullanıcı_adı = \"Cevat Prekazi\"\n",
    "sys_parola =  \"987\"\n",
    "\n",
    "giris_hakkı = 3\n",
    "while True:\n",
    "    kullanıcı_adı = input(\"Kullanıcı Adı: \")\n",
    "    parola = input(\"Parola: \")\n",
    "    \n",
    "    if (kullanıcı_adı != sys_kullanıcı_adı and parola == sys_parola):\n",
    "        print(\"Kullanıcı Adı Hatalıdır\")\n",
    "        giris_hakkı -= 1\n",
    "        \n",
    "    elif (kullanıcı_adı == sys_kullanıcı_adı and parola != sys_parola):\n",
    "        print(\"Parola Hataldır\")\n",
    "        giris_hakkı -= 1\n",
    "        \n",
    "    elif (kullanıcı_adı != sys_kullanıcı_adı and parola != sys_parola):\n",
    "        print(\"Kullanıcı Adı ve Parola Hatalıdır\")\n",
    "        giris_hakkı -= 1\n",
    "        \n",
    "    else:\n",
    "        print(\"Sisteme Başarıyla Giriş Yapıldı\")\n",
    "        break\n",
    "        \n",
    "    if(giris_hakkı == 0):\n",
    "        print(\"Giriş Hakkınız Tükenmiştir\")\n",
    "        break"
   ]
  },
  {
   "cell_type": "markdown",
   "metadata": {},
   "source": [
    "# ATM UYGULAMASI"
   ]
  },
  {
   "cell_type": "code",
   "execution_count": 17,
   "metadata": {},
   "outputs": [
    {
     "name": "stdout",
     "output_type": "stream",
     "text": [
      "\n",
      "******************************************\n",
      "ATM Makinesine Hoşgeldiniz\n",
      "\n",
      "İşlemler: \n",
      "\n",
      "1- Bakiye Sorgulama\n",
      "2- Para Yatırma\n",
      "3- Para Çekme \n",
      "\n",
      "Progrmadan çıkmak için X tuşuna basınız. \n",
      "******************************************\n",
      "\n"
     ]
    },
    {
     "name": "stdin",
     "output_type": "stream",
     "text": [
      "İşlem Numarası Seçiniz:  1\n"
     ]
    },
    {
     "name": "stdout",
     "output_type": "stream",
     "text": [
      "Bakiyeniz 1000 TL'dir\n"
     ]
    },
    {
     "name": "stdin",
     "output_type": "stream",
     "text": [
      "İşlem Numarası Seçiniz:  2\n",
      "Yatırmak istediğiniz Miktarı Giriniz:  9000\n"
     ]
    },
    {
     "name": "stdout",
     "output_type": "stream",
     "text": [
      "Yeni Bakiyeniz 10000 TL'dir\n"
     ]
    },
    {
     "name": "stdin",
     "output_type": "stream",
     "text": [
      "İşlem Numarası Seçiniz:  15000\n"
     ]
    },
    {
     "name": "stdout",
     "output_type": "stream",
     "text": [
      "Geçersiz İşlem\n"
     ]
    },
    {
     "name": "stdin",
     "output_type": "stream",
     "text": [
      "İşlem Numarası Seçiniz:  3\n",
      "Çekmek istediğiniz Miktar Giriniz:  15000\n"
     ]
    },
    {
     "name": "stdout",
     "output_type": "stream",
     "text": [
      "Yeni Bakiyeniz -5000 TL'dir\n",
      "Bu işlem için yeterli bakiyeniz yoktur\n"
     ]
    },
    {
     "name": "stdin",
     "output_type": "stream",
     "text": [
      "İşlem Numarası Seçiniz:  1\n"
     ]
    },
    {
     "name": "stdout",
     "output_type": "stream",
     "text": [
      "Bakiyeniz 10000 TL'dir\n"
     ]
    },
    {
     "name": "stdin",
     "output_type": "stream",
     "text": [
      "İşlem Numarası Seçiniz:  3\n",
      "Çekmek istediğiniz Miktar Giriniz:  10000\n"
     ]
    },
    {
     "name": "stdout",
     "output_type": "stream",
     "text": [
      "Yeni Bakiyeniz 0 TL'dir\n"
     ]
    },
    {
     "name": "stdin",
     "output_type": "stream",
     "text": [
      "İşlem Numarası Seçiniz:  x\n"
     ]
    },
    {
     "name": "stdout",
     "output_type": "stream",
     "text": [
      "Yine bekleriz\n"
     ]
    }
   ],
   "source": [
    "print(\"\"\"\n",
    "******************************************\n",
    "ATM Makinesine Hoşgeldiniz\n",
    "\n",
    "İşlemler: \n",
    "\n",
    "1- Bakiye Sorgulama\n",
    "2- Para Yatırma\n",
    "3- Para Çekme \n",
    "\n",
    "Progrmadan çıkmak için X tuşuna basınız. \n",
    "******************************************\n",
    "\"\"\")\n",
    "\n",
    "bakiye = 1000\n",
    "\n",
    "while True:\n",
    "    işlem = input(\"İşlem Numarası Seçiniz: \")\n",
    "\n",
    "    if (işlem == \"x\"):\n",
    "        print(\"Yine bekleriz\")\n",
    "        break\n",
    "    elif (işlem == \"1\"):\n",
    "        print(\"Bakiyeniz {} TL'dir\".format(bakiye))\n",
    "\n",
    "    elif (işlem == \"2\"):\n",
    "        miktar = int(input(\"Yatırmak istediğiniz Miktarı Giriniz: \"))\n",
    "        bakiye += miktar\n",
    "        print(\"Yeni Bakiyeniz {} TL'dir\".format(bakiye))\n",
    "    elif (işlem == \"3\"):\n",
    "        miktar = int(input(\"Çekmek istediğiniz Miktar Giriniz: \"))\n",
    "        bakiye2 = bakiye - miktar\n",
    "        print(\"Yeni Bakiyeniz {} TL'dir\".format(bakiye2))\n",
    "        \n",
    "        if (bakiye - miktar < 0):\n",
    "            print(\"Bu işlem için yeterli bakiyeniz yoktur\")\n",
    "            continue\n",
    "        bakiye = bakiye2\n",
    "    else:\n",
    "        print(\"Geçersiz İşlem\")"
   ]
  },
  {
   "cell_type": "markdown",
   "metadata": {},
   "source": [
    "# Faktoriyel Hesabı"
   ]
  },
  {
   "cell_type": "code",
   "execution_count": 18,
   "metadata": {},
   "outputs": [
    {
     "name": "stdout",
     "output_type": "stream",
     "text": [
      "\n",
      "**************************\n",
      "Faktöriyel bulma programı \n",
      "\n",
      "çıkmak için x'e basınız. \n",
      "**************************\n"
     ]
    },
    {
     "name": "stdin",
     "output_type": "stream",
     "text": [
      "sayı: 5\n"
     ]
    },
    {
     "name": "stdout",
     "output_type": "stream",
     "text": [
      "sayının factoriyeli: 120\n"
     ]
    },
    {
     "name": "stdin",
     "output_type": "stream",
     "text": [
      "sayı: 6\n"
     ]
    },
    {
     "name": "stdout",
     "output_type": "stream",
     "text": [
      "sayının factoriyeli: 720\n"
     ]
    },
    {
     "name": "stdin",
     "output_type": "stream",
     "text": [
      "sayı: 9\n"
     ]
    },
    {
     "name": "stdout",
     "output_type": "stream",
     "text": [
      "sayının factoriyeli: 362880\n"
     ]
    },
    {
     "name": "stdin",
     "output_type": "stream",
     "text": [
      "sayı: x\n"
     ]
    },
    {
     "name": "stdout",
     "output_type": "stream",
     "text": [
      "Program sonlandırılıyor...\n"
     ]
    }
   ],
   "source": [
    "print(\"\"\"\n",
    "**************************\n",
    "Faktöriyel bulma programı \n",
    "\n",
    "çıkmak için x'e basınız. \n",
    "**************************\"\"\")\n",
    "\n",
    "while True:\n",
    "    sayı = input(\"sayı:\")\n",
    "    if (sayı == \"x\") :\n",
    "        print(\"Program sonlandırılıyor...\")\n",
    "        break\n",
    "\n",
    "    else:\n",
    "        sayı = int(sayı)\n",
    "\n",
    "        factoriyel = 1\n",
    "\n",
    "        for i in range(2, sayı+1):\n",
    "            factoriyel *= i\n",
    "        print(\"sayının factoriyeli:\", factoriyel)\n"
   ]
  },
  {
   "cell_type": "raw",
   "metadata": {},
   "source": [
    "satır satır factoriyel hesabı"
   ]
  },
  {
   "cell_type": "code",
   "execution_count": 19,
   "metadata": {},
   "outputs": [
    {
     "name": "stdout",
     "output_type": "stream",
     "text": [
      "\n",
      "**************************\n",
      "Faktöriyel bulma programı \n",
      "\n",
      "çıkmak için x'e basınız. \n",
      "**************************\n",
      "\n"
     ]
    },
    {
     "name": "stdin",
     "output_type": "stream",
     "text": [
      "sayı: 5\n"
     ]
    },
    {
     "name": "stdout",
     "output_type": "stream",
     "text": [
      "i:  2    factoriyel 1\n",
      "i:  3    factoriyel 2\n",
      "i:  4    factoriyel 6\n",
      "i:  5    factoriyel 24\n",
      "_______________\n",
      "sayının factoriyeli: 120\n",
      "\n",
      "****sonraki faktoriyel*****\n"
     ]
    },
    {
     "name": "stdin",
     "output_type": "stream",
     "text": [
      "sayı: 9\n"
     ]
    },
    {
     "name": "stdout",
     "output_type": "stream",
     "text": [
      "i:  2    factoriyel 1\n",
      "i:  3    factoriyel 2\n",
      "i:  4    factoriyel 6\n",
      "i:  5    factoriyel 24\n",
      "i:  6    factoriyel 120\n",
      "i:  7    factoriyel 720\n",
      "i:  8    factoriyel 5040\n",
      "i:  9    factoriyel 40320\n",
      "_______________\n",
      "sayının factoriyeli: 362880\n",
      "\n",
      "****sonraki faktoriyel*****\n"
     ]
    },
    {
     "name": "stdin",
     "output_type": "stream",
     "text": [
      "sayı: 25\n"
     ]
    },
    {
     "name": "stdout",
     "output_type": "stream",
     "text": [
      "i:  2    factoriyel 1\n",
      "i:  3    factoriyel 2\n",
      "i:  4    factoriyel 6\n",
      "i:  5    factoriyel 24\n",
      "i:  6    factoriyel 120\n",
      "i:  7    factoriyel 720\n",
      "i:  8    factoriyel 5040\n",
      "i:  9    factoriyel 40320\n",
      "i:  10    factoriyel 362880\n",
      "i:  11    factoriyel 3628800\n",
      "i:  12    factoriyel 39916800\n",
      "i:  13    factoriyel 479001600\n",
      "i:  14    factoriyel 6227020800\n",
      "i:  15    factoriyel 87178291200\n",
      "i:  16    factoriyel 1307674368000\n",
      "i:  17    factoriyel 20922789888000\n",
      "i:  18    factoriyel 355687428096000\n",
      "i:  19    factoriyel 6402373705728000\n",
      "i:  20    factoriyel 121645100408832000\n",
      "i:  21    factoriyel 2432902008176640000\n",
      "i:  22    factoriyel 51090942171709440000\n",
      "i:  23    factoriyel 1124000727777607680000\n",
      "i:  24    factoriyel 25852016738884976640000\n",
      "i:  25    factoriyel 620448401733239439360000\n",
      "_______________\n",
      "sayının factoriyeli: 15511210043330985984000000\n",
      "\n",
      "****sonraki faktoriyel*****\n"
     ]
    },
    {
     "name": "stdin",
     "output_type": "stream",
     "text": [
      "sayı: x\n"
     ]
    },
    {
     "name": "stdout",
     "output_type": "stream",
     "text": [
      "Program sonlandırılıyor...\n"
     ]
    }
   ],
   "source": [
    "print(\"\"\"\n",
    "**************************\n",
    "Faktöriyel bulma programı \n",
    "\n",
    "çıkmak için x'e basınız. \n",
    "**************************\n",
    "\"\"\")\n",
    "\n",
    "while True:\n",
    "    sayı = input(\"sayı:\")\n",
    "    if (sayı == \"x\") :\n",
    "    print(\"Program sonlandırılıyor...\")\n",
    "        break\n",
    "    else:\n",
    "        sayı = int(sayı)\n",
    "        factoriyel = 1\n",
    "        for i in range(2, sayı + 1):\n",
    "            print(\"i: \", i, \"  \", \"factoriyel\", factoriyel)\n",
    "            factoriyel *= i\n",
    "        print(\"_______________\")\n",
    "        print(\"sayının factoriyeli:\", factoriyel)\n",
    "        print(\"\\n****sonraki faktoriyel*****\")"
   ]
  },
  {
   "cell_type": "code",
   "execution_count": null,
   "metadata": {},
   "outputs": [],
   "source": []
  }
 ],
 "metadata": {
  "kernelspec": {
   "display_name": "Python 3 (ipykernel)",
   "language": "python",
   "name": "python3"
  },
  "language_info": {
   "codemirror_mode": {
    "name": "ipython",
    "version": 3
   },
   "file_extension": ".py",
   "mimetype": "text/x-python",
   "name": "python",
   "nbconvert_exporter": "python",
   "pygments_lexer": "ipython3",
   "version": "3.11.8"
  }
 },
 "nbformat": 4,
 "nbformat_minor": 4
}
