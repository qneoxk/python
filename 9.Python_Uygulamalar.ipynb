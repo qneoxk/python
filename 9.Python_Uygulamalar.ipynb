{
 "cells": [
  {
   "cell_type": "markdown",
   "id": "f524407a-57fd-406c-a526-73ad7f71de06",
   "metadata": {},
   "source": [
    "# Python bazı örnek uygulamalar "
   ]
  },
  {
   "cell_type": "markdown",
   "id": "b41042ca-4d04-4df9-9dd7-c39d5c064ce9",
   "metadata": {},
   "source": [
    "# 10 tabanındaki bir sayıyı 2 tabanına dönüştürme"
   ]
  },
  {
   "cell_type": "code",
   "execution_count": 1,
   "id": "4f34b7fa-0b02-4340-8ccb-48e8a4e89ca7",
   "metadata": {},
   "outputs": [
    {
     "name": "stdin",
     "output_type": "stream",
     "text": [
      "bir sayı giriniz :  3\n"
     ]
    },
    {
     "name": "stdout",
     "output_type": "stream",
     "text": [
      " \n",
      "Girilen sayının ikilik değeri : 11\n",
      "sayının bit sayısı  2\n"
     ]
    }
   ],
   "source": [
    "sayı = int(input(\"bir sayı giriniz : \"))\n",
    "print(\" \")\n",
    "L = []\n",
    "\n",
    "while sayı > 0:\n",
    "    kalan = sayı % 2\n",
    "    L.append(kalan)\n",
    "    sayı = sayı // 2 \n",
    "\n",
    "L.reverse()\n",
    "ikili_sayı = \"\".join(str(bit) for bit in L)\n",
    "\n",
    "print(\"Girilen sayının ikilik değeri :\", ikili_sayı)\n",
    "print(\"sayının bit sayısı \", len(L))"
   ]
  },
  {
   "cell_type": "markdown",
   "id": "4c4eba4c-3b3a-48cc-9f9e-c183682c3af1",
   "metadata": {},
   "source": [
    "# 2 tabanında verilmiş bir sayıyı 10 tabanına dönüştürme"
   ]
  },
  {
   "cell_type": "code",
   "execution_count": 2,
   "id": "4ead6238-743b-4686-afe8-6ebe9522fd7e",
   "metadata": {},
   "outputs": [
    {
     "name": "stdin",
     "output_type": "stream",
     "text": [
      "İkilik sistemde bir sayı girin:  1101\n"
     ]
    },
    {
     "name": "stdout",
     "output_type": "stream",
     "text": [
      "sayının bit sayısı  4\n",
      " \n",
      "Girilen sayının onluk değeri : 13\n"
     ]
    }
   ],
   "source": [
    "sayı = input(\"İkilik sistemde bir sayı girin: \")\n",
    "bit_sayısı = len(sayı)\n",
    "print(\"sayının bit sayısı \", bit_sayısı)\n",
    "print(\" \")\n",
    "toplam = 0\n",
    "\n",
    "\n",
    "for i in range(bit_sayısı):\n",
    "    deger = int(sayı[i])\n",
    "    katsayı = 2 ** (bit_sayısı - i - 1)\n",
    "    toplam += deger * katsayı\n",
    "\n",
    "print(\"Girilen sayının onluk değeri :\", toplam)"
   ]
  },
  {
   "cell_type": "markdown",
   "id": "b105e752-edf0-4c99-8cb4-aa8b3d25ac95",
   "metadata": {},
   "source": [
    "# 1'den 100' e kadar asal sayıların toplamı "
   ]
  },
  {
   "cell_type": "code",
   "execution_count": 6,
   "id": "f63bf312-e724-4990-b387-757cbd7b363a",
   "metadata": {},
   "outputs": [
    {
     "name": "stdout",
     "output_type": "stream",
     "text": [
      "asal sayı:  1\n",
      "asal sayı:  2\n",
      "asal sayı:  3\n",
      "asal sayı:  5\n",
      "asal sayı:  7\n",
      "asal sayı:  11\n",
      "asal sayı:  13\n",
      "asal sayı:  17\n",
      "asal sayı:  19\n",
      "asal sayı:  23\n",
      "asal sayı:  29\n",
      "asal sayı:  31\n",
      "asal sayı:  37\n",
      "asal sayı:  41\n",
      "asal sayı:  43\n",
      "asal sayı:  47\n",
      "asal sayı:  53\n",
      "asal sayı:  59\n",
      "asal sayı:  61\n",
      "asal sayı:  67\n",
      "asal sayı:  71\n",
      "asal sayı:  73\n",
      "asal sayı:  79\n",
      "asal sayı:  83\n",
      "asal sayı:  89\n",
      "asal sayı:  97\n",
      "1'den 100'e kadar olan asal sayıların toplamı: 1061\n"
     ]
    }
   ],
   "source": [
    "# Bir sayının asal olup olmadığını kontrol eden bir fonksiyon\n",
    "def asal_mi(n):\n",
    "  # 2'den n-1'e kadar olan sayılara bölünebilir mi diye bak\n",
    "  for i in range(2, n):\n",
    "    # Eğer tam bölünürse asal değildir\n",
    "    if n % i == 0:\n",
    "        return False\n",
    "  # Eğer hiçbir sayıya tam bölünmezse asaldır\n",
    "  return True\n",
    "\n",
    "# Toplamı tutacak bir değişken\n",
    "toplam = 0\n",
    "\n",
    "# 1'den 100'e kadar olan sayılara bak\n",
    "for n in range(1, 101):\n",
    "  # Eğer sayı asalsa toplama ekle\n",
    "  if asal_mi(n):\n",
    "    print(\"asal sayı: \", n)\n",
    "    toplam += n\n",
    "\n",
    "# Toplamı yazdır\n",
    "print(\"1'den 100'e kadar olan asal sayıların toplamı:\", toplam)"
   ]
  },
  {
   "cell_type": "code",
   "execution_count": null,
   "id": "5b1fe199-4a7a-42c6-8079-2a0a5cd436c0",
   "metadata": {},
   "outputs": [],
   "source": [
    "def asal_mi(n):\n",
    "    for i in range(2, n):\n",
    "        if n % i == 0:\n",
    "            return False\n",
    "    return True\n",
    "\n",
    "toplam = 0\n",
    "\n",
    "for n in range(1, 101):\n",
    "    if asal_mi(n):\n",
    "        toplam += n\n",
    "\n",
    "print(\"1'den 100'e kadar olan asal sayıların toplamı:\", toplam)"
   ]
  },
  {
   "cell_type": "markdown",
   "id": "4518defc-5de4-443d-8c82-0d6e7ac7fdcc",
   "metadata": {},
   "source": [
    "# Faktöriyel bulma programı"
   ]
  },
  {
   "cell_type": "code",
   "execution_count": null,
   "id": "45351c5e-a591-4af2-a912-8d981bae8818",
   "metadata": {},
   "outputs": [],
   "source": [
    "print(\"\"\"\n",
    "**************************\n",
    "Faktöriyel bulma programı \n",
    "\n",
    "çıkmak için q'e basınız. \n",
    "**************************\"\"\")\n",
    "\n",
    "while True:\n",
    "    sayı = input(\"sayı:\")\n",
    "    if (sayı == \"q\") :\n",
    "        print(\"Program sonlandırılıyor...\")\n",
    "\n",
    "        break\n",
    "\n",
    "    else:\n",
    "        sayı = int(sayı)\n",
    "\n",
    "        factoriyel = 1\n",
    "\n",
    "        for i in range(2, sayı+1):\n",
    "            print(\"factoriyel\", factoriyel, \"i: \",i)\n",
    "            factoriyel *= i\n",
    "        print(\"{} sayısının faktöriyeli = {}' dir\".format(sayı,factoriyel))\n",
    "        print(\"_______________\")"
   ]
  },
  {
   "cell_type": "markdown",
   "id": "965d7a5a-5eb5-4bb9-9058-5dcb3c3e297a",
   "metadata": {},
   "source": [
    "# Bir sayının Tam bölenleri"
   ]
  },
  {
   "cell_type": "code",
   "execution_count": null,
   "id": "43af4744-1c3a-499a-81f2-70818142a62a",
   "metadata": {},
   "outputs": [],
   "source": [
    "def tambölenler(sayı):\n",
    "    tam_bölenler = []\n",
    "\n",
    "    for i in range(2, sayı + 1):\n",
    "\n",
    "        if (sayı % i == 0):\n",
    "            tam_bölenler.append(i)\n",
    "    return tam_bölenler\n",
    "\n",
    "while True:\n",
    "    sayı = input(\"Sayı:\")\n",
    "\n",
    "    if (sayı == \"q\"):\n",
    "        print(\"Program sonlanıyor\")\n",
    "        break\n",
    "    else:\n",
    "        sayı = int(sayı)\n",
    "        print(\"Tam Bölneler:\",tambölenler(sayı))"
   ]
  }
 ],
 "metadata": {
  "kernelspec": {
   "display_name": "Python 3 (ipykernel)",
   "language": "python",
   "name": "python3"
  },
  "language_info": {
   "codemirror_mode": {
    "name": "ipython",
    "version": 3
   },
   "file_extension": ".py",
   "mimetype": "text/x-python",
   "name": "python",
   "nbconvert_exporter": "python",
   "pygments_lexer": "ipython3",
   "version": "3.11.5"
  }
 },
 "nbformat": 4,
 "nbformat_minor": 5
}
