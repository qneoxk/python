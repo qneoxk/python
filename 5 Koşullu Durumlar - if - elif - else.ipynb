{
 "cells": [
  {
   "cell_type": "markdown",
   "metadata": {},
   "source": [
    "# Koşullu Durumlar - if -else "
   ]
  },
  {
   "cell_type": "markdown",
   "metadata": {},
   "source": [
    "Python Progrmalarının çalışma mantığı "
   ]
  },
  {
   "cell_type": "markdown",
   "metadata": {},
   "source": [
    "Python'da bir program, en üst satırdan başlayarak en alt satıra kadar satır satır işlemleri yapar, artık işlenecek satır kalmadığında program sonlanır. "
   ]
  },
  {
   "cell_type": "code",
   "execution_count": null,
   "metadata": {},
   "outputs": [],
   "source": [
    "a = 2\n",
    "b = 4\n",
    "c = 7\n",
    "print(a+b+c)"
   ]
  },
  {
   "cell_type": "markdown",
   "metadata": {},
   "source": [
    "Python'da blok yapısı girintiler sayesinde yapılır. "
   ]
  },
  {
   "cell_type": "code",
   "execution_count": 1,
   "metadata": {},
   "outputs": [
    {
     "name": "stdout",
     "output_type": "stream",
     "text": [
      "2\n",
      "Gökhan\n"
     ]
    }
   ],
   "source": [
    "a = 2 # Blok 1' in kodu \n",
    "\n",
    "if (a == 2):\n",
    "    print(a)  # blok 2\n",
    "\n",
    "print(\"Gökhan\") # Blok 1' e ait kod "
   ]
  },
  {
   "cell_type": "markdown",
   "metadata": {},
   "source": [
    "En soldan başlayan satıır herzaman blok 1 dir. "
   ]
  },
  {
   "cell_type": "code",
   "execution_count": 5,
   "metadata": {},
   "outputs": [
    {
     "name": "stdout",
     "output_type": "stream",
     "text": [
      "Gökhan\n"
     ]
    }
   ],
   "source": [
    "a = 3 # Blok 1' in kodu \n",
    "\n",
    "if (a == 2):\n",
    "    print(a)  # blok 2\n",
    "\n",
    "print(\"Gökhan\") # Blok 2' e ait kod "
   ]
  },
  {
   "cell_type": "markdown",
   "metadata": {},
   "source": [
    "# If koşulu ve Python' daki blok yapısı"
   ]
  },
  {
   "cell_type": "markdown",
   "metadata": {},
   "source": [
    "if bloğu kullanılırken if(koşul) yapısı kullanılır. Bu koşul herhangi bir karşılaştırma ya da mantıksal değer kullanılmalıdır. if bloğunu açmak için : işareti kullanılır. Daha sonra alt satırdan istenen bilgiler girilir. if bloğu eğer koşul doğru ise çalışır, koşul false ise Python if bloğunu işletmez ve ilk bloktan devam eder.  "
   ]
  },
  {
   "cell_type": "code",
   "execution_count": 9,
   "metadata": {},
   "outputs": [
    {
     "name": "stdout",
     "output_type": "stream",
     "text": [
      "yaşınızı giriniz: 14\n",
      "Mekana giremezsiniz !\n"
     ]
    }
   ],
   "source": [
    "yas = int(input(\"yaşınızı giriniz: \"))\n",
    "\n",
    "if yas < 18: \n",
    "    print(\"Mekana giremezsiniz !\")"
   ]
  },
  {
   "cell_type": "code",
   "execution_count": 7,
   "metadata": {},
   "outputs": [
    {
     "data": {
      "text/plain": [
       "str"
      ]
     },
     "execution_count": 7,
     "metadata": {},
     "output_type": "execute_result"
    }
   ],
   "source": [
    "type(yas)"
   ]
  },
  {
   "cell_type": "markdown",
   "metadata": {},
   "source": [
    "Yukarıdaki örnekte yas değişkeni 18 ise program çalışmaz, bu nedenle else komutuna başvurulmalıdır. "
   ]
  },
  {
   "cell_type": "markdown",
   "metadata": {},
   "source": [
    "if bloğu çalışmadığında else bloğu devreye girer. "
   ]
  },
  {
   "cell_type": "markdown",
   "metadata": {},
   "source": [
    "else bloğu "
   ]
  },
  {
   "cell_type": "code",
   "execution_count": 11,
   "metadata": {},
   "outputs": [
    {
     "name": "stdout",
     "output_type": "stream",
     "text": [
      "yaşınızı giriniz: 23\n",
      "Mekana hoşgeldiniz\n"
     ]
    }
   ],
   "source": [
    "yas = int(input(\"yaşınızı giriniz: \"))\n",
    "\n",
    "if yas < 18: \n",
    "    print(\"Mekana giremezsiniz !\")\n",
    "else:\n",
    "    print(\"Mekana hoşgeldiniz\")"
   ]
  },
  {
   "cell_type": "markdown",
   "metadata": {},
   "source": [
    "Bu örnekte, if bloğu çalıştığı ve yaş değeri 16 girildiği için else bloğu çalışmaz."
   ]
  },
  {
   "cell_type": "code",
   "execution_count": null,
   "metadata": {},
   "outputs": [],
   "source": [
    "yas = int(input(\"yaşınızı giriniz\"))\n",
    "if yas < 18: \n",
    "    print(\"Mekana giremezsiniz !\")\n",
    "else:\n",
    "    print(\"Mekana hoşgeldiniz\")"
   ]
  },
  {
   "cell_type": "markdown",
   "metadata": {},
   "source": [
    "yaş değişkeni 19 girildiği için de bu sefer if bloğu çalışmadı fakat else bloğu çalıştı. "
   ]
  },
  {
   "cell_type": "code",
   "execution_count": 13,
   "metadata": {},
   "outputs": [
    {
     "name": "stdout",
     "output_type": "stream",
     "text": [
      "sayı 36\n",
      "sıfır veya pozitif sayı\n"
     ]
    }
   ],
   "source": [
    "sayı = int(input(\"sayı \"))\n",
    "\n",
    "if sayı < 0:\n",
    "    print(\"negatif sayı\")\n",
    "else:\n",
    "    print(\"sıfır veya pozitif sayı\")"
   ]
  },
  {
   "cell_type": "code",
   "execution_count": null,
   "metadata": {},
   "outputs": [],
   "source": [
    "sayı = int(input(\"sayı\"))\n",
    "\n",
    "if sayı < 0:\n",
    "    print(\"negatif sayı\")\n",
    "else:\n",
    "    print(\"sıfır veya pozitif sayı\")"
   ]
  },
  {
   "cell_type": "markdown",
   "metadata": {},
   "source": [
    "ilk örnekte sayı negatif olduğundan else bloğu, ikinci örnekte de sayı pozitif olduğundan if bloğu çalışmadı. "
   ]
  },
  {
   "cell_type": "markdown",
   "metadata": {},
   "source": [
    "Kullanıcıdan alınan bir sayının 0, pozitif bir sayı ve negatif bir sayı olduğunu tespit eden program aşağıdakilerden hangisidir ?"
   ]
  },
  {
   "cell_type": "code",
   "execution_count": 16,
   "metadata": {},
   "outputs": [
    {
     "name": "stdout",
     "output_type": "stream",
     "text": [
      "Bir sayı giriniz 19\n",
      "sayı pozitiftir.\n"
     ]
    }
   ],
   "source": [
    "number = float(input(\"Bir sayı giriniz \"))\n",
    "\n",
    "if number >= 0:\n",
    "    if number == 0:\n",
    "        print(\"sayı 0' a eşittir.\")\n",
    "    else: \n",
    "        print(\"sayı pozitiftir.\")\n",
    "else:\n",
    "    print(\"sayı negatiftir\")"
   ]
  },
  {
   "cell_type": "markdown",
   "metadata": {},
   "source": [
    "# if - elif - else"
   ]
  },
  {
   "cell_type": "raw",
   "metadata": {},
   "source": [
    "Birden fazla koşulun olduğu durumlarda kullanılan yapıdır. \n",
    "\n",
    "if koşul:\n",
    "    Yapılacak işlemler \n",
    "elif farklı bir koşul: \n",
    "    Yapılacak işlemler \n",
    "elif farklı bir koşul: \n",
    "    // \n",
    "    // \n",
    "else: \n",
    "    Yapılacak işlemler"
   ]
  },
  {
   "cell_type": "code",
   "execution_count": 20,
   "metadata": {
    "scrolled": true
   },
   "outputs": [
    {
     "name": "stdout",
     "output_type": "stream",
     "text": [
      "işlem numarası giriniz: 7\n",
      "tanımsız sayı girildi\n"
     ]
    }
   ],
   "source": [
    "islem = input(\"işlem numarası giriniz: \")\n",
    "\n",
    "if islem == \"1\": \n",
    "    print(\"işlem 1 seçildi\")\n",
    "elif islem == \"2\":\n",
    "    print(\"işlem 2 seçildi\")\n",
    "elif islem == \"3\":\n",
    "    print(\"işlem 3 seçildi\")\n",
    "else:\n",
    "    print(\"tanımsız sayı girildi\")"
   ]
  },
  {
   "cell_type": "code",
   "execution_count": 25,
   "metadata": {},
   "outputs": [
    {
     "name": "stdout",
     "output_type": "stream",
     "text": [
      "notunuzu giriniz 15\n",
      "seneye görüşürüz\n"
     ]
    }
   ],
   "source": [
    "not_ = float(input(\"notunuzu giriniz \"))\n",
    "\n",
    "if (not_ > 90):\n",
    "    print(\"AA\")\n",
    "elif (not_> 85):\n",
    "    print(\"BA\")\n",
    "elif (not_ > 80):\n",
    "    print(\"BB\")\n",
    "elif (not_> 75):\n",
    "    print(\"CA\")\n",
    "elif (not_ > 70):\n",
    "    print(\"CC\") \n",
    "else:\n",
    "    print(\"seneye görüşürüz\") "
   ]
  },
  {
   "cell_type": "raw",
   "metadata": {},
   "source": [
    "elif blokları, if bloğundaki koşul sağlanmazsa çalışır. Fakat if bloğu üst satırları kontrol etmez. Örnek olarak hemen yukarıdaki prograda elif blokları if yapılırsa: "
   ]
  },
  {
   "cell_type": "code",
   "execution_count": 27,
   "metadata": {},
   "outputs": [
    {
     "name": "stdout",
     "output_type": "stream",
     "text": [
      "notunuzu giriniz: 91\n",
      "AA\n",
      "BA\n",
      "BB\n",
      "CA\n",
      "CC\n"
     ]
    }
   ],
   "source": [
    "not_ = float(input(\"notunuzu giriniz: \"))\n",
    "\n",
    "if (not_ > 90):\n",
    "    print(\"AA\")\n",
    "if (not_> 85):\n",
    "    print(\"BA\")\n",
    "if (not_ > 80):\n",
    "    print(\"BB\")\n",
    "if (not_> 75):\n",
    "    print(\"CA\")\n",
    "if (not_ > 70):\n",
    "    print(\"CC\") \n",
    "else:\n",
    "    print(\"seneye görüşürüz\") "
   ]
  },
  {
   "cell_type": "raw",
   "metadata": {},
   "source": [
    "Yukarıdaki ösnekte, not 88 olduğundan ilk if bloğu çalışmadı. not > 85 olan koşul sağlandı ve sonuç BA ile verildi. Fakat alttaki if blokları, üstteki if bloklarını kontrol etmediğinden ekrana BB, CA ve CC notları da yazdırıldı.\n",
    "elif ve else, üstteki koşullar çalışmadığında göz önüne alınacak koşullarla kullanılır."
   ]
  },
  {
   "cell_type": "markdown",
   "metadata": {},
   "source": [
    "# Basit bir hesap makinesi "
   ]
  },
  {
   "cell_type": "code",
   "execution_count": 33,
   "metadata": {},
   "outputs": [
    {
     "name": "stdout",
     "output_type": "stream",
     "text": [
      " ****************************************\n",
      "HESAP Makinesi Programı \n",
      "\n",
      "İşlemler: \n",
      "\n",
      "1. Toplama işlemi \n",
      "2. Çıkarma işlemi \n",
      "3. Çarpma işlemi\n",
      "4. Bölme işlemi \n",
      "\n",
      "***************************************\n",
      "\n",
      "Birinci sayıyı giriniz = 1\n",
      "ikinci sayıyı giriniz =3\n",
      "İşlem numarası giriniz: 4\n",
      "1.0 ile 3.0' nin bölümü = 0.3333333333333333' dir\n"
     ]
    }
   ],
   "source": [
    "print(\"\"\" ****************************************\n",
    "HESAP Makinesi Programı \n",
    "\n",
    "İşlemler: \n",
    "\n",
    "1. Toplama işlemi \n",
    "2. Çıkarma işlemi \n",
    "3. Çarpma işlemi\n",
    "4. Bölme işlemi \n",
    "\n",
    "***************************************\n",
    "\"\"\")\n",
    "\n",
    "x = float(input(\"Birinci sayıyı giriniz = \"))\n",
    "y = float(input(\"ikinci sayıyı giriniz =\"))\n",
    "\n",
    "işlem = input(\"İşlem numarası giriniz: \")\n",
    "\n",
    "if  işlem == \"1\":\n",
    "    print(\"{} ile {}' in toplamı = {}' dir\".format(x, y, x+y))\n",
    "elif işlem == \"2\":\n",
    "    print(\"{} ile {}' nin farkı = {}' dir\".format(x, y, x - y))\n",
    "elif işlem == \"3\":\n",
    "    print(\"{} ile {}' nin çarpımı = {}' dir\".format(x, y, x * y))\n",
    "elif işlem == \"4\":\n",
    "    print(\"{} ile {}' nin bölümü = {}' dir\".format(x, y, x / y))\n",
    "else:\n",
    "    print(\"farklı biri işlem numarası giridniz\")"
   ]
  },
  {
   "cell_type": "code",
   "execution_count": null,
   "metadata": {},
   "outputs": [],
   "source": []
  }
 ],
 "metadata": {
  "kernelspec": {
   "display_name": "Python 3 (ipykernel)",
   "language": "python",
   "name": "python3"
  },
  "language_info": {
   "codemirror_mode": {
    "name": "ipython",
    "version": 3
   },
   "file_extension": ".py",
   "mimetype": "text/x-python",
   "name": "python",
   "nbconvert_exporter": "python",
   "pygments_lexer": "ipython3",
   "version": "3.9.13"
  }
 },
 "nbformat": 4,
 "nbformat_minor": 2
}
