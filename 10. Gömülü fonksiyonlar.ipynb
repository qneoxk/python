{
 "cells": [
  {
   "cell_type": "markdown",
   "id": "2d90263c-35ba-49d4-bad2-0b3e563f444b",
   "metadata": {},
   "source": [
    "# Python'da gömülü fonksiyonlar "
   ]
  },
  {
   "cell_type": "markdown",
   "id": "30296e5f-c758-4f99-9ffd-c151a88d9d11",
   "metadata": {},
   "source": [
    "# map() fonksiyonu"
   ]
  },
  {
   "cell_type": "code",
   "execution_count": 1,
   "id": "d1a6a949-4bdc-4ea7-a119-295f46ecb409",
   "metadata": {},
   "outputs": [],
   "source": [
    "def double(x):\n",
    "    return x*2"
   ]
  },
  {
   "cell_type": "code",
   "execution_count": 7,
   "id": "17355188-99f0-4a4c-99c6-9c4f3f5913db",
   "metadata": {},
   "outputs": [
    {
     "data": {
      "text/plain": [
       "<map at 0x1915821c040>"
      ]
     },
     "execution_count": 7,
     "metadata": {},
     "output_type": "execute_result"
    }
   ],
   "source": [
    "liste = range(0,10,1)\n",
    "\n",
    "map(double,liste)"
   ]
  },
  {
   "cell_type": "code",
   "execution_count": 8,
   "id": "5674cbad-7110-45d2-92eb-b75cfc6de7ad",
   "metadata": {},
   "outputs": [
    {
     "data": {
      "text/plain": [
       "[0, 2, 4, 6, 8, 10, 12, 14, 16, 18]"
      ]
     },
     "execution_count": 8,
     "metadata": {},
     "output_type": "execute_result"
    }
   ],
   "source": [
    "list(map(double,liste))"
   ]
  },
  {
   "cell_type": "code",
   "execution_count": 9,
   "id": "51a4577e-6fde-409e-8e50-e0af4cc95932",
   "metadata": {},
   "outputs": [],
   "source": [
    "import numpy as np "
   ]
  },
  {
   "cell_type": "code",
   "execution_count": 18,
   "id": "d045fc59-b79b-47d8-8605-b7f6b5bd2210",
   "metadata": {},
   "outputs": [
    {
     "data": {
      "text/plain": [
       "[0.0,\n",
       " 0.25881904510252074,\n",
       " 0.49999999999999994,\n",
       " 0.7071067811865476,\n",
       " 0.8660254037844386,\n",
       " 0.9659258262890683,\n",
       " 1.0]"
      ]
     },
     "execution_count": 18,
     "metadata": {},
     "output_type": "execute_result"
    }
   ],
   "source": [
    "def sin(x):\n",
    "    return np.sin(np.deg2rad(x))\n",
    "\n",
    "l = [x for x in range(0,105,15)]\n",
    "\n",
    "list(map(sin, l))"
   ]
  },
  {
   "cell_type": "code",
   "execution_count": 19,
   "id": "a00f8e42-4665-446f-b677-aab7aefea4a0",
   "metadata": {},
   "outputs": [
    {
     "data": {
      "text/plain": [
       "[1, 4, 9, 16, 25]"
      ]
     },
     "execution_count": 19,
     "metadata": {},
     "output_type": "execute_result"
    }
   ],
   "source": [
    "list(map(lambda x: x **2, (1,2,3,4,5)))"
   ]
  },
  {
   "cell_type": "code",
   "execution_count": 25,
   "id": "59f9f201-6069-4340-bdeb-efbeb8e6e57f",
   "metadata": {},
   "outputs": [
    {
     "data": {
      "text/plain": [
       "[6, 14, 24, 36, 50]"
      ]
     },
     "execution_count": 25,
     "metadata": {},
     "output_type": "execute_result"
    }
   ],
   "source": [
    "l1 = [1,2,3,4,5]\n",
    "l2 = [6,7,8,9,10]\n",
    "l3 = [11,12,13,14,15,16,17]\n",
    "\n",
    "list(map(lambda x,y : x*y, l1,l2))  # l1 ve l2 listesinin elemanlarını çarpar, skaler çarpım gibi "
   ]
  },
  {
   "cell_type": "code",
   "execution_count": 26,
   "id": "6e563354-66d1-44e2-9de4-06e94871f8ed",
   "metadata": {},
   "outputs": [
    {
     "data": {
      "text/plain": [
       "[66, 168, 312, 504, 750]"
      ]
     },
     "execution_count": 26,
     "metadata": {},
     "output_type": "execute_result"
    }
   ],
   "source": [
    "list(map(lambda x,y,z : x*y*z, l1,l2,l3)) # indiz indiz çarpılır, fazla terimler ihmal edilir. "
   ]
  },
  {
   "cell_type": "markdown",
   "id": "cad86774-cbee-44aa-80f9-10491659fb35",
   "metadata": {},
   "source": [
    "# Reduce fonksiyonu"
   ]
  },
  {
   "cell_type": "code",
   "execution_count": 27,
   "id": "dcb0c21d-d18b-4ebf-ae3d-be61dcef500d",
   "metadata": {},
   "outputs": [],
   "source": [
    "from functools import reduce"
   ]
  },
  {
   "cell_type": "code",
   "execution_count": 33,
   "id": "67b7c52f-fed2-4ea2-b413-202d32719fd5",
   "metadata": {},
   "outputs": [
    {
     "data": {
      "text/plain": [
       "60"
      ]
     },
     "execution_count": 33,
     "metadata": {},
     "output_type": "execute_result"
    }
   ],
   "source": [
    "reduce(lambda x,y : x+y, [12, 18, 20, 10])"
   ]
  },
  {
   "cell_type": "code",
   "execution_count": 35,
   "id": "372ccb94-7c2f-4204-80af-8aefbb532842",
   "metadata": {},
   "outputs": [
    {
     "data": {
      "image/jpeg": "[encoded data removed]",
      "text/plain": [
       "<IPython.core.display.Image object>"
      ]
     },
     "execution_count": 35,
     "metadata": {},
     "output_type": "execute_result"
    }
   ],
   "source": [
    "from IPython.display import Image\n",
    "Image(filename = \"reduce.jpeg\")"
   ]
  },
  {
   "cell_type": "code",
   "execution_count": 28,
   "id": "52278408-df63-4b17-8447-4e09999b4c56",
   "metadata": {},
   "outputs": [
    {
     "data": {
      "text/plain": [
       "120"
      ]
     },
     "execution_count": 28,
     "metadata": {},
     "output_type": "execute_result"
    }
   ],
   "source": [
    "reduce(lambda x,y: x*y, [1,2,3,4,5])"
   ]
  },
  {
   "cell_type": "code",
   "execution_count": 32,
   "id": "a25dc37d-9918-4564-806a-ed0c34cc052e",
   "metadata": {},
   "outputs": [
    {
     "data": {
      "text/plain": [
       "15"
      ]
     },
     "execution_count": 32,
     "metadata": {},
     "output_type": "execute_result"
    }
   ],
   "source": [
    "reduce(lambda x,y: x+y, [1,2,3,4,5])"
   ]
  },
  {
   "cell_type": "code",
   "execution_count": 36,
   "id": "d37285ee-4188-40bc-b740-028a0b86e90b",
   "metadata": {},
   "outputs": [],
   "source": [
    "def maksimum(x,y):\n",
    "    if (x > y):\n",
    "        return x\n",
    "    else:\n",
    "        return y"
   ]
  },
  {
   "cell_type": "code",
   "execution_count": 37,
   "id": "e06fa571-00ec-47aa-b770-bb72db75ac2d",
   "metadata": {},
   "outputs": [
    {
     "data": {
      "text/plain": [
       "9"
      ]
     },
     "execution_count": 37,
     "metadata": {},
     "output_type": "execute_result"
    }
   ],
   "source": [
    "maksimum(7,9)"
   ]
  },
  {
   "cell_type": "code",
   "execution_count": 38,
   "id": "99cefaf8-53d8-4789-9988-84f441dd5562",
   "metadata": {},
   "outputs": [
    {
     "data": {
      "text/plain": [
       "4"
      ]
     },
     "execution_count": 38,
     "metadata": {},
     "output_type": "execute_result"
    }
   ],
   "source": [
    "maksimum(4,2)"
   ]
  },
  {
   "cell_type": "code",
   "execution_count": 39,
   "id": "3cca2379-4cd9-4d3d-b578-87082d0e2ad0",
   "metadata": {},
   "outputs": [
    {
     "data": {
      "text/plain": [
       "10"
      ]
     },
     "execution_count": 39,
     "metadata": {},
     "output_type": "execute_result"
    }
   ],
   "source": [
    "reduce(maksimum, [-2,3,1,4,10]) # listenin maksimum elemanı bulmak "
   ]
  },
  {
   "cell_type": "markdown",
   "id": "7515eb32-06af-4806-bf79-a766067a0085",
   "metadata": {},
   "source": [
    "# filter fonksiyonu "
   ]
  },
  {
   "cell_type": "code",
   "execution_count": 40,
   "id": "d00e5106-eed7-4159-b49a-4be79b4ce53a",
   "metadata": {},
   "outputs": [
    {
     "data": {
      "text/plain": [
       "[2, 4, 6, 8, 10, 12, 14]"
      ]
     },
     "execution_count": 40,
     "metadata": {},
     "output_type": "execute_result"
    }
   ],
   "source": [
    "list(filter(lambda x : x % 2 == 0, range(1,15)))"
   ]
  },
  {
   "cell_type": "code",
   "execution_count": 41,
   "id": "1fb00a85-06eb-454d-abd0-233e137baf96",
   "metadata": {},
   "outputs": [],
   "source": [
    "def asal(x):\n",
    "    i = 2\n",
    "    if(x == 1):\n",
    "        return False # asal değil\n",
    "    elif(x == 2):\n",
    "        return True # asal sayı\n",
    "    else: \n",
    "        while (i < x):\n",
    "            if (x % i == 0):\n",
    "                return False # Asal değil\n",
    "            i += 1\n",
    "        return True"
   ]
  },
  {
   "cell_type": "code",
   "execution_count": 42,
   "id": "ed20a0fd-9758-4729-9685-4687d90cb1a6",
   "metadata": {},
   "outputs": [
    {
     "data": {
      "text/plain": [
       "True"
      ]
     },
     "execution_count": 42,
     "metadata": {},
     "output_type": "execute_result"
    }
   ],
   "source": [
    "asal(2)"
   ]
  },
  {
   "cell_type": "code",
   "execution_count": 43,
   "id": "a70f8f5c-6211-4ca5-ae29-71fd2a532408",
   "metadata": {},
   "outputs": [
    {
     "data": {
      "text/plain": [
       "False"
      ]
     },
     "execution_count": 43,
     "metadata": {},
     "output_type": "execute_result"
    }
   ],
   "source": [
    "asal(6)"
   ]
  },
  {
   "cell_type": "code",
   "execution_count": 44,
   "id": "7b9ea833-3e93-41f1-8e40-e96ec8664b1c",
   "metadata": {},
   "outputs": [
    {
     "data": {
      "text/plain": [
       "[2,\n",
       " 3,\n",
       " 5,\n",
       " 7,\n",
       " 11,\n",
       " 13,\n",
       " 17,\n",
       " 19,\n",
       " 23,\n",
       " 29,\n",
       " 31,\n",
       " 37,\n",
       " 41,\n",
       " 43,\n",
       " 47,\n",
       " 53,\n",
       " 59,\n",
       " 61,\n",
       " 67,\n",
       " 71,\n",
       " 73,\n",
       " 79,\n",
       " 83,\n",
       " 89,\n",
       " 97]"
      ]
     },
     "execution_count": 44,
     "metadata": {},
     "output_type": "execute_result"
    }
   ],
   "source": [
    "list(filter(asal, range(1,100)))"
   ]
  },
  {
   "cell_type": "code",
   "execution_count": 47,
   "id": "a113c117-3d8a-4ed3-98e3-c0ea1ffe5338",
   "metadata": {},
   "outputs": [
    {
     "data": {
      "text/plain": [
       "[2, 3, 5, 7, 11, 13, 17, 19]"
      ]
     },
     "execution_count": 47,
     "metadata": {},
     "output_type": "execute_result"
    }
   ],
   "source": [
    "list(filter(asal, range(1,20)))"
   ]
  },
  {
   "cell_type": "markdown",
   "id": "c79433db-b217-4165-91c9-e578970aa68d",
   "metadata": {},
   "source": [
    "# zip()"
   ]
  },
  {
   "cell_type": "code",
   "execution_count": 48,
   "id": "ad1fda0a-a5ae-4a68-995f-3c45815c56c0",
   "metadata": {},
   "outputs": [
    {
     "name": "stdout",
     "output_type": "stream",
     "text": [
      "[(1, 6), (2, 7), (3, 8), (4, 9), (5, 10)]\n"
     ]
    }
   ],
   "source": [
    "l1 = [1,2,3,4,5]\n",
    "l2 = [6,7,8,9,10,11,12] \n",
    "\n",
    "i = 0 \n",
    "sonuç = list()\n",
    "while (i < len(l1) and i < len(l2)):\n",
    "    sonuç.append((l1[i],l2[i]))\n",
    "    i += 1\n",
    "print(sonuç)"
   ]
  },
  {
   "cell_type": "code",
   "execution_count": 49,
   "id": "0499f78b-c0e1-4371-86c3-2fe176602984",
   "metadata": {},
   "outputs": [
    {
     "data": {
      "text/plain": [
       "[(1, 6), (2, 7), (3, 8), (4, 9), (5, 10)]"
      ]
     },
     "execution_count": 49,
     "metadata": {},
     "output_type": "execute_result"
    }
   ],
   "source": [
    "list(zip(l1, l2))"
   ]
  },
  {
   "cell_type": "code",
   "execution_count": 51,
   "id": "f5ae334f-247f-4689-9130-e77886f1dcdb",
   "metadata": {},
   "outputs": [
    {
     "data": {
      "text/plain": [
       "[(1, 6, 'Python'), (2, 7, 'C++'), (3, 8, 'Java'), (4, 9, 'Reduce')]"
      ]
     },
     "execution_count": 51,
     "metadata": {},
     "output_type": "execute_result"
    }
   ],
   "source": [
    "l1 = [1,2,3,4,5]\n",
    "l2 = [6,7,8,9,10,11,12] \n",
    "l3 = [\"Python\", \"C++\", \"Java\", \"Reduce\"]\n",
    "\n",
    "list(zip(l1, l2, l3))"
   ]
  },
  {
   "cell_type": "code",
   "execution_count": 53,
   "id": "e56b389f-9fcc-41be-ae86-d1500baef7e6",
   "metadata": {},
   "outputs": [
    {
     "name": "stdout",
     "output_type": "stream",
     "text": [
      "i: 1 \tj: 6\n",
      "i: 2 \tj: 7\n",
      "i: 3 \tj: 8\n",
      "i: 4 \tj: 9\n",
      "i: 5 \tj: 10\n"
     ]
    }
   ],
   "source": [
    "for i, j in zip(l1, l2):\n",
    "    print(\"i:\", i, \"\\tj:\", j)"
   ]
  },
  {
   "cell_type": "code",
   "execution_count": 54,
   "id": "21532247-e1b7-4007-b62f-b293e9d0eac5",
   "metadata": {},
   "outputs": [
    {
     "name": "stdout",
     "output_type": "stream",
     "text": [
      "i: 1 \tj: 6 \tk: Python\n",
      "i: 2 \tj: 7 \tk: C++\n",
      "i: 3 \tj: 8 \tk: Java\n",
      "i: 4 \tj: 9 \tk: Reduce\n"
     ]
    }
   ],
   "source": [
    "for i, j, k in zip(l1, l2, l3):\n",
    "    print(\"i:\", i, \"\\tj:\", j, \"\\tk:\", k)"
   ]
  },
  {
   "cell_type": "code",
   "execution_count": 55,
   "id": "3841060b-b55a-43e7-81b6-10f3b7aa2019",
   "metadata": {},
   "outputs": [],
   "source": [
    "s1 = {\"elektron\": 1, \"proton\": 2, \"nötron\": 3}\n",
    "s2 = {\"beta_eksi\": 1, \"pozitron\" : 2, \"gama\": 4}"
   ]
  },
  {
   "cell_type": "code",
   "execution_count": 56,
   "id": "f1414b6b-43c5-4980-809a-80bb1ad83310",
   "metadata": {},
   "outputs": [
    {
     "data": {
      "text/plain": [
       "[('elektron', 'beta_eksi'), ('proton', 'pozitron'), ('nötron', 'gama')]"
      ]
     },
     "execution_count": 56,
     "metadata": {},
     "output_type": "execute_result"
    }
   ],
   "source": [
    "list(zip(s1, s2))"
   ]
  },
  {
   "cell_type": "code",
   "execution_count": 60,
   "id": "06c0b90e-3527-494e-83e6-834d11c4b10e",
   "metadata": {},
   "outputs": [
    {
     "data": {
      "text/plain": [
       "[(1, 1), (2, 2), (3, 4)]"
      ]
     },
     "execution_count": 60,
     "metadata": {},
     "output_type": "execute_result"
    }
   ],
   "source": [
    "list(zip(s1.values(),s2.values()))"
   ]
  },
  {
   "cell_type": "code",
   "execution_count": 61,
   "id": "b3cc19f2-781e-4a4f-bc65-470177ebf786",
   "metadata": {},
   "outputs": [
    {
     "data": {
      "text/plain": [
       "dict_values([1, 2, 3])"
      ]
     },
     "execution_count": 61,
     "metadata": {},
     "output_type": "execute_result"
    }
   ],
   "source": [
    "s1.values()"
   ]
  },
  {
   "cell_type": "markdown",
   "id": "be799fdb-cfec-46ab-839b-d3dddc3ced5e",
   "metadata": {},
   "source": [
    "# enumerate() fonksiyonu "
   ]
  },
  {
   "cell_type": "code",
   "execution_count": 62,
   "id": "8c184336-71bf-4566-a16a-fc280e425a6a",
   "metadata": {},
   "outputs": [
    {
     "name": "stdout",
     "output_type": "stream",
     "text": [
      "[(0, 'elektron'), (1, 'proton'), (2, 'nötron'), (3, 'alfa'), (4, 'beta'), (5, 'gama')]\n"
     ]
    }
   ],
   "source": [
    "liste = [\"elektron\", \"proton\", \"nötron\", \"alfa\", \"beta\", \"gama\"]\n",
    "\n",
    "sonuç = []\n",
    "\n",
    "i = 0\n",
    "\n",
    "for j in liste:\n",
    "    sonuç.append((i, j))\n",
    "    i += 1\n",
    "print(sonuç)"
   ]
  },
  {
   "cell_type": "code",
   "execution_count": 65,
   "id": "4618e1f9-e9cd-4550-b5ac-465a0f5a7121",
   "metadata": {},
   "outputs": [
    {
     "data": {
      "text/plain": [
       "[(0, 'elektron'),\n",
       " (1, 'proton'),\n",
       " (2, 'nötron'),\n",
       " (3, 'alfa'),\n",
       " (4, 'beta'),\n",
       " (5, 'gama')]"
      ]
     },
     "execution_count": 65,
     "metadata": {},
     "output_type": "execute_result"
    }
   ],
   "source": [
    "list(enumerate(liste))"
   ]
  },
  {
   "cell_type": "code",
   "execution_count": 67,
   "id": "1ec1334e-2fcc-4446-84f4-670a87b5ac59",
   "metadata": {},
   "outputs": [
    {
     "name": "stdout",
     "output_type": "stream",
     "text": [
      "0 elektron\n",
      "1 proton\n",
      "2 nötron\n",
      "3 alfa\n",
      "4 beta\n",
      "5 gama\n"
     ]
    }
   ],
   "source": [
    "for i,j in enumerate(liste):\n",
    "    print(i,j)"
   ]
  },
  {
   "cell_type": "code",
   "execution_count": 68,
   "id": "4bb1d109-0010-494a-8700-4a062ffae13d",
   "metadata": {},
   "outputs": [],
   "source": [
    "liste = [\"a\", \"b\", \"c\", \"d\", \"e\", \"f\", \"g\", \"h\"]"
   ]
  },
  {
   "cell_type": "code",
   "execution_count": 71,
   "id": "4bc18950-7477-49ba-99a2-f5094d3aea9c",
   "metadata": {},
   "outputs": [
    {
     "name": "stdout",
     "output_type": "stream",
     "text": [
      "eleman: a\n",
      "eleman: c\n",
      "eleman: e\n",
      "eleman: g\n"
     ]
    }
   ],
   "source": [
    "for i, j in enumerate(liste):\n",
    "    if(i % 2 == 0):\n",
    "        print(\"eleman:\", j) # listede, indizi çift olan elemanlar"
   ]
  },
  {
   "cell_type": "markdown",
   "id": "d28d91e7-f5a8-4601-88bf-4ca02911f465",
   "metadata": {},
   "source": [
    "# all() ve any() fonksiyonları"
   ]
  },
  {
   "cell_type": "code",
   "execution_count": 72,
   "id": "e6464181-7502-494c-add4-9a8c451b6c48",
   "metadata": {},
   "outputs": [],
   "source": [
    "def h(l):\n",
    "    for i in l:\n",
    "        if not i: # i False ise not i True olur ve return ile False döndürüyoruz \n",
    "            return False\n",
    "    return True # bütün değerler True ise True, en az biri False ise False döndürmek istiyoruz. "
   ]
  },
  {
   "cell_type": "code",
   "execution_count": 73,
   "id": "7a0535a6-3d37-4528-b05f-5e36113854fe",
   "metadata": {},
   "outputs": [],
   "source": [
    "liste = [True, True, False, True, True]"
   ]
  },
  {
   "cell_type": "code",
   "execution_count": 74,
   "id": "59b588db-e7c2-4ae8-8db5-5d06ef10a7df",
   "metadata": {},
   "outputs": [
    {
     "data": {
      "text/plain": [
       "False"
      ]
     },
     "execution_count": 74,
     "metadata": {},
     "output_type": "execute_result"
    }
   ],
   "source": [
    "h(liste)"
   ]
  },
  {
   "cell_type": "code",
   "execution_count": 75,
   "id": "d7972bcc-29d5-42ca-aabf-fc93d687fef6",
   "metadata": {},
   "outputs": [
    {
     "data": {
      "text/plain": [
       "True"
      ]
     },
     "execution_count": 75,
     "metadata": {},
     "output_type": "execute_result"
    }
   ],
   "source": [
    "l2 = [True, True, True, True]\n",
    "\n",
    "h(l2)"
   ]
  },
  {
   "cell_type": "code",
   "execution_count": 76,
   "id": "18b4f59b-a2a2-4b70-bb25-441b0d326057",
   "metadata": {},
   "outputs": [
    {
     "data": {
      "text/plain": [
       "True"
      ]
     },
     "execution_count": 76,
     "metadata": {},
     "output_type": "execute_result"
    }
   ],
   "source": [
    "l2 = [-2, 1, 2, 3, 4]\n",
    "\n",
    "h(l2)"
   ]
  },
  {
   "cell_type": "code",
   "execution_count": 84,
   "id": "38f86097-82a7-4f2b-adac-0336903b179d",
   "metadata": {},
   "outputs": [],
   "source": [
    "def h2(l):\n",
    "    for i in l:\n",
    "        if i: \n",
    "            return True\n",
    "    return False # herhangi bir değer True ise True döner"
   ]
  },
  {
   "cell_type": "code",
   "execution_count": 85,
   "id": "1dd4184e-3fcd-4847-8760-8b8fdcb7d880",
   "metadata": {},
   "outputs": [
    {
     "data": {
      "text/plain": [
       "True"
      ]
     },
     "execution_count": 85,
     "metadata": {},
     "output_type": "execute_result"
    }
   ],
   "source": [
    "h2(liste)"
   ]
  },
  {
   "cell_type": "code",
   "execution_count": 86,
   "id": "9e92e3c6-84ce-4a55-a3e3-c7d6cf77e8e0",
   "metadata": {},
   "outputs": [
    {
     "data": {
      "text/plain": [
       "True"
      ]
     },
     "execution_count": 86,
     "metadata": {},
     "output_type": "execute_result"
    }
   ],
   "source": [
    "h2(l)"
   ]
  },
  {
   "cell_type": "code",
   "execution_count": 87,
   "id": "6e488cbb-8103-49c4-9a8b-e8438eb15bff",
   "metadata": {},
   "outputs": [
    {
     "data": {
      "text/plain": [
       "False"
      ]
     },
     "execution_count": 87,
     "metadata": {},
     "output_type": "execute_result"
    }
   ],
   "source": [
    "l3 = [0,0,0,0,0,0]\n",
    "\n",
    "h2(l3)"
   ]
  },
  {
   "cell_type": "code",
   "execution_count": 88,
   "id": "9b3b14b6-0b2b-4e58-b0cb-85af41e987b7",
   "metadata": {},
   "outputs": [
    {
     "data": {
      "text/plain": [
       "True"
      ]
     },
     "execution_count": 88,
     "metadata": {},
     "output_type": "execute_result"
    }
   ],
   "source": [
    "l4 = [0,0,0,0,0,0,1]\n",
    "\n",
    "h2(l4)"
   ]
  },
  {
   "cell_type": "markdown",
   "id": "16d9d86c-42b1-462d-91c4-755d7b4818e2",
   "metadata": {},
   "source": [
    "# all() fonksiyonu"
   ]
  },
  {
   "cell_type": "code",
   "execution_count": 89,
   "id": "24d7f26a-e53d-41c1-acac-3133a2f73c9f",
   "metadata": {},
   "outputs": [],
   "source": [
    "liste = [True, True, False, True, True]"
   ]
  },
  {
   "cell_type": "code",
   "execution_count": 90,
   "id": "ccdce624-1e47-4a12-85ed-4725a5d6e62f",
   "metadata": {},
   "outputs": [
    {
     "data": {
      "text/plain": [
       "False"
      ]
     },
     "execution_count": 90,
     "metadata": {},
     "output_type": "execute_result"
    }
   ],
   "source": [
    "all(liste)"
   ]
  },
  {
   "cell_type": "code",
   "execution_count": 91,
   "id": "b1c1e8de-3101-49c3-be7c-e55e72b4233c",
   "metadata": {},
   "outputs": [
    {
     "data": {
      "text/plain": [
       "True"
      ]
     },
     "execution_count": 91,
     "metadata": {},
     "output_type": "execute_result"
    }
   ],
   "source": [
    "all([True,True,True])"
   ]
  },
  {
   "cell_type": "markdown",
   "id": "d2833d33-351f-4aa0-9c7a-1b8e95885ebe",
   "metadata": {},
   "source": [
    "# any() fonksiyonu"
   ]
  },
  {
   "cell_type": "code",
   "execution_count": 92,
   "id": "81316a8e-a825-4066-b077-d4adca713582",
   "metadata": {},
   "outputs": [
    {
     "data": {
      "text/plain": [
       "True"
      ]
     },
     "execution_count": 92,
     "metadata": {},
     "output_type": "execute_result"
    }
   ],
   "source": [
    "any(liste)"
   ]
  },
  {
   "cell_type": "code",
   "execution_count": 93,
   "id": "02417000-6660-4a55-9895-c65f8d5366eb",
   "metadata": {},
   "outputs": [
    {
     "data": {
      "text/plain": [
       "False"
      ]
     },
     "execution_count": 93,
     "metadata": {},
     "output_type": "execute_result"
    }
   ],
   "source": [
    "any([False, False, False])"
   ]
  },
  {
   "cell_type": "code",
   "execution_count": 96,
   "id": "bddb61b3-2eb8-41c7-8963-934a156d6820",
   "metadata": {},
   "outputs": [
    {
     "name": "stdout",
     "output_type": "stream",
     "text": [
      "       A      B  A AND B  A OR B    all    any\n",
      "0  False  False    False   False  False  False\n",
      "1  False   True    False    True  False   True\n",
      "2   True  False    False    True  False   True\n",
      "3   True   True     True    True   True   True\n"
     ]
    }
   ],
   "source": [
    "import pandas as pd\n",
    "\n",
    "# İki girişli AND kapısının tüm mümkün giriş kombinasyonları\n",
    "girisler = [(False, False), (False, True), (True, False), (True, True)]\n",
    "\n",
    "# Doğruluk tablosunu oluştur\n",
    "df = pd.DataFrame(girisler, columns=['A', 'B'])\n",
    "\n",
    "# AND işlemini uygula ve sonucu yeni bir sütun olarak ekle\n",
    "df['A AND B'] = df.apply(lambda row: row['A'] and row['B'], axis=1)\n",
    "df['A OR B'] = df.apply(lambda row: row['A'] or row['B'], axis=1)\n",
    "\n",
    "# all ve any fonksiyonlarını kullanarak kontrol et\n",
    "# all() fonksiyonu, tüm değerler True ise True döndürür.\n",
    "# any() fonksiyonu, herhangi bir değer True ise True döndürür.\n",
    "df['all'] = df.all(axis=1)\n",
    "df['any'] = df.any(axis=1)\n",
    "\n",
    "print(df)"
   ]
  },
  {
   "cell_type": "markdown",
   "id": "5845cfe1-ae9a-4f5b-b26a-7e561cbf11ed",
   "metadata": {},
   "source": [
    "# Örnek 1"
   ]
  },
  {
   "cell_type": "markdown",
   "id": "7d05f6f5-0794-45ad-80d8-13fb3f0b871e",
   "metadata": {},
   "source": [
    "Elinizde bir dikdörtgenin kenarlarını ifade eden sayı çiftlerinin bulunduğu bir liste olsun.\n",
    "\n",
    "         [(3,4),(10,3),(5,6),(1,9)]\n",
    "\n",
    "Şimdi kenar uzunluklarına göre dikdörtgenin alanını hesaplayan bir fonksiyon yazın ve bu listenin her bir elemanına bu fonksiyonu uygulayarak ekrana şöyle bir liste yazdırın.\n",
    "\n",
    "         [12, 30, 30, 9]"
   ]
  },
  {
   "cell_type": "code",
   "execution_count": 1,
   "id": "64815cc4-430a-47f5-8ffd-af04185e6d31",
   "metadata": {},
   "outputs": [
    {
     "name": "stdout",
     "output_type": "stream",
     "text": [
      "[12, 30, 30, 9]\n"
     ]
    }
   ],
   "source": [
    "def alan_hesapla(demet):\n",
    "    return demet[0] * demet[1]\n",
    "\n",
    "liste = [(3,4),(10,3),(5,6),(1,9)]\n",
    "\n",
    "print(list(map(alan_hesapla,liste)))"
   ]
  },
  {
   "cell_type": "markdown",
   "id": "a0c714e5-6dd9-4f1e-8f0d-ddd66d0c0a0d",
   "metadata": {},
   "source": [
    "# Örnek 2"
   ]
  },
  {
   "cell_type": "markdown",
   "id": "08d141e2-51e0-4a4e-b8b2-cb3e7937ee26",
   "metadata": {},
   "source": [
    "Elinizden her bir elemanı 3'lü bir demet olan bir liste olsun.\n",
    "\n",
    "     [(3,4,5),(6,8,10),(3,10,7)]\n",
    "\n",
    "Şimdi kenar uzunluklarına göre bu kenarların bir üçgen olup olmadığını dönen bir fonksiyon yazın ve sadece üçgen belirten kenarları bulunduran listeyi ekrana yazdırın.\n",
    "\n",
    "     [(3, 4, 5), (6, 8, 10)]\n",
    "\n",
    "*** Not: filter() fonksiyonunu kullanmaya çalışın. ***"
   ]
  },
  {
   "cell_type": "code",
   "execution_count": 3,
   "id": "0f7fe335-7d2b-4bc0-b850-a84ca7550be2",
   "metadata": {},
   "outputs": [
    {
     "name": "stdout",
     "output_type": "stream",
     "text": [
      "[(3, 4, 5), (6, 8, 10)]\n"
     ]
    }
   ],
   "source": [
    "def üçgen_mi(demet):\n",
    "    \n",
    "    if (abs(demet[0]+demet[1]) > demet[2] and abs(demet[0]+demet[2]) > demet[1] and abs(demet[1]+demet[2]) > demet[0]):\n",
    "        return True\n",
    "    else:\n",
    "        return False\n",
    "\n",
    "liste = [(3,4,5),(6,8,10),(3,10,7)]\n",
    "\n",
    "print(list(filter(üçgen_mi,liste)))"
   ]
  },
  {
   "cell_type": "markdown",
   "id": "8acf0229-8283-46bb-ba42-6d3007d72acf",
   "metadata": {},
   "source": [
    "# Örnek 3 "
   ]
  },
  {
   "cell_type": "markdown",
   "id": "06bb1811-41f7-4ce4-b4cb-e39e74ae531d",
   "metadata": {},
   "source": [
    "Elinizde şöyle bir liste bulunsun.\n",
    "\n",
    "    [1,2,3,4,5,6,7,8,9,10]\n",
    "\n",
    "Bu listenin içindeki çift sayıların toplamını ekrana yazdıran bir fonksiyon yazın.\n",
    "\n",
    "*Not: İlk önce filter() fonksiyonu ile çift sayıları ayıklayın. Daha sonra reduce() fonksiyonunu kullanın.*"
   ]
  },
  {
   "cell_type": "code",
   "execution_count": 4,
   "id": "ae596492-4db7-4177-b419-6b8d28c81056",
   "metadata": {},
   "outputs": [
    {
     "name": "stdout",
     "output_type": "stream",
     "text": [
      "30\n"
     ]
    }
   ],
   "source": [
    "from functools import reduce\n",
    "liste = [1,2,3,4,5,6,7,8,9,10]\n",
    "\n",
    "filtre = list(filter(lambda x : x % 2 == 0,liste))\n",
    "\n",
    "print(reduce(lambda x,y : x + y,filtre))"
   ]
  },
  {
   "cell_type": "markdown",
   "id": "afd772f1-2bb8-47e2-b028-aef70511d57b",
   "metadata": {},
   "source": [
    "# Örnek 4"
   ]
  },
  {
   "cell_type": "markdown",
   "id": "272a507e-9838-4d11-8337-7f230640986e",
   "metadata": {},
   "source": [
    "Elinizde isimlerin ve soyisimlerin bulunduğu iki tane liste olsun.\n",
    "\n",
    "        isimler -----> [\"Kerim\",\"Tarık\",\"Ezgi\",\"Kemal\",\"İlkay\",\"Şükran\",\"Merve\"]\n",
    "\n",
    "        soyisimler -----> [\"Yılmaz\",\"Öztürk\",\"Dağdeviren\",\"Atatürk\",\"Dikmen\",\"Kaya\",\"Polat\"]\n",
    "\n",
    "Bu isimleri ve soyisimleri sırasıyla eşleştirin ve ekrana alt alta isimleri ve soyisimleri yazdırın.\n",
    "\n",
    "*Not: zip() fonksiyonunu kullanmaya çalışın. *"
   ]
  },
  {
   "cell_type": "code",
   "execution_count": 5,
   "id": "ceeccc4a-977f-4494-a972-8cf16e4b8d49",
   "metadata": {},
   "outputs": [
    {
     "name": "stdout",
     "output_type": "stream",
     "text": [
      "Kerim \t Yılmaz\n",
      "Tarık \t Öztürk\n",
      "Ezgi \t Dağdeviren\n",
      "Kemal \t Atatürk\n",
      "İlkay \t Dikmen\n",
      "Şükran \t Kaya\n",
      "Merve \t Polat\n"
     ]
    }
   ],
   "source": [
    "isimler = [\"Kerim\",\"Tarık\",\"Ezgi\",\"Kemal\",\"İlkay\",\"Şükran\",\"Merve\"]\n",
    "\n",
    "soyisimler = [\"Yılmaz\",\"Öztürk\",\"Dağdeviren\",\"Atatürk\",\"Dikmen\",\"Kaya\",\"Polat\"]\n",
    "\n",
    "for i,j in zip(isimler,soyisimler):\n",
    "    print(i, \"\\t\", j)"
   ]
  },
  {
   "cell_type": "code",
   "execution_count": null,
   "id": "b1c1f4fb-126b-4a57-bc6b-b93903ab6ec7",
   "metadata": {},
   "outputs": [],
   "source": []
  }
 ],
 "metadata": {
  "kernelspec": {
   "display_name": "Python 3 (ipykernel)",
   "language": "python",
   "name": "python3"
  },
  "language_info": {
   "codemirror_mode": {
    "name": "ipython",
    "version": 3
   },
   "file_extension": ".py",
   "mimetype": "text/x-python",
   "name": "python",
   "nbconvert_exporter": "python",
   "pygments_lexer": "ipython3",
   "version": "3.11.8"
  }
 },
 "nbformat": 4,
 "nbformat_minor": 5
}
