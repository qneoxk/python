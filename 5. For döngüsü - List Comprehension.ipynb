{
 "cells": [
  {
   "cell_type": "markdown",
   "metadata": {},
   "source": [
    "# For döngüsü"
   ]
  },
  {
   "cell_type": "markdown",
   "metadata": {},
   "source": [
    "## in operatörü "
   ]
  },
  {
   "cell_type": "code",
   "execution_count": 1,
   "metadata": {},
   "outputs": [
    {
     "data": {
      "text/plain": [
       "True"
      ]
     },
     "execution_count": 1,
     "metadata": {},
     "output_type": "execute_result"
    }
   ],
   "source": [
    "5 in [1, 2, 3, 4, 5, 6]"
   ]
  },
  {
   "cell_type": "code",
   "execution_count": 2,
   "metadata": {},
   "outputs": [
    {
     "data": {
      "text/plain": [
       "False"
      ]
     },
     "execution_count": 2,
     "metadata": {},
     "output_type": "execute_result"
    }
   ],
   "source": [
    "9 in [1, 2, 3, 4, 5, 6]"
   ]
  },
  {
   "cell_type": "code",
   "execution_count": 3,
   "metadata": {},
   "outputs": [
    {
     "data": {
      "text/plain": [
       "True"
      ]
     },
     "execution_count": 3,
     "metadata": {},
     "output_type": "execute_result"
    }
   ],
   "source": [
    "\"p\" in \"python\""
   ]
  },
  {
   "cell_type": "markdown",
   "metadata": {},
   "source": [
    "# in operatörü ve for "
   ]
  },
  {
   "cell_type": "code",
   "execution_count": 4,
   "metadata": {},
   "outputs": [
    {
     "name": "stdout",
     "output_type": "stream",
     "text": [
      "1\n",
      "2\n",
      "3\n",
      "4\n",
      "5\n",
      "6\n"
     ]
    }
   ],
   "source": [
    "liste = [1, 2, 3, 4, 5, 6]\n",
    "\n",
    "for i in liste:\n",
    "    print(i)"
   ]
  },
  {
   "cell_type": "code",
   "execution_count": 5,
   "metadata": {},
   "outputs": [
    {
     "name": "stdout",
     "output_type": "stream",
     "text": [
      "P\n",
      "y\n",
      "t\n",
      "h\n",
      "o\n",
      "n\n"
     ]
    }
   ],
   "source": [
    "s = \"Python\"\n",
    "\n",
    "for j in s:\n",
    "    print(j)"
   ]
  },
  {
   "cell_type": "code",
   "execution_count": 6,
   "metadata": {},
   "outputs": [
    {
     "name": "stdout",
     "output_type": "stream",
     "text": [
      "1\n",
      "2\n",
      "3\n",
      "4\n",
      "5\n",
      "6\n"
     ]
    }
   ],
   "source": [
    "tup = (1, 2, 3, 4, 5, 6)\n",
    "\n",
    "for i in tup:\n",
    "    print(i)"
   ]
  },
  {
   "cell_type": "code",
   "execution_count": null,
   "metadata": {},
   "outputs": [],
   "source": [
    "liste = [1, 2, 3, 4, 5, 6]\n",
    "\n",
    "for i in liste:\n",
    "    print(i**2)"
   ]
  },
  {
   "cell_type": "code",
   "execution_count": 7,
   "metadata": {},
   "outputs": [
    {
     "data": {
      "text/plain": [
       "{'bir': 1, 'iki': 2, 'üç': 3, 'dört': 4, 'sene': '1945'}"
      ]
     },
     "execution_count": 7,
     "metadata": {},
     "output_type": "execute_result"
    }
   ],
   "source": [
    "sözlük1 = {\"bir\":1, \"iki\":2, \"üç\":3, \"dört\":4, \"sene\":\"1945\"}\n",
    "sözlük1"
   ]
  },
  {
   "cell_type": "code",
   "execution_count": 8,
   "metadata": {},
   "outputs": [
    {
     "data": {
      "text/plain": [
       "dict_items([('bir', 1), ('iki', 2), ('üç', 3), ('dört', 4), ('sene', '1945')])"
      ]
     },
     "execution_count": 8,
     "metadata": {},
     "output_type": "execute_result"
    }
   ],
   "source": [
    "sözlük1.items()"
   ]
  },
  {
   "cell_type": "code",
   "execution_count": 9,
   "metadata": {},
   "outputs": [
    {
     "name": "stdout",
     "output_type": "stream",
     "text": [
      "bir\n",
      "iki\n",
      "üç\n",
      "dört\n",
      "sene\n"
     ]
    }
   ],
   "source": [
    "for x in sözlük1:\n",
    "        print(x)"
   ]
  },
  {
   "cell_type": "code",
   "execution_count": 10,
   "metadata": {},
   "outputs": [
    {
     "name": "stdout",
     "output_type": "stream",
     "text": [
      "bir\n",
      "iki\n",
      "üç\n",
      "dört\n",
      "sene\n"
     ]
    }
   ],
   "source": [
    "for x in sözlük1.keys():\n",
    "        print(x)"
   ]
  },
  {
   "cell_type": "code",
   "execution_count": 11,
   "metadata": {},
   "outputs": [
    {
     "name": "stdout",
     "output_type": "stream",
     "text": [
      "1\n",
      "2\n",
      "3\n",
      "4\n",
      "1945\n"
     ]
    }
   ],
   "source": [
    "for x in sözlük1.values():\n",
    "        print(x)"
   ]
  },
  {
   "cell_type": "code",
   "execution_count": 12,
   "metadata": {},
   "outputs": [
    {
     "name": "stdout",
     "output_type": "stream",
     "text": [
      "bir  \t 1\n",
      "iki  \t 2\n",
      "üç  \t 3\n",
      "dört  \t 4\n",
      "sene  \t 1945\n"
     ]
    }
   ],
   "source": [
    "for x, y in sözlük1.items():\n",
    "        print(x,\" \\t\", y)"
   ]
  },
  {
   "cell_type": "markdown",
   "metadata": {},
   "source": [
    "# WE ARE THE CHAMPIONS"
   ]
  },
  {
   "cell_type": "code",
   "execution_count": 13,
   "metadata": {},
   "outputs": [
    {
     "data": {
      "text/plain": [
       "[1, 2, 3, 4, 5, 6]"
      ]
     },
     "execution_count": 13,
     "metadata": {},
     "output_type": "execute_result"
    }
   ],
   "source": [
    "liste"
   ]
  },
  {
   "cell_type": "code",
   "execution_count": 14,
   "metadata": {},
   "outputs": [
    {
     "name": "stdout",
     "output_type": "stream",
     "text": [
      "liste elemanlarının toplamı: 21\n"
     ]
    }
   ],
   "source": [
    "toplam = 0 \n",
    "\n",
    "for i in liste:\n",
    "    toplam = toplam + i\n",
    "    \n",
    "print(\"liste elemanlarının toplamı:\",toplam)"
   ]
  },
  {
   "cell_type": "code",
   "execution_count": null,
   "metadata": {},
   "outputs": [],
   "source": [
    "print(\"liste elemanlarının toplamı :\", sum(liste))"
   ]
  },
  {
   "cell_type": "code",
   "execution_count": 15,
   "metadata": {},
   "outputs": [
    {
     "data": {
      "text/plain": [
       "21"
      ]
     },
     "execution_count": 15,
     "metadata": {},
     "output_type": "execute_result"
    }
   ],
   "source": [
    "sum(liste) # sum operatörü"
   ]
  },
  {
   "cell_type": "code",
   "execution_count": 18,
   "metadata": {},
   "outputs": [
    {
     "name": "stdout",
     "output_type": "stream",
     "text": [
      "index: \t 0 \teleman : 1 \t toplam : 1\n",
      "index: \t 1 \teleman : 2 \t toplam : 3\n",
      "index: \t 2 \teleman : 3 \t toplam : 6\n",
      "index: \t 3 \teleman : 4 \t toplam : 10\n",
      "index: \t 4 \teleman : 5 \t toplam : 15\n",
      "index: \t 5 \teleman : 6 \t toplam : 21\n",
      "\n",
      "liste elemanlarının toplamı 21 dır.\n"
     ]
    }
   ],
   "source": [
    "toplam = 0 \n",
    "\n",
    "for i in liste:\n",
    "    toplam = toplam + i \n",
    "    print(\"index: \\t {} \\teleman : {} \\t toplam : {}\".format(i-1, i, toplam))\n",
    "    \n",
    "print(F\"\\nliste elemanlarının toplamı {toplam} dır.\")"
   ]
  },
  {
   "cell_type": "code",
   "execution_count": 19,
   "metadata": {},
   "outputs": [
    {
     "name": "stdout",
     "output_type": "stream",
     "text": [
      "7\n",
      "9\n",
      "23\n",
      "35\n",
      "55\n",
      "89\n"
     ]
    }
   ],
   "source": [
    "liste1 = [7, 8, 9, 12, 23, 35, 54, 55, 56, 89]\n",
    "\n",
    "for k in liste1: \n",
    "    if k % 2 == 1:\n",
    "        print(k)"
   ]
  },
  {
   "cell_type": "code",
   "execution_count": 20,
   "metadata": {},
   "outputs": [
    {
     "name": "stdout",
     "output_type": "stream",
     "text": [
      "8\n",
      "12\n",
      "54\n",
      "56\n"
     ]
    }
   ],
   "source": [
    "liste1 = [7, 8, 9, 12, 23, 35, 54, 55, 56, 89]\n",
    "\n",
    "for k in liste1: \n",
    "    if k % 2 == 0:\n",
    "        print(k)"
   ]
  },
  {
   "cell_type": "code",
   "execution_count": 21,
   "metadata": {},
   "outputs": [
    {
     "data": {
      "text/plain": [
       "[7, 9, 23, 35, 55, 89]"
      ]
     },
     "execution_count": 21,
     "metadata": {},
     "output_type": "execute_result"
    }
   ],
   "source": [
    "liste_tek = []\n",
    "\n",
    "for k in liste1: \n",
    "    if k % 2 == 1:\n",
    "        liste_tek.append(k)\n",
    "\n",
    "liste_tek"
   ]
  },
  {
   "cell_type": "code",
   "execution_count": 22,
   "metadata": {},
   "outputs": [
    {
     "data": {
      "text/plain": [
       "[8, 12, 54, 56]"
      ]
     },
     "execution_count": 22,
     "metadata": {},
     "output_type": "execute_result"
    }
   ],
   "source": [
    "liste_çift = []\n",
    "\n",
    "for k in liste1: \n",
    "    if k % 2 == 0:\n",
    "        liste_çift.append(k)\n",
    "\n",
    "liste_çift"
   ]
  },
  {
   "cell_type": "markdown",
   "metadata": {},
   "source": [
    "Stringler üzerinde gezinmek "
   ]
  },
  {
   "cell_type": "code",
   "execution_count": 23,
   "metadata": {},
   "outputs": [
    {
     "name": "stdout",
     "output_type": "stream",
     "text": [
      "P\n",
      "y\n",
      "t\n",
      "h\n",
      "o\n",
      "n\n"
     ]
    }
   ],
   "source": [
    "s = \"Python\"\n",
    "\n",
    "for j in s:\n",
    "    print(j)"
   ]
  },
  {
   "cell_type": "code",
   "execution_count": 24,
   "metadata": {},
   "outputs": [
    {
     "name": "stdout",
     "output_type": "stream",
     "text": [
      "PP\n",
      "yy\n",
      "tt\n",
      "hh\n",
      "oo\n",
      "nn\n"
     ]
    }
   ],
   "source": [
    "s = \"Python\"\n",
    "\n",
    "for j in s:\n",
    "    print(j + j)"
   ]
  },
  {
   "cell_type": "code",
   "execution_count": 25,
   "metadata": {},
   "outputs": [
    {
     "name": "stdout",
     "output_type": "stream",
     "text": [
      "PPPPPP\n",
      "yyyyyy\n",
      "tttttt\n",
      "hhhhhh\n",
      "oooooo\n",
      "nnnnnn\n"
     ]
    }
   ],
   "source": [
    "s = \"Python\"\n",
    "\n",
    "for j in s:\n",
    "    print(j+j+j+j+j+j)"
   ]
  },
  {
   "cell_type": "code",
   "execution_count": 26,
   "metadata": {},
   "outputs": [
    {
     "name": "stdout",
     "output_type": "stream",
     "text": [
      "PPPPP\n",
      "yyyyy\n",
      "ttttt\n",
      "hhhhh\n",
      "ooooo\n",
      "nnnnn\n"
     ]
    }
   ],
   "source": [
    "s = \"Python\"\n",
    "\n",
    "for j in s:\n",
    "    print(j * 5)"
   ]
  },
  {
   "cell_type": "code",
   "execution_count": 27,
   "metadata": {},
   "outputs": [
    {
     "name": "stdout",
     "output_type": "stream",
     "text": [
      "1\n",
      "2\n",
      "3\n",
      "4\n",
      "5\n",
      "6\n",
      "7\n",
      "8\n",
      "9\n",
      "10\n"
     ]
    }
   ],
   "source": [
    "tuplee = (1, 2, 3, 4, 5, 6, 7, 8, 9, 10)\n",
    "\n",
    "for k in tuplee:\n",
    "    print(k)"
   ]
  },
  {
   "cell_type": "code",
   "execution_count": 28,
   "metadata": {},
   "outputs": [
    {
     "name": "stdout",
     "output_type": "stream",
     "text": [
      "(1, 2)\n",
      "(2, 3)\n",
      "(3, 4)\n",
      "(4, 5)\n",
      "(5, 6)\n"
     ]
    }
   ],
   "source": [
    "liste = [(1,2), (2,3), (3,4), (4,5), (5,6)]\n",
    "\n",
    "for i in liste: \n",
    "    print(i)"
   ]
  },
  {
   "cell_type": "code",
   "execution_count": 29,
   "metadata": {},
   "outputs": [
    {
     "name": "stdout",
     "output_type": "stream",
     "text": [
      "1 2\n",
      "2 3\n",
      "3 4\n",
      "4 5\n",
      "5 6\n"
     ]
    }
   ],
   "source": [
    "for (i, j) in liste:\n",
    "    print(i, j)"
   ]
  },
  {
   "cell_type": "code",
   "execution_count": 30,
   "metadata": {},
   "outputs": [
    {
     "data": {
      "text/plain": [
       "[(1, 2), (2, 3), (3, 4), (4, 5), (5, 6)]"
      ]
     },
     "execution_count": 30,
     "metadata": {},
     "output_type": "execute_result"
    }
   ],
   "source": [
    "liste"
   ]
  },
  {
   "cell_type": "code",
   "execution_count": 31,
   "metadata": {},
   "outputs": [
    {
     "name": "stdout",
     "output_type": "stream",
     "text": [
      "i: 1 \tj: 2\n",
      "i: 2 \tj: 3\n",
      "i: 3 \tj: 4\n",
      "i: 4 \tj: 5\n",
      "i: 5 \tj: 6\n"
     ]
    }
   ],
   "source": [
    "for (i, j) in liste:\n",
    "    print(\"i: {} \\tj: {}\".format(i, j))"
   ]
  },
  {
   "cell_type": "code",
   "execution_count": 32,
   "metadata": {},
   "outputs": [
    {
     "name": "stdout",
     "output_type": "stream",
     "text": [
      "2\n",
      "6\n",
      "12\n",
      "20\n",
      "30\n"
     ]
    }
   ],
   "source": [
    "for (i, j) in liste:\n",
    "    print(i * j)"
   ]
  },
  {
   "cell_type": "code",
   "execution_count": 33,
   "metadata": {},
   "outputs": [
    {
     "name": "stdout",
     "output_type": "stream",
     "text": [
      "0 0 0\n",
      "1 2 3\n",
      "4 5 6\n",
      "8 9 0\n",
      "5 6 7\n"
     ]
    }
   ],
   "source": [
    "liste = [(0,0,0), (1,2,3), (4,5,6), (8,9,0), (5,6,7)]\n",
    "\n",
    "for (i, j, k) in liste:\n",
    "    print(i, j, k)"
   ]
  },
  {
   "cell_type": "code",
   "execution_count": 34,
   "metadata": {},
   "outputs": [
    {
     "name": "stdout",
     "output_type": "stream",
     "text": [
      "i: 0 \tj: 0 \tk: 0\n",
      "i: 1 \tj: 2 \tk: 3\n",
      "i: 4 \tj: 5 \tk: 6\n",
      "i: 8 \tj: 9 \tk: 0\n",
      "i: 15 \tj: 16 \tk: 17\n"
     ]
    }
   ],
   "source": [
    "liste = [(0,0,0), (1,2,3), (4,5,6), (8,9,0), (15,16,17)]\n",
    "\n",
    "for (i,j,k) in liste:\n",
    "    print(\"i: {} \\tj: {} \\tk: {}\".format(i,j,k))"
   ]
  },
  {
   "cell_type": "code",
   "execution_count": 35,
   "metadata": {},
   "outputs": [
    {
     "name": "stdout",
     "output_type": "stream",
     "text": [
      "0\n",
      "6\n",
      "15\n",
      "17\n",
      "48\n"
     ]
    }
   ],
   "source": [
    "liste = [(0,0,0), (1,2,3), (4,5,6), (8,9,0), (15,16,17)]\n",
    "\n",
    "for (i,j,k) in liste:\n",
    "    print(i + j + k)"
   ]
  },
  {
   "cell_type": "code",
   "execution_count": 36,
   "metadata": {},
   "outputs": [
    {
     "name": "stdout",
     "output_type": "stream",
     "text": [
      "0\n",
      "6\n",
      "120\n",
      "0\n",
      "4080\n"
     ]
    }
   ],
   "source": [
    "liste = [(0,0,0), (1,2,3), (4,5,6), (8,9,0), (15,16,17)]\n",
    "\n",
    "for (i,j,k) in liste:\n",
    "    print(i * j * k)"
   ]
  },
  {
   "cell_type": "markdown",
   "metadata": {},
   "source": [
    "# List comprehension (Liste Geliştirme)"
   ]
  },
  {
   "cell_type": "code",
   "execution_count": 39,
   "metadata": {},
   "outputs": [
    {
     "name": "stdout",
     "output_type": "stream",
     "text": [
      "indis : 0 \teleman: 1 \telemanın 9 katı : 9\n",
      "indis : 1 \teleman: 2 \telemanın 9 katı : 18\n",
      "indis : 2 \teleman: 3 \telemanın 9 katı : 27\n",
      "indis : 3 \teleman: 4 \telemanın 9 katı : 36\n",
      "indis : 4 \teleman: 5 \telemanın 9 katı : 45\n",
      "\n",
      " [9, 18, 27, 36, 45]\n"
     ]
    }
   ],
   "source": [
    "liste1 = [1, 2, 3, 4, 5]\n",
    "\n",
    "liste2 = []\n",
    "\n",
    "for i in liste1:\n",
    "    liste2.append(i * 9)\n",
    "    print(\"indis :\", i-1, \"\\teleman:\", liste1[i-1], \"\\telemanın 9 katı :\", i * 9)\n",
    "print(\"\\n\", liste2)"
   ]
  },
  {
   "cell_type": "code",
   "execution_count": 40,
   "metadata": {},
   "outputs": [
    {
     "data": {
      "text/plain": [
       "[9, 18, 27, 36, 45]"
      ]
     },
     "execution_count": 40,
     "metadata": {},
     "output_type": "execute_result"
    }
   ],
   "source": [
    "liste3 = [i * 9 for i in liste1]\n",
    "liste3"
   ]
  },
  {
   "cell_type": "code",
   "execution_count": 41,
   "metadata": {},
   "outputs": [
    {
     "name": "stdout",
     "output_type": "stream",
     "text": [
      "\n",
      " [1, 4, 9, 16, 25, 36, 49, 81, 100]\n"
     ]
    }
   ],
   "source": [
    "l1 = [1, 2, 3, 4, 5, 6, 7, 9, 10]\n",
    "\n",
    "l2= []\n",
    "\n",
    "for i in l1:\n",
    "    l2.append(i ** 2)\n",
    "    #print(\"indis :\", i-1, \"\\teleman:\", i, \"\\telemanın karesi :\", i ** 2)\n",
    "print(\"\\n\", l2)"
   ]
  },
  {
   "cell_type": "code",
   "execution_count": 42,
   "metadata": {},
   "outputs": [
    {
     "name": "stdout",
     "output_type": "stream",
     "text": [
      "[1, 4, 9, 16, 25, 36, 49, 81, 100]\n"
     ]
    }
   ],
   "source": [
    "l3 = [i**2 for i in l1]\n",
    "\n",
    "print(l3)"
   ]
  },
  {
   "cell_type": "code",
   "execution_count": 43,
   "metadata": {},
   "outputs": [
    {
     "name": "stdout",
     "output_type": "stream",
     "text": [
      "[2, 12, 30]\n"
     ]
    }
   ],
   "source": [
    "liste = [(1,2), (3,4), (5,6)]\n",
    "\n",
    "liste1 = [i * j for i, j in liste]\n",
    "print(liste1)"
   ]
  },
  {
   "cell_type": "code",
   "execution_count": 44,
   "metadata": {},
   "outputs": [
    {
     "name": "stdout",
     "output_type": "stream",
     "text": [
      "['ppp', 'yyy', 'ttt', 'hhh', 'ooo', 'nnn']\n"
     ]
    }
   ],
   "source": [
    "s = \"python\"\n",
    "\n",
    "liste1 = [i*3 for i in s]\n",
    "print(liste1)"
   ]
  },
  {
   "cell_type": "code",
   "execution_count": 46,
   "metadata": {},
   "outputs": [
    {
     "name": "stdout",
     "output_type": "stream",
     "text": [
      "1\n",
      "2\n",
      "3\n",
      "4\n",
      "5\n",
      "6\n",
      "7\n",
      "8\n",
      "9\n",
      "10\n",
      "11\n",
      "12\n"
     ]
    }
   ],
   "source": [
    "liste = [[1,2,3], [4,5,6,7,8], [9,10,11,12]]\n",
    "\n",
    "for i in liste:\n",
    "    #print(i)\n",
    "    for j in i:\n",
    "        print(j)"
   ]
  },
  {
   "cell_type": "code",
   "execution_count": 47,
   "metadata": {},
   "outputs": [
    {
     "name": "stdout",
     "output_type": "stream",
     "text": [
      "[1, 2, 3, 4, 5, 6, 7, 8, 9, 10, 11, 12]\n"
     ]
    }
   ],
   "source": [
    "liste = [[1,2,3], [4,5,6,7,8], [9,10,11,12]]\n",
    "liste1 = []\n",
    "\n",
    "for i in liste:\n",
    "    for j in i:\n",
    "        liste1.append(j)\n",
    "\n",
    "print(liste1)"
   ]
  },
  {
   "cell_type": "code",
   "execution_count": 48,
   "metadata": {},
   "outputs": [
    {
     "name": "stdout",
     "output_type": "stream",
     "text": [
      "[1, 2, 3, 4, 5, 6, 7, 8, 9, 10, 11, 12]\n"
     ]
    }
   ],
   "source": [
    "liste = [[1,2,3], [4,5,6,7,8], [9,10,11,12]]\n",
    "\n",
    "liste1 = [j for i in liste for j in i]\n",
    "\n",
    "print(liste1)"
   ]
  },
  {
   "cell_type": "markdown",
   "metadata": {},
   "source": [
    "# liste içindeki boş elemanları tarama"
   ]
  },
  {
   "cell_type": "code",
   "execution_count": 49,
   "metadata": {},
   "outputs": [
    {
     "name": "stdout",
     "output_type": "stream",
     "text": [
      "<class 'str'> elemanı içinde eleman yoktur.\n",
      "<class 'list'> elemanı içinde eleman yoktur.\n",
      "<class 'dict'> elemanı içinde eleman yoktur.\n",
      "<class 'list'> elemanı içinde eleman yoktur.\n"
     ]
    }
   ],
   "source": [
    "liste = [ \"\", [ ], { }, [1,2], \"minik\", []]\n",
    "\n",
    "for i in liste:\n",
    "    if not i:\n",
    "        print(f\"{type(i)} elemanı içinde eleman yoktur.\")"
   ]
  },
  {
   "cell_type": "markdown",
   "metadata": {},
   "source": [
    "# enumarate()"
   ]
  },
  {
   "cell_type": "markdown",
   "metadata": {},
   "source": [
    "enumarate() ile liste ya da tuple içindeki her elemanı index'i ile değerlendirir. "
   ]
  },
  {
   "cell_type": "code",
   "execution_count": 51,
   "metadata": {},
   "outputs": [
    {
     "data": {
      "text/plain": [
       "['İstanbul', 'İzmir', 'Kars', 'Kastamonu']"
      ]
     },
     "execution_count": 51,
     "metadata": {},
     "output_type": "execute_result"
    }
   ],
   "source": [
    "liste = [\"İstanbul\", \"İzmir\", \"Kars\", \"Kastamonu\"]\n",
    "liste"
   ]
  },
  {
   "cell_type": "code",
   "execution_count": 52,
   "metadata": {},
   "outputs": [
    {
     "name": "stdout",
     "output_type": "stream",
     "text": [
      "0 İstanbul\n",
      "1 İzmir\n",
      "2 Kars\n",
      "3 Kastamonu\n"
     ]
    }
   ],
   "source": [
    "for i,j in enumerate(liste):\n",
    "    print(i,j)"
   ]
  },
  {
   "cell_type": "code",
   "execution_count": 53,
   "metadata": {},
   "outputs": [
    {
     "name": "stdout",
     "output_type": "stream",
     "text": [
      "34 İstanbul\n",
      "35 İzmir\n",
      "36 Kars\n",
      "37 Kastamonu\n"
     ]
    }
   ],
   "source": [
    "for i,j in enumerate(liste, 34):\n",
    "    print(i,j)"
   ]
  },
  {
   "cell_type": "markdown",
   "metadata": {},
   "source": [
    "# for döngüsünde reversed()"
   ]
  },
  {
   "cell_type": "code",
   "execution_count": 54,
   "metadata": {},
   "outputs": [
    {
     "data": {
      "text/plain": [
       "['Kahve', 'Meyve', 'Tatlı', 'Ana Yemek', 'Çorba', 'Köfte', 'İzmir Köfte']"
      ]
     },
     "execution_count": 54,
     "metadata": {},
     "output_type": "execute_result"
    }
   ],
   "source": [
    "liste = [\"Kahve\",\"Meyve\",\"Tatlı\",\"Ana Yemek\",\"Çorba\", \"Köfte\", \"İzmir Köfte\"]\n",
    "liste"
   ]
  },
  {
   "cell_type": "code",
   "execution_count": 55,
   "metadata": {},
   "outputs": [
    {
     "name": "stdout",
     "output_type": "stream",
     "text": [
      "Kahve\n",
      "Meyve\n",
      "Tatlı\n",
      "Ana Yemek\n",
      "Çorba\n",
      "Köfte\n",
      "İzmir Köfte\n"
     ]
    }
   ],
   "source": [
    "for i in liste:\n",
    "    print(i)"
   ]
  },
  {
   "cell_type": "code",
   "execution_count": 56,
   "metadata": {},
   "outputs": [
    {
     "name": "stdout",
     "output_type": "stream",
     "text": [
      "İzmir Köfte\n",
      "Köfte\n",
      "Çorba\n",
      "Ana Yemek\n",
      "Tatlı\n",
      "Meyve\n",
      "Kahve\n"
     ]
    }
   ],
   "source": [
    "for i in liste[::-1]:\n",
    "    print(i)"
   ]
  },
  {
   "cell_type": "code",
   "execution_count": 57,
   "metadata": {},
   "outputs": [
    {
     "name": "stdout",
     "output_type": "stream",
     "text": [
      "İzmir Köfte\n",
      "Köfte\n",
      "Çorba\n",
      "Ana Yemek\n",
      "Tatlı\n",
      "Meyve\n",
      "Kahve\n"
     ]
    }
   ],
   "source": [
    "for i in reversed(liste):\n",
    "    print(i)"
   ]
  },
  {
   "cell_type": "code",
   "execution_count": null,
   "metadata": {},
   "outputs": [],
   "source": []
  }
 ],
 "metadata": {
  "kernelspec": {
   "display_name": "Python 3 (ipykernel)",
   "language": "python",
   "name": "python3"
  },
  "language_info": {
   "codemirror_mode": {
    "name": "ipython",
    "version": 3
   },
   "file_extension": ".py",
   "mimetype": "text/x-python",
   "name": "python",
   "nbconvert_exporter": "python",
   "pygments_lexer": "ipython3",
   "version": "3.9.18"
  }
 },
 "nbformat": 4,
 "nbformat_minor": 4
}
