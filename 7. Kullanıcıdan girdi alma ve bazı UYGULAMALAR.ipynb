{
 "cells": [
  {
   "cell_type": "markdown",
   "metadata": {},
   "source": [
    "# Kullanıcıdan Girdi alma "
   ]
  },
  {
   "cell_type": "raw",
   "metadata": {},
   "source": [
    "Programlama esnasında kullanıcıdan girdi almak için input() fonksiyonu kullanılır"
   ]
  },
  {
   "cell_type": "code",
   "execution_count": 1,
   "metadata": {},
   "outputs": [
    {
     "name": "stdout",
     "output_type": "stream",
     "text": [
      "Lütfen bir sayı giriniz:3\n"
     ]
    },
    {
     "data": {
      "text/plain": [
       "'3'"
      ]
     },
     "execution_count": 1,
     "metadata": {},
     "output_type": "execute_result"
    }
   ],
   "source": [
    "input(\"Lütfen bir sayı giriniz:\")"
   ]
  },
  {
   "cell_type": "raw",
   "metadata": {},
   "source": [
    "Bu şekilde kullanıldığında yukarıda girilen 24 sayısı değişken olarak tanımlanmaz. Girilen değerin, python tarafından yakalanması için şu yol izlenir"
   ]
  },
  {
   "cell_type": "code",
   "execution_count": null,
   "metadata": {},
   "outputs": [],
   "source": [
    "x = input(\"Lütfen bir sayı giriniz:\")\n",
    "print(\"Kullanıcının girdiği değer\", x)"
   ]
  },
  {
   "cell_type": "code",
   "execution_count": 2,
   "metadata": {},
   "outputs": [
    {
     "name": "stdout",
     "output_type": "stream",
     "text": [
      "Lütfen bir sayı giriniz:3\n",
      "333\n"
     ]
    }
   ],
   "source": [
    "x = input(\"Lütfen bir sayı giriniz:\")\n",
    "print(x*3)"
   ]
  },
  {
   "cell_type": "raw",
   "metadata": {},
   "source": [
    "Neden bu şekilde oldu da 60 olmadı ? "
   ]
  },
  {
   "cell_type": "code",
   "execution_count": null,
   "metadata": {},
   "outputs": [],
   "source": [
    "x = input(\"Lütfen bir sayı giriniz:\")\n",
    "print(type(x))"
   ]
  },
  {
   "cell_type": "raw",
   "metadata": {},
   "source": [
    "Dikkat edilirse x değişkeni string değişkenidir, sayı değildir ! input() fonksiyonunda girilen değer Python tarafından string olarak değerlendirilir. O halde bunu sayışa dönüştürmek gerekir ! "
   ]
  },
  {
   "cell_type": "code",
   "execution_count": null,
   "metadata": {},
   "outputs": [],
   "source": [
    "x = int(input(\"Lütfen bir sayı giriniz:\")) \n",
    "print(x*3)"
   ]
  },
  {
   "cell_type": "code",
   "execution_count": null,
   "metadata": {},
   "outputs": [],
   "source": [
    "a = int(input(\"birinci sayı\"))\n",
    "b = int(input(\"ikinci sayı\"))\n",
    "c = int(input(\"üçüncü sayı\")\n",
    "print(\"toplamları=\",a+b+c)"
   ]
  },
  {
   "cell_type": "raw",
   "metadata": {},
   "source": [
    "Daha önce sayı karakteri ile girilmeyen stringlerin sayı değişkeni olarak dönüştürülemediğine değinilmişti. Aşağıdaki uygulamaya ve henüz erken olmasına karşın sorununun aşılma yöntemine dikkat ediniz. "
   ]
  },
  {
   "cell_type": "code",
   "execution_count": null,
   "metadata": {},
   "outputs": [],
   "source": [
    "a = int(input(\"a:\"))\n",
    "print(a)"
   ]
  },
  {
   "cell_type": "code",
   "execution_count": null,
   "metadata": {},
   "outputs": [],
   "source": [
    "try: \n",
    "    a = a = int(input(\"a:\"))\n",
    "    print(a)\n",
    "    \n",
    "except ValueError:\n",
    "    print(\"Lütfen doğru bir sayı giriniz\")"
   ]
  },
  {
   "cell_type": "raw",
   "metadata": {},
   "source": [
    " String değişken tanımlamak için de aşağıdaki uygulamadan faydalanılabilir. "
   ]
  },
  {
   "cell_type": "code",
   "execution_count": null,
   "metadata": {},
   "outputs": [],
   "source": [
    "isim = input(\"isim: \")\n",
    "print(\"isminiz\",isim)"
   ]
  },
  {
   "cell_type": "markdown",
   "metadata": {},
   "source": [
    "# BAZI UYGULAMALAR"
   ]
  },
  {
   "cell_type": "markdown",
   "metadata": {},
   "source": [
    "# Gelişmiş Kullanıcı girişi"
   ]
  },
  {
   "cell_type": "code",
   "execution_count": 2,
   "metadata": {},
   "outputs": [
    {
     "name": "stdout",
     "output_type": "stream",
     "text": [
      "\n",
      "***********\n",
      "Kullanıcı Girişi Programı\n",
      "***********\n",
      "\n",
      "Kullanıcı Adı: Cevat Prekazi\n",
      "Parola: 987\n",
      "Sisteme Başarıyla Giriş Yapıldı\n"
     ]
    }
   ],
   "source": [
    "print(\"\"\"\n",
    "***********\n",
    "Kullanıcı Girişi Programı\n",
    "***********\n",
    "\"\"\")\n",
    "\n",
    "sys_kullanıcı_adı = \"Cevat Prekazi\"\n",
    "sys_parola =  \"987\"\n",
    "\n",
    "giris_hakkı = 3\n",
    "while True:\n",
    "    kullanıcı_adı = input(\"Kullanıcı Adı: \")\n",
    "    parola = input(\"Parola: \")\n",
    "    if (kullanıcı_adı != sys_kullanıcı_adı and parola == sys_parola):\n",
    "        print(\"Kullanıcı Adı Hatalıdır\")\n",
    "        giris_hakkı -= 1\n",
    "    elif (kullanıcı_adı == sys_kullanıcı_adı and parola != sys_parola):\n",
    "        print(\"Parola Hataldır\")\n",
    "        giris_hakkı -= 1\n",
    "    elif (kullanıcı_adı != sys_kullanıcı_adı and parola != sys_parola):\n",
    "        print(\"Kullanıcı Adı ve Parola Hatalıdır\")\n",
    "        giris_hakkı -= 1\n",
    "    else:\n",
    "        print(\"Sisteme Başarıyla Giriş Yapıldı\")\n",
    "        break\n",
    "    if(giris_hakkı == 0):\n",
    "        print(\"Giriş Hakkınız Tükenmiştir\")\n",
    "        break"
   ]
  },
  {
   "cell_type": "markdown",
   "metadata": {},
   "source": [
    "# ATM UYGULAMASI"
   ]
  },
  {
   "cell_type": "code",
   "execution_count": null,
   "metadata": {},
   "outputs": [
    {
     "name": "stdout",
     "output_type": "stream",
     "text": [
      "\n",
      "******************************************\n",
      "ATM Makinesine Hoşgeldiniz\n",
      "\n",
      "İşlemler: \n",
      "\n",
      "1- Bakiye Sorgulama\n",
      "2- Para Yatırma\n",
      "3- Para Çekme \n",
      "\n",
      "Progrmadan çıkmak için X tuşuna basınız. \n",
      "******************************************\n",
      "\n",
      "İşlem Numarası Seçiniz: 1\n",
      "Bakiyeniz 1000 TL'dir\n",
      "İşlem Numarası Seçiniz: 2\n",
      "Yatırmak istediğiniz Miktarı Giriniz: 1000\n",
      "Yeni Bakiyeniz 2000 TL'dir\n",
      "İşlem Numarası Seçiniz: 3\n",
      "Çekmek istediğiniz Miktar Giriniz: 3000\n",
      "Yeni Bakiyeniz -1000 TL'dir\n",
      "Bu işlem için yeterli bakiyeniz yoktur\n"
     ]
    }
   ],
   "source": [
    "print(\"\"\"\n",
    "******************************************\n",
    "ATM Makinesine Hoşgeldiniz\n",
    "\n",
    "İşlemler: \n",
    "\n",
    "1- Bakiye Sorgulama\n",
    "2- Para Yatırma\n",
    "3- Para Çekme \n",
    "\n",
    "Progrmadan çıkmak için X tuşuna basınız. \n",
    "******************************************\n",
    "\"\"\")\n",
    "\n",
    "bakiye = 1000\n",
    "\n",
    "while True:\n",
    "    işlem = input(\"İşlem Numarası Seçiniz: \")\n",
    "\n",
    "    if (işlem == \"x\"):\n",
    "        print(\"Yine bekleriz\")\n",
    "        break\n",
    "    elif (işlem == \"1\"):\n",
    "        print(\"Bakiyeniz {} TL'dir\".format(bakiye))\n",
    "\n",
    "    elif (işlem == \"2\"):\n",
    "        miktar = int(input(\"Yatırmak istediğiniz Miktarı Giriniz: \"))\n",
    "        bakiye += miktar\n",
    "        print(\"Yeni Bakiyeniz {} TL'dir\".format(bakiye))\n",
    "    elif (işlem == \"3\"):\n",
    "        miktar = int(input(\"Çekmek istediğiniz Miktar Giriniz: \"))\n",
    "        bakiye2 = bakiye - miktar\n",
    "        print(\"Yeni Bakiyeniz {} TL'dir\".format(bakiye2))\n",
    "        \n",
    "        if (bakiye - miktar < 0):\n",
    "            print(\"Bu işlem için yeterli bakiyeniz yoktur\")\n",
    "            continue\n",
    "        bakiye = bakiye2\n",
    "    else:\n",
    "        print(\"Geçersiz İşlem\")"
   ]
  },
  {
   "cell_type": "markdown",
   "metadata": {},
   "source": [
    "# Faktoriyel Hesabı"
   ]
  },
  {
   "cell_type": "code",
   "execution_count": 1,
   "metadata": {},
   "outputs": [
    {
     "name": "stdout",
     "output_type": "stream",
     "text": [
      "\n",
      "**************************\n",
      "Faktöriyel bulma programı \n",
      "\n",
      "çıkmak için x'e basınız. \n",
      "**************************\n",
      "sayı:3\n",
      "sayının factoriyeli: 6\n",
      "sayı:4\n",
      "sayının factoriyeli: 24\n",
      "sayı:x\n",
      "Program sonlandırılıyor...\n"
     ]
    }
   ],
   "source": [
    "print(\"\"\"\n",
    "**************************\n",
    "Faktöriyel bulma programı \n",
    "\n",
    "çıkmak için x'e basınız. \n",
    "**************************\"\"\")\n",
    "\n",
    "while True:\n",
    "    sayı = input(\"sayı:\")\n",
    "    if (sayı == \"x\") :\n",
    "        print(\"Program sonlandırılıyor...\")\n",
    "        break\n",
    "\n",
    "    else:\n",
    "        sayı = int(sayı)\n",
    "\n",
    "        factoriyel = 1\n",
    "\n",
    "        for i in range(2, sayı+1):\n",
    "            factoriyel *= i\n",
    "        print(\"sayının factoriyeli:\", factoriyel)\n"
   ]
  },
  {
   "cell_type": "raw",
   "metadata": {},
   "source": [
    "satır satır factoriyel hesabı"
   ]
  },
  {
   "cell_type": "code",
   "execution_count": 3,
   "metadata": {
    "scrolled": false
   },
   "outputs": [
    {
     "name": "stdout",
     "output_type": "stream",
     "text": [
      "\n",
      "**************************\n",
      "Faktöriyel bulma programı \n",
      "\n",
      "çıkmak için x'e basınız. \n",
      "**************************\n",
      "\n",
      "sayı:6\n",
      "i:  2    factoriyel 1\n",
      "i:  3    factoriyel 2\n",
      "i:  4    factoriyel 6\n",
      "i:  5    factoriyel 24\n",
      "i:  6    factoriyel 120\n",
      "_______________\n",
      "sayının factoriyeli: 720\n",
      "\n",
      "****sonraki faktoriyel*****\n",
      "sayı:x\n",
      "Program sonlandırılıyor...\n"
     ]
    }
   ],
   "source": [
    "print(\"\"\"\n",
    "**************************\n",
    "Faktöriyel bulma programı \n",
    "\n",
    "çıkmak için x'e basınız. \n",
    "**************************\n",
    "\"\"\")\n",
    "\n",
    "while True:\n",
    "    sayı = input(\"sayı:\")\n",
    "    if (sayı == \"x\") :\n",
    "        print(\"Program sonlandırılıyor...\")\n",
    "        break\n",
    "\n",
    "    else:\n",
    "        sayı = int(sayı)\n",
    "\n",
    "        factoriyel = 1\n",
    "\n",
    "        for i in range(2, sayı + 1):\n",
    "            print(\"i: \", i, \"  \", \"factoriyel\", factoriyel)\n",
    "            factoriyel *= i\n",
    "        print(\"_______________\")\n",
    "        print(\"sayının factoriyeli:\", factoriyel)\n",
    "        print(\"\\n****sonraki faktoriyel*****\")\n"
   ]
  },
  {
   "cell_type": "code",
   "execution_count": null,
   "metadata": {},
   "outputs": [],
   "source": []
  }
 ],
 "metadata": {
  "kernelspec": {
   "display_name": "Python 3 (ipykernel)",
   "language": "python",
   "name": "python3"
  },
  "language_info": {
   "codemirror_mode": {
    "name": "ipython",
    "version": 3
   },
   "file_extension": ".py",
   "mimetype": "text/x-python",
   "name": "python",
   "nbconvert_exporter": "python",
   "pygments_lexer": "ipython3",
   "version": "3.9.13"
  }
 },
 "nbformat": 4,
 "nbformat_minor": 2
}
