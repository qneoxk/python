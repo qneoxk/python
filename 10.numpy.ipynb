{
 "cells": [
  {
   "cell_type": "code",
   "execution_count": 1,
   "id": "f1740e6d-ec85-4df8-b35f-80aba532e6e4",
   "metadata": {},
   "outputs": [],
   "source": [
    "import numpy as np"
   ]
  },
  {
   "cell_type": "markdown",
   "id": "47e1ba1c-7d69-4d5f-92c0-4762aa72fe0e",
   "metadata": {},
   "source": [
    "# karekök"
   ]
  },
  {
   "cell_type": "code",
   "execution_count": 2,
   "id": "53f73c26-e0d5-4742-8a5d-5304638ff19c",
   "metadata": {},
   "outputs": [
    {
     "data": {
      "text/plain": [
       "4.0"
      ]
     },
     "execution_count": 2,
     "metadata": {},
     "output_type": "execute_result"
    }
   ],
   "source": [
    "np.sqrt(16)"
   ]
  },
  {
   "cell_type": "code",
   "execution_count": 3,
   "id": "06165dd8-c80b-4cf3-9b7d-d2c297f4ea01",
   "metadata": {},
   "outputs": [
    {
     "name": "stdout",
     "output_type": "stream",
     "text": [
      "-16 sayısının karmaşık karekökü: nan + 0.0j\n"
     ]
    },
    {
     "name": "stderr",
     "output_type": "stream",
     "text": [
      "C:\\Users\\cedgk\\AppData\\Local\\Temp\\ipykernel_33248\\580933059.py:2: RuntimeWarning: invalid value encountered in sqrt\n",
      "  kk = np.sqrt(sayı)\n"
     ]
    }
   ],
   "source": [
    "sayı = -16\n",
    "kk = np.sqrt(sayı)\n",
    "\n",
    "repart = kk.real\n",
    "impart = kk.imag\n",
    "\n",
    "print(f\"{sayı} sayısının karmaşık karekökü: {repart} + {impart}j\")"
   ]
  },
  {
   "cell_type": "code",
   "execution_count": 4,
   "id": "a1be8c41-9296-488f-9fee-d9aa78a5cf17",
   "metadata": {},
   "outputs": [
    {
     "data": {
      "text/plain": [
       "(nan, 0.0)"
      ]
     },
     "execution_count": 4,
     "metadata": {},
     "output_type": "execute_result"
    }
   ],
   "source": [
    "repart, impart"
   ]
  },
  {
   "cell_type": "markdown",
   "id": "b9348b4f-311b-4acf-bc04-78bd5a220fc8",
   "metadata": {},
   "source": [
    "# kısa bir ara cmath modülü "
   ]
  },
  {
   "cell_type": "markdown",
   "id": "e24389c3-e234-4c99-808b-590ee63b0dfa",
   "metadata": {},
   "source": [
    "## karmaşık sayılarla çalışmak için hazırlanmış bir modüldür. "
   ]
  },
  {
   "cell_type": "code",
   "execution_count": 5,
   "id": "411c78fe-dbe8-492b-b68c-1ab012376e8c",
   "metadata": {},
   "outputs": [],
   "source": [
    "import cmath"
   ]
  },
  {
   "cell_type": "code",
   "execution_count": 6,
   "id": "89676986-c0cb-4a49-a556-00cf42d1eb2c",
   "metadata": {},
   "outputs": [
    {
     "data": {
      "text/plain": [
       "4j"
      ]
     },
     "execution_count": 6,
     "metadata": {},
     "output_type": "execute_result"
    }
   ],
   "source": [
    "karekok = cmath.sqrt(sayı)\n",
    "karekok\n"
   ]
  },
  {
   "cell_type": "code",
   "execution_count": 7,
   "id": "0597148f-5998-49c5-9fed-de476ff0360b",
   "metadata": {},
   "outputs": [
    {
     "data": {
      "text/plain": [
       "(4+3j)"
      ]
     },
     "execution_count": 7,
     "metadata": {},
     "output_type": "execute_result"
    }
   ],
   "source": [
    "z = complex(4,3)\n",
    "z"
   ]
  },
  {
   "cell_type": "code",
   "execution_count": 8,
   "id": "f6e4c1b1-d37f-4e1a-b696-1c57fb51c48f",
   "metadata": {},
   "outputs": [
    {
     "data": {
      "text/plain": [
       "(-54.051758861078156+7.704891372731154j)"
      ]
     },
     "execution_count": 8,
     "metadata": {},
     "output_type": "execute_result"
    }
   ],
   "source": [
    "cmath.exp(z) # karmaşık sayının üssünü hespalar"
   ]
  },
  {
   "cell_type": "code",
   "execution_count": 9,
   "id": "71ec8834-098b-422a-9378-937a8d26b3b2",
   "metadata": {},
   "outputs": [
    {
     "data": {
      "text/plain": [
       "(1.6094379124341003+0.6435011087932844j)"
      ]
     },
     "execution_count": 9,
     "metadata": {},
     "output_type": "execute_result"
    }
   ],
   "source": [
    "cmath.log(z) # karmaşık sayının logaritmasını hespalar"
   ]
  },
  {
   "cell_type": "code",
   "execution_count": 10,
   "id": "5b894fcc-d3a9-4138-a967-c8a553491a88",
   "metadata": {},
   "outputs": [
    {
     "data": {
      "text/plain": [
       "(-7.61923172032141-6.5481200409110025j)"
      ]
     },
     "execution_count": 10,
     "metadata": {},
     "output_type": "execute_result"
    }
   ],
   "source": [
    "cmath.sin(z) "
   ]
  },
  {
   "cell_type": "code",
   "execution_count": 11,
   "id": "3b5cc7cd-15fd-41db-927f-63595620c3db",
   "metadata": {},
   "outputs": [
    {
     "data": {
      "text/plain": [
       "0.6435011087932844"
      ]
     },
     "execution_count": 11,
     "metadata": {},
     "output_type": "execute_result"
    }
   ],
   "source": [
    "cmath.phase(z) # karmaşık sayının açısal değerini radyan cinsinden döndürür"
   ]
  },
  {
   "cell_type": "code",
   "execution_count": 12,
   "id": "ea00b730-3d10-4a22-b032-b4d7a4a2bc38",
   "metadata": {},
   "outputs": [
    {
     "data": {
      "text/plain": [
       "36.86989764584402"
      ]
     },
     "execution_count": 12,
     "metadata": {},
     "output_type": "execute_result"
    }
   ],
   "source": [
    "u = cmath.phase(z)\n",
    "np.rad2deg(u)"
   ]
  },
  {
   "cell_type": "code",
   "execution_count": 13,
   "id": "47f19f11-164b-4ce5-9c9e-466d888b25db",
   "metadata": {},
   "outputs": [
    {
     "data": {
      "text/plain": [
       "(5.0, 0.6435011087932844)"
      ]
     },
     "execution_count": 13,
     "metadata": {},
     "output_type": "execute_result"
    }
   ],
   "source": [
    "cmath.polar(z) # karmaşık sayının normunu ve radyan cinsinden açısını döndürür. "
   ]
  },
  {
   "cell_type": "code",
   "execution_count": 14,
   "id": "ff1558bd-51b3-4611-aa06-388168ddf347",
   "metadata": {},
   "outputs": [
    {
     "data": {
      "text/plain": [
       "(-1+1.2246467991473532e-16j)"
      ]
     },
     "execution_count": 14,
     "metadata": {},
     "output_type": "execute_result"
    }
   ],
   "source": [
    "cmath.exp(1j * cmath.pi)"
   ]
  },
  {
   "cell_type": "code",
   "execution_count": 15,
   "id": "cc8cbe8a-a62d-4e04-a7f2-f64119498809",
   "metadata": {},
   "outputs": [
    {
     "data": {
      "text/plain": [
       "3.141592653589793"
      ]
     },
     "execution_count": 15,
     "metadata": {},
     "output_type": "execute_result"
    }
   ],
   "source": [
    "cmath.pi"
   ]
  },
  {
   "cell_type": "markdown",
   "id": "0a9a5399-32cb-4dd9-acc5-d930f374bac4",
   "metadata": {},
   "source": [
    "## cmath over \n",
    "## numpy devam"
   ]
  },
  {
   "cell_type": "markdown",
   "id": "6f87a526-d7cb-4373-9a63-c4a1341fad16",
   "metadata": {},
   "source": [
    "# Trigonometrik Fonksiyonlar "
   ]
  },
  {
   "cell_type": "code",
   "execution_count": 16,
   "id": "8babfe94-d2c0-4145-ae9f-79048fe946cd",
   "metadata": {},
   "outputs": [
    {
     "data": {
      "text/plain": [
       "0.0"
      ]
     },
     "execution_count": 16,
     "metadata": {},
     "output_type": "execute_result"
    }
   ],
   "source": [
    "np.sin(0)"
   ]
  },
  {
   "cell_type": "code",
   "execution_count": 17,
   "id": "2c8dbd77-3b7b-47f2-84c7-58eee1f2ee7a",
   "metadata": {},
   "outputs": [
    {
     "data": {
      "text/plain": [
       "1.0"
      ]
     },
     "execution_count": 17,
     "metadata": {},
     "output_type": "execute_result"
    }
   ],
   "source": [
    "np.cos(0)"
   ]
  },
  {
   "cell_type": "code",
   "execution_count": 18,
   "id": "afd9e77e-5618-4f01-8f84-19540deef2e7",
   "metadata": {},
   "outputs": [
    {
     "data": {
      "text/plain": [
       "-0.4480736161291701"
      ]
     },
     "execution_count": 18,
     "metadata": {},
     "output_type": "execute_result"
    }
   ],
   "source": [
    "np.cos(90)"
   ]
  },
  {
   "cell_type": "raw",
   "id": "04e45b8f-2d43-483c-814e-a06dcb8869e7",
   "metadata": {},
   "source": [
    "_ tüm bilgisayar programlarında açı değerleri radyan cinsinden çalışır._\n",
    "_ Bu nedenle bir üst satırda 0 çıkması gereken sonuç aslında 90 radyanın değeridir, 90 derecenin değil.\n",
    "_ Bu nedenle önce derece cinsinden açı radyana dönüştürülmelidir. "
   ]
  },
  {
   "cell_type": "code",
   "execution_count": 19,
   "id": "bb06b458-a5d2-4174-9037-ea95989aef2f",
   "metadata": {},
   "outputs": [
    {
     "data": {
      "text/plain": [
       "1.0"
      ]
     },
     "execution_count": 19,
     "metadata": {},
     "output_type": "execute_result"
    }
   ],
   "source": [
    "np.sin(np.deg2rad(90))"
   ]
  },
  {
   "cell_type": "code",
   "execution_count": 20,
   "id": "d62bb665-16c2-408d-a18a-76c849c22561",
   "metadata": {},
   "outputs": [
    {
     "name": "stdout",
     "output_type": "stream",
     "text": [
      "45 derece = 0.7854 radyan\n"
     ]
    }
   ],
   "source": [
    "degree_value = 45\n",
    "radian_value = np.deg2rad(degree_value)\n",
    "\n",
    "print(f\"{degree_value} derece = {radian_value:.4f} radyan\")"
   ]
  },
  {
   "cell_type": "code",
   "execution_count": 21,
   "id": "37e9f99e-931f-45d9-9b05-ad70feba6103",
   "metadata": {},
   "outputs": [
    {
     "data": {
      "text/plain": [
       "45.00010522957486"
      ]
     },
     "execution_count": 21,
     "metadata": {},
     "output_type": "execute_result"
    }
   ],
   "source": [
    "np.rad2deg(0.7854)"
   ]
  },
  {
   "cell_type": "code",
   "execution_count": 22,
   "id": "88671e79-937b-4d82-9ef6-e31ba090ac72",
   "metadata": {},
   "outputs": [
    {
     "data": {
      "text/plain": [
       "1.0"
      ]
     },
     "execution_count": 22,
     "metadata": {},
     "output_type": "execute_result"
    }
   ],
   "source": [
    "np.cos(40)**2 + np.sin(40) **2 "
   ]
  },
  {
   "cell_type": "markdown",
   "id": "782d4027-f813-490f-bd57-b41cece1cae9",
   "metadata": {},
   "source": [
    "## ters trigonometrik fonksiyon"
   ]
  },
  {
   "cell_type": "code",
   "execution_count": 23,
   "id": "ce1a3f71-8e65-46b0-89a9-2b70c3056fd7",
   "metadata": {},
   "outputs": [
    {
     "name": "stdout",
     "output_type": "stream",
     "text": [
      "0.7071067811865476\n"
     ]
    }
   ],
   "source": [
    "x = np.cos(np.deg2rad(45))\n",
    "print(x)"
   ]
  },
  {
   "cell_type": "code",
   "execution_count": 24,
   "id": "6e6593b3-68f8-4791-8af0-bf033693c60b",
   "metadata": {},
   "outputs": [
    {
     "data": {
      "text/plain": [
       "45.0"
      ]
     },
     "execution_count": 24,
     "metadata": {},
     "output_type": "execute_result"
    }
   ],
   "source": [
    "y = np.rad2deg(np.arccos(x))\n",
    "y"
   ]
  },
  {
   "cell_type": "code",
   "execution_count": 25,
   "id": "184bd851-dfdf-45e8-98e9-68fb73f50c4a",
   "metadata": {},
   "outputs": [
    {
     "data": {
      "text/plain": [
       "45.0"
      ]
     },
     "execution_count": 25,
     "metadata": {},
     "output_type": "execute_result"
    }
   ],
   "source": [
    "np.rad2deg(np.arctan(1))"
   ]
  },
  {
   "cell_type": "code",
   "execution_count": 26,
   "id": "b2e8195f-70d0-4954-b6cd-40ea5779953c",
   "metadata": {},
   "outputs": [
    {
     "data": {
      "text/plain": [
       "0.0"
      ]
     },
     "execution_count": 26,
     "metadata": {},
     "output_type": "execute_result"
    }
   ],
   "source": [
    "np.rad2deg(np.arctan(0))"
   ]
  },
  {
   "cell_type": "markdown",
   "id": "8050bd4d-bba1-4783-8169-a6e448492a48",
   "metadata": {},
   "source": [
    "# Euler sayısı "
   ]
  },
  {
   "cell_type": "code",
   "execution_count": 27,
   "id": "2ee9930f-f0a0-441a-81f8-a519a8eb7f4c",
   "metadata": {},
   "outputs": [
    {
     "name": "stdout",
     "output_type": "stream",
     "text": [
      "Euler sayısı:  2.718281828459045\n"
     ]
    }
   ],
   "source": [
    "euler_constant = np.e\n",
    "print(f\"Euler sayısı: {euler_constant: .15f}\")"
   ]
  },
  {
   "cell_type": "code",
   "execution_count": 28,
   "id": "8562dcbf-9ce2-4e15-a92e-2d2e012bf29b",
   "metadata": {},
   "outputs": [
    {
     "name": "stdout",
     "output_type": "stream",
     "text": [
      "Euler sayısı:  2.718281828459045\n"
     ]
    }
   ],
   "source": [
    "euler_constant = np.exp(1)\n",
    "print(f\"Euler sayısı: {euler_constant: .15f}\")"
   ]
  },
  {
   "cell_type": "code",
   "execution_count": 29,
   "id": "624d38fc-b8dc-4b2d-8cc5-a73df0547536",
   "metadata": {},
   "outputs": [
    {
     "data": {
      "text/plain": [
       "2.718281828459045"
      ]
     },
     "execution_count": 29,
     "metadata": {},
     "output_type": "execute_result"
    }
   ],
   "source": [
    "np.exp(1)"
   ]
  },
  {
   "cell_type": "markdown",
   "id": "25f8929d-c3b2-4756-bbde-f0903a24b8f8",
   "metadata": {},
   "source": [
    "# pi sayısı "
   ]
  },
  {
   "cell_type": "code",
   "execution_count": 30,
   "id": "edde731b-65c2-4e80-a237-18b0d8cd598f",
   "metadata": {},
   "outputs": [
    {
     "name": "stdout",
     "output_type": "stream",
     "text": [
      "3.141592653589793\n"
     ]
    }
   ],
   "source": [
    "print(np.pi)"
   ]
  },
  {
   "cell_type": "code",
   "execution_count": 31,
   "id": "ac54142e-0c38-4c14-8baf-b0893fb3e024",
   "metadata": {},
   "outputs": [
    {
     "data": {
      "text/plain": [
       "1.0"
      ]
     },
     "execution_count": 31,
     "metadata": {},
     "output_type": "execute_result"
    }
   ],
   "source": [
    "np.sin(np.pi/2)"
   ]
  },
  {
   "cell_type": "code",
   "execution_count": 32,
   "id": "36e3b316-ed0b-4e68-94c1-eb8f8c1423f6",
   "metadata": {},
   "outputs": [
    {
     "name": "stdout",
     "output_type": "stream",
     "text": [
      "π sembolü: π\n"
     ]
    }
   ],
   "source": [
    "pi_symbol = \"\\u03C0\"\n",
    "print(f\"π sembolü: {pi_symbol}\")\n"
   ]
  },
  {
   "cell_type": "code",
   "execution_count": 33,
   "id": "55bf58d8-18d6-4361-a207-41c298a6c8b0",
   "metadata": {},
   "outputs": [
    {
     "name": "stdout",
     "output_type": "stream",
     "text": [
      "π : 3.141592653589793\n"
     ]
    }
   ],
   "source": [
    "print(f\"\\u03C0 : {np.pi}\")"
   ]
  },
  {
   "cell_type": "code",
   "execution_count": 34,
   "id": "00f0ef94-10b5-415d-8a51-f84680f2295b",
   "metadata": {},
   "outputs": [
    {
     "name": "stdout",
     "output_type": "stream",
     "text": [
      "π sayısının yaklaşık değeri:  3.1415926535897931159979634685441851615906\n"
     ]
    }
   ],
   "source": [
    "pi_approximation = np.pi\n",
    "print(f\"π sayısının yaklaşık değeri: {pi_approximation : .40f}\")"
   ]
  },
  {
   "cell_type": "code",
   "execution_count": 35,
   "id": "275bb26b-68cb-40ed-885f-08709f90410c",
   "metadata": {},
   "outputs": [
    {
     "data": {
      "text/plain": [
       "3.141592653589793"
      ]
     },
     "execution_count": 35,
     "metadata": {},
     "output_type": "execute_result"
    }
   ],
   "source": [
    "np.longdouble(np.pi)"
   ]
  },
  {
   "cell_type": "markdown",
   "id": "66c96cae-4032-46b2-a537-758d03ea51a4",
   "metadata": {},
   "source": [
    "# logoritma fonksiyonu "
   ]
  },
  {
   "cell_type": "markdown",
   "id": "78fe3027-bb7a-42ae-81ca-50dd6769fc49",
   "metadata": {},
   "source": [
    "## 10 tabanı için log10"
   ]
  },
  {
   "cell_type": "code",
   "execution_count": 36,
   "id": "9adbaaed-8359-4b33-a3de-65d4034d9723",
   "metadata": {},
   "outputs": [
    {
     "data": {
      "text/plain": [
       "1.0"
      ]
     },
     "execution_count": 36,
     "metadata": {},
     "output_type": "execute_result"
    }
   ],
   "source": [
    "np.log10(10)"
   ]
  },
  {
   "cell_type": "markdown",
   "id": "e35c32a4-1b96-41f0-a759-df63ffe11a52",
   "metadata": {},
   "source": [
    "##  ln - e tabanında logaritma için log kullanılır. "
   ]
  },
  {
   "cell_type": "code",
   "execution_count": 37,
   "id": "472927f8-1ba8-476a-af36-b40df3e02ec7",
   "metadata": {},
   "outputs": [
    {
     "data": {
      "text/plain": [
       "1.0"
      ]
     },
     "execution_count": 37,
     "metadata": {},
     "output_type": "execute_result"
    }
   ],
   "source": [
    "np.log(np.e)"
   ]
  },
  {
   "cell_type": "code",
   "execution_count": 38,
   "id": "2f6ee947-87d1-4317-b3d3-f97c28dee783",
   "metadata": {},
   "outputs": [
    {
     "data": {
      "text/plain": [
       "2.0"
      ]
     },
     "execution_count": 38,
     "metadata": {},
     "output_type": "execute_result"
    }
   ],
   "source": [
    "np.log(np.exp(2))"
   ]
  },
  {
   "cell_type": "markdown",
   "id": "5142143a-0a7c-41f7-8301-fc51d8967981",
   "metadata": {},
   "source": [
    "# Mutlak değer "
   ]
  },
  {
   "cell_type": "code",
   "execution_count": 39,
   "id": "f8c843d8-65f6-41a1-84a9-5ff6e110e24c",
   "metadata": {},
   "outputs": [
    {
     "data": {
      "text/plain": [
       "4"
      ]
     },
     "execution_count": 39,
     "metadata": {},
     "output_type": "execute_result"
    }
   ],
   "source": [
    "np.abs(-4)"
   ]
  },
  {
   "cell_type": "code",
   "execution_count": 40,
   "id": "0e387e5d-7429-4b49-837e-81d1d3951717",
   "metadata": {},
   "outputs": [
    {
     "data": {
      "text/plain": [
       "4"
      ]
     },
     "execution_count": 40,
     "metadata": {},
     "output_type": "execute_result"
    }
   ],
   "source": [
    "np.absolute(-4)"
   ]
  },
  {
   "cell_type": "code",
   "execution_count": 41,
   "id": "42fd0da8-fe07-46b1-af7c-3dfd93863d27",
   "metadata": {},
   "outputs": [
    {
     "name": "stdout",
     "output_type": "stream",
     "text": [
      "3.14 sayısının mutlak değeri: 3.14\n"
     ]
    }
   ],
   "source": [
    "y = 3.14\n",
    "absolute_value_y = np.absolute(y)\n",
    "\n",
    "print(f\"{y} sayısının mutlak değeri: {absolute_value_y}\")"
   ]
  },
  {
   "cell_type": "markdown",
   "id": "ad712da6-f99d-4c71-b8eb-ce70811cdbaa",
   "metadata": {},
   "source": [
    "# yuvarlama işlemleri "
   ]
  },
  {
   "cell_type": "code",
   "execution_count": 42,
   "id": "62f26473-2814-4f68-b89a-25615f8bb7f6",
   "metadata": {},
   "outputs": [
    {
     "data": {
      "text/plain": [
       "3.141592653589793"
      ]
     },
     "execution_count": 42,
     "metadata": {},
     "output_type": "execute_result"
    }
   ],
   "source": [
    "np.round(np.pi,16)"
   ]
  },
  {
   "cell_type": "code",
   "execution_count": 43,
   "id": "1f479439-eb0e-460a-9af3-b623fbee0c8f",
   "metadata": {},
   "outputs": [
    {
     "data": {
      "text/plain": [
       "3.0"
      ]
     },
     "execution_count": 43,
     "metadata": {},
     "output_type": "execute_result"
    }
   ],
   "source": [
    "np.floor(np.pi) # aşağı yuvarlama"
   ]
  },
  {
   "cell_type": "code",
   "execution_count": 44,
   "id": "635a7809-3a01-4a67-819c-9c79a38281de",
   "metadata": {},
   "outputs": [
    {
     "data": {
      "text/plain": [
       "4.0"
      ]
     },
     "execution_count": 44,
     "metadata": {},
     "output_type": "execute_result"
    }
   ],
   "source": [
    "np.ceil(np.pi) # yukarı yuvarlama"
   ]
  },
  {
   "cell_type": "code",
   "execution_count": 45,
   "id": "136288aa-2501-4f40-95bd-85636afc9c49",
   "metadata": {},
   "outputs": [
    {
     "data": {
      "text/plain": [
       "9.0"
      ]
     },
     "execution_count": 45,
     "metadata": {},
     "output_type": "execute_result"
    }
   ],
   "source": [
    "np.trunc(9.81) # ondalıklı kısmı atarak yuvarlama"
   ]
  },
  {
   "cell_type": "markdown",
   "id": "b3037aaa-9883-4314-bc96-0f9b1302c427",
   "metadata": {},
   "source": [
    "# numpy, Lineer Cebir ile iligidir asıl ! "
   ]
  },
  {
   "cell_type": "code",
   "execution_count": 46,
   "id": "f550bd23-0ada-467a-b706-4db6926cc2d2",
   "metadata": {},
   "outputs": [
    {
     "data": {
      "text/plain": [
       "[1, 2, 3]"
      ]
     },
     "execution_count": 46,
     "metadata": {},
     "output_type": "execute_result"
    }
   ],
   "source": [
    "L = [1, 2, 3]\n",
    "L"
   ]
  },
  {
   "cell_type": "code",
   "execution_count": 47,
   "id": "d6a1c5f8-b7df-47d2-874b-381a8b4cdeb9",
   "metadata": {},
   "outputs": [
    {
     "data": {
      "text/plain": [
       "array([1, 2, 3])"
      ]
     },
     "execution_count": 47,
     "metadata": {},
     "output_type": "execute_result"
    }
   ],
   "source": [
    "l1 = np.array(L) # listeyi numpy array'ine dönüştürür\n",
    "l1"
   ]
  },
  {
   "cell_type": "code",
   "execution_count": 48,
   "id": "49aa45da-9ec4-4a6c-b98a-194c0e8bb6df",
   "metadata": {},
   "outputs": [
    {
     "data": {
      "text/plain": [
       "array([-2,  1, -4])"
      ]
     },
     "execution_count": 48,
     "metadata": {},
     "output_type": "execute_result"
    }
   ],
   "source": [
    "l2 = np.array([-2, 1, -4])\n",
    "l2"
   ]
  },
  {
   "cell_type": "code",
   "execution_count": 49,
   "id": "398beb23-396a-4a2c-98bc-c9970c63b79b",
   "metadata": {},
   "outputs": [
    {
     "data": {
      "text/plain": [
       "6"
      ]
     },
     "execution_count": 49,
     "metadata": {},
     "output_type": "execute_result"
    }
   ],
   "source": [
    "np.prod(l1) # dizi (array) elemanlarının çarpımı "
   ]
  },
  {
   "cell_type": "markdown",
   "id": "57dc20fb-f493-41e0-adcf-5c2080d3a5eb",
   "metadata": {},
   "source": [
    "## inner (iç) product -- skaler çarpım"
   ]
  },
  {
   "cell_type": "code",
   "execution_count": 50,
   "id": "074e5a48-48f6-4e7d-8341-1809700a81ff",
   "metadata": {},
   "outputs": [
    {
     "data": {
      "text/plain": [
       "-12"
      ]
     },
     "execution_count": 50,
     "metadata": {},
     "output_type": "execute_result"
    }
   ],
   "source": [
    "np.dot(l1, l2)"
   ]
  },
  {
   "cell_type": "code",
   "execution_count": 51,
   "id": "62610d8d-8a1e-4874-be95-5545dc89fc09",
   "metadata": {},
   "outputs": [
    {
     "data": {
      "text/plain": [
       "-12"
      ]
     },
     "execution_count": 51,
     "metadata": {},
     "output_type": "execute_result"
    }
   ],
   "source": [
    "l1 @ l2 # @ matris çarpma işlemi için kısaltmadır. "
   ]
  },
  {
   "cell_type": "code",
   "execution_count": 52,
   "id": "9d9d1780-824f-4110-8254-5ad069df7e92",
   "metadata": {},
   "outputs": [
    {
     "data": {
      "text/plain": [
       "array([[19, 22],\n",
       "       [43, 50]])"
      ]
     },
     "execution_count": 52,
     "metadata": {},
     "output_type": "execute_result"
    }
   ],
   "source": [
    "# İki matrisi tanımlayalım\n",
    "A = np.array([[1, 2], [3, 4]])\n",
    "B = np.array([[5, 6], [7, 8]])\n",
    "\n",
    "# Matris çarpımını hesaplayalım\n",
    "C = A @ B\n",
    "C"
   ]
  },
  {
   "cell_type": "markdown",
   "id": "41ad72c2-946f-43e5-a6a8-edaa5a9caefd",
   "metadata": {},
   "source": [
    "## iki vektör arasındaki açının hespalanması "
   ]
  },
  {
   "cell_type": "code",
   "execution_count": 53,
   "id": "865f8143-470d-405f-9929-cb6b1d6b7880",
   "metadata": {},
   "outputs": [
    {
     "name": "stdout",
     "output_type": "stream",
     "text": [
      "skaler çarpım sonucu =  32\n",
      "Açı (radyan): 0.2257261285527342\n",
      "Açı (derece): 12.933154491899135\n"
     ]
    }
   ],
   "source": [
    "vector1 = np.array([1, 2, 3])\n",
    "vector2 = np.array([4, 5, 6])\n",
    "\n",
    "dot_product = vector1 @ vector2\n",
    "norm_v1 = np.linalg.norm(vector1) # vektörün büyüklüğü \n",
    "norm_v2 = np.linalg.norm(vector2)\n",
    "\n",
    "angle_radians = np.arccos(dot_product / (norm_v1 * norm_v2))\n",
    "angle_degrees = np.degrees(angle_radians)\n",
    "\n",
    "print(\"skaler çarpım sonucu = \", dot_product)\n",
    "print(f\"Açı (radyan): {angle_radians}\")\n",
    "print(f\"Açı (derece): {angle_degrees}\")"
   ]
  },
  {
   "cell_type": "code",
   "execution_count": null,
   "id": "978f9863-74fa-4f51-9637-91e4d693a004",
   "metadata": {},
   "outputs": [],
   "source": []
  },
  {
   "cell_type": "code",
   "execution_count": 54,
   "id": "fe238483-9d9b-4fdf-8057-8cad18012ccf",
   "metadata": {},
   "outputs": [],
   "source": [
    "def iki_vektör_açı(v1, v2):\n",
    "    # Calculate the cross product of v1 and v2\n",
    "    cross_product = np.cross(v1, v2)\n",
    "    \n",
    "    # Calculate the magnitudes (norms) of v1 and v2\n",
    "    norm_v1 = np.linalg.norm(v1)\n",
    "    norm_v2 = np.linalg.norm(v2)\n",
    "    \n",
    "    # Calculate the sine of the angle\n",
    "    sin_angle = np.linalg.norm(cross_product) / (norm_v1 * norm_v2)\n",
    "    \n",
    "    # Calculate the angle in radians\n",
    "    angle_radians = np.arcsin(sin_angle)\n",
    "    \n",
    "    # Convert radians to degrees\n",
    "    angle_degrees = np.degrees(angle_radians)\n",
    "    \n",
    "    return angle_radians, angle_degrees"
   ]
  },
  {
   "cell_type": "code",
   "execution_count": 55,
   "id": "5af41f2e-74f2-4278-8f78-415955bd4af9",
   "metadata": {},
   "outputs": [
    {
     "name": "stdout",
     "output_type": "stream",
     "text": [
      "Açı (radyan): 0.22572612855273394\n",
      "Açı (derece): 12.93315449189912\n"
     ]
    }
   ],
   "source": [
    "v1 = np.array([1, 2, 3])\n",
    "v2 = np.array([4, 5, 6])\n",
    "\n",
    "angle_radians, angle_degrees = iki_vektör_açı(v1, v2)\n",
    "\n",
    "print(f\"Açı (radyan): {angle_radians}\")\n",
    "print(f\"Açı (derece): {angle_degrees}\")"
   ]
  },
  {
   "cell_type": "code",
   "execution_count": null,
   "id": "726475aa-95ac-4125-85c9-0c4470800e3b",
   "metadata": {},
   "outputs": [],
   "source": []
  },
  {
   "cell_type": "markdown",
   "id": "3093adbe-c369-457f-830c-93ead0a1f165",
   "metadata": {},
   "source": [
    "## cross product --Vektörel çarpım "
   ]
  },
  {
   "cell_type": "code",
   "execution_count": 56,
   "id": "bae54e07-4194-45ca-940a-4766afca2156",
   "metadata": {},
   "outputs": [
    {
     "data": {
      "text/plain": [
       "array([-11,  -2,   5])"
      ]
     },
     "execution_count": 56,
     "metadata": {},
     "output_type": "execute_result"
    }
   ],
   "source": [
    "np.cross(l1, l2)"
   ]
  },
  {
   "cell_type": "code",
   "execution_count": 57,
   "id": "af7e1bbb-01a6-4cf4-b8b7-1d0f15172a90",
   "metadata": {},
   "outputs": [
    {
     "data": {
      "text/plain": [
       "array([-3,  6, -3])"
      ]
     },
     "execution_count": 57,
     "metadata": {},
     "output_type": "execute_result"
    }
   ],
   "source": [
    "np.cross(vector1, vector2)"
   ]
  },
  {
   "cell_type": "markdown",
   "id": "16887acd-fe97-4466-a32c-ba729ebad92c",
   "metadata": {},
   "source": [
    "# Birim matris"
   ]
  },
  {
   "cell_type": "code",
   "execution_count": 58,
   "id": "39cf125d-4af8-436b-af3c-99a6145c778f",
   "metadata": {},
   "outputs": [
    {
     "data": {
      "text/plain": [
       "array([[1., 0., 0.],\n",
       "       [0., 1., 0.],\n",
       "       [0., 0., 1.]])"
      ]
     },
     "execution_count": 58,
     "metadata": {},
     "output_type": "execute_result"
    }
   ],
   "source": [
    "np.eye(3)"
   ]
  },
  {
   "cell_type": "code",
   "execution_count": 59,
   "id": "70ddc190-c696-4d04-bdb5-8693424ac404",
   "metadata": {},
   "outputs": [
    {
     "data": {
      "text/plain": [
       "array([[1., 0., 0., 0., 0., 0., 0., 0., 0., 0.],\n",
       "       [0., 1., 0., 0., 0., 0., 0., 0., 0., 0.],\n",
       "       [0., 0., 1., 0., 0., 0., 0., 0., 0., 0.],\n",
       "       [0., 0., 0., 1., 0., 0., 0., 0., 0., 0.],\n",
       "       [0., 0., 0., 0., 1., 0., 0., 0., 0., 0.],\n",
       "       [0., 0., 0., 0., 0., 1., 0., 0., 0., 0.],\n",
       "       [0., 0., 0., 0., 0., 0., 1., 0., 0., 0.],\n",
       "       [0., 0., 0., 0., 0., 0., 0., 1., 0., 0.],\n",
       "       [0., 0., 0., 0., 0., 0., 0., 0., 1., 0.],\n",
       "       [0., 0., 0., 0., 0., 0., 0., 0., 0., 1.]])"
      ]
     },
     "execution_count": 59,
     "metadata": {},
     "output_type": "execute_result"
    }
   ],
   "source": [
    "np.eye(10)"
   ]
  },
  {
   "cell_type": "markdown",
   "id": "adb78450-90cb-428f-8780-752d64b3ef4e",
   "metadata": {},
   "source": [
    "# .reshape()"
   ]
  },
  {
   "cell_type": "code",
   "execution_count": 60,
   "id": "96e28b6b-0c90-49db-8308-c00e41d6bc7f",
   "metadata": {},
   "outputs": [
    {
     "data": {
      "text/plain": [
       "array([[ 0,  1,  2,  3,  4],\n",
       "       [ 5,  6,  7,  8,  9],\n",
       "       [10, 11, 12, 13, 14],\n",
       "       [15, 16, 17, 18, 19],\n",
       "       [20, 21, 22, 23, 24]])"
      ]
     },
     "execution_count": 60,
     "metadata": {},
     "output_type": "execute_result"
    }
   ],
   "source": [
    "arr =np.array([ 0,  1,  2,  3,  4,  5,  6,  7,  8,  9, 10, 11, 12, 13, 14, 15, 16,\n",
    "       17, 18, 19, 20, 21, 22, 23, 24])\n",
    "arr.reshape(5,5)"
   ]
  },
  {
   "cell_type": "code",
   "execution_count": 61,
   "id": "19bebf18-cfb5-445b-a767-2786aefe8680",
   "metadata": {},
   "outputs": [
    {
     "data": {
      "text/plain": [
       "array([[ 0,  1,  2,  3,  4],\n",
       "       [ 5,  6,  7,  8,  9],\n",
       "       [10, 11, 12, 13, 14],\n",
       "       [15, 16, 17, 18, 19],\n",
       "       [20, 21, 22, 23, 24]])"
      ]
     },
     "execution_count": 61,
     "metadata": {},
     "output_type": "execute_result"
    }
   ],
   "source": [
    "a1 = arr.reshape(5,5)\n",
    "a1"
   ]
  },
  {
   "cell_type": "code",
   "execution_count": null,
   "id": "5ffae013-b0a8-4bd1-9200-d945858b2b7b",
   "metadata": {},
   "outputs": [],
   "source": []
  },
  {
   "cell_type": "markdown",
   "id": "8810f59a-3f1e-4614-aea2-3a1246e05477",
   "metadata": {},
   "source": [
    "# bazı array işlemleri"
   ]
  },
  {
   "cell_type": "code",
   "execution_count": 62,
   "id": "f174583f-6d28-4752-a88c-2ad3c61c0417",
   "metadata": {},
   "outputs": [
    {
     "data": {
      "text/plain": [
       "24"
      ]
     },
     "execution_count": 62,
     "metadata": {},
     "output_type": "execute_result"
    }
   ],
   "source": [
    "arr.max()"
   ]
  },
  {
   "cell_type": "code",
   "execution_count": 63,
   "id": "2fb3b28c-fa4a-4916-aa8f-c2968e0e7925",
   "metadata": {},
   "outputs": [
    {
     "data": {
      "text/plain": [
       "0"
      ]
     },
     "execution_count": 63,
     "metadata": {},
     "output_type": "execute_result"
    }
   ],
   "source": [
    "arr.min()"
   ]
  },
  {
   "cell_type": "code",
   "execution_count": 64,
   "id": "761cccb3-f560-47f3-8c2e-16e5bfa44d33",
   "metadata": {},
   "outputs": [
    {
     "data": {
      "text/plain": [
       "300"
      ]
     },
     "execution_count": 64,
     "metadata": {},
     "output_type": "execute_result"
    }
   ],
   "source": [
    "arr.sum()"
   ]
  },
  {
   "cell_type": "code",
   "execution_count": 65,
   "id": "fbf00de5-e82d-4360-85cd-9d34cef206cc",
   "metadata": {},
   "outputs": [
    {
     "data": {
      "text/plain": [
       "12.0"
      ]
     },
     "execution_count": 65,
     "metadata": {},
     "output_type": "execute_result"
    }
   ],
   "source": [
    "arr.mean()"
   ]
  },
  {
   "cell_type": "code",
   "execution_count": 66,
   "id": "736bfa81-1b8f-426e-9b2e-6463bd56b0e1",
   "metadata": {},
   "outputs": [
    {
     "data": {
      "text/plain": [
       "24"
      ]
     },
     "execution_count": 66,
     "metadata": {},
     "output_type": "execute_result"
    }
   ],
   "source": [
    "arr.argmax() # maximum eleman hangi indekste"
   ]
  },
  {
   "cell_type": "code",
   "execution_count": 67,
   "id": "f496efaa-0f71-4e5c-b35c-bedcba852e14",
   "metadata": {},
   "outputs": [
    {
     "data": {
      "text/plain": [
       "0"
      ]
     },
     "execution_count": 67,
     "metadata": {},
     "output_type": "execute_result"
    }
   ],
   "source": [
    "arr.argmin() # minimum eleman hangi indekste"
   ]
  },
  {
   "cell_type": "markdown",
   "id": "619d0384-7a8b-4633-a0e6-2327a0110f02",
   "metadata": {},
   "source": [
    "# Determinant "
   ]
  },
  {
   "cell_type": "code",
   "execution_count": 68,
   "id": "9ea2b42b-2902-41e6-a840-ef3120e96074",
   "metadata": {},
   "outputs": [
    {
     "data": {
      "text/plain": [
       "array([[ 0,  1,  2,  3,  4],\n",
       "       [ 5,  6,  7,  8,  9],\n",
       "       [10, 11, 12, 13, 14],\n",
       "       [15, 16, 17, 18, 19],\n",
       "       [20, 21, 22, 23, 24]])"
      ]
     },
     "execution_count": 68,
     "metadata": {},
     "output_type": "execute_result"
    }
   ],
   "source": [
    "a1"
   ]
  },
  {
   "cell_type": "code",
   "execution_count": 69,
   "id": "7db877ed-177b-4daf-a30b-ccc6a887ce3f",
   "metadata": {},
   "outputs": [
    {
     "data": {
      "text/plain": [
       "0.0"
      ]
     },
     "execution_count": 69,
     "metadata": {},
     "output_type": "execute_result"
    }
   ],
   "source": [
    "np.linalg.det(a1)"
   ]
  },
  {
   "cell_type": "code",
   "execution_count": 70,
   "id": "43760805-1f01-4989-b23b-b7e6289a36f5",
   "metadata": {},
   "outputs": [
    {
     "ename": "LinAlgError",
     "evalue": "Singular matrix",
     "output_type": "error",
     "traceback": [
      "\u001b[1;31m---------------------------------------------------------------------------\u001b[0m",
      "\u001b[1;31mLinAlgError\u001b[0m                               Traceback (most recent call last)",
      "Cell \u001b[1;32mIn[70], line 1\u001b[0m\n\u001b[1;32m----> 1\u001b[0m np\u001b[38;5;241m.\u001b[39mlinalg\u001b[38;5;241m.\u001b[39minv(a1)\n",
      "File \u001b[1;32m~\\anaconda3\\Lib\\site-packages\\numpy\\linalg\\linalg.py:561\u001b[0m, in \u001b[0;36minv\u001b[1;34m(a)\u001b[0m\n\u001b[0;32m    559\u001b[0m signature \u001b[38;5;241m=\u001b[39m \u001b[38;5;124m'\u001b[39m\u001b[38;5;124mD->D\u001b[39m\u001b[38;5;124m'\u001b[39m \u001b[38;5;28;01mif\u001b[39;00m isComplexType(t) \u001b[38;5;28;01melse\u001b[39;00m \u001b[38;5;124m'\u001b[39m\u001b[38;5;124md->d\u001b[39m\u001b[38;5;124m'\u001b[39m\n\u001b[0;32m    560\u001b[0m extobj \u001b[38;5;241m=\u001b[39m get_linalg_error_extobj(_raise_linalgerror_singular)\n\u001b[1;32m--> 561\u001b[0m ainv \u001b[38;5;241m=\u001b[39m _umath_linalg\u001b[38;5;241m.\u001b[39minv(a, signature\u001b[38;5;241m=\u001b[39msignature, extobj\u001b[38;5;241m=\u001b[39mextobj)\n\u001b[0;32m    562\u001b[0m \u001b[38;5;28;01mreturn\u001b[39;00m wrap(ainv\u001b[38;5;241m.\u001b[39mastype(result_t, copy\u001b[38;5;241m=\u001b[39m\u001b[38;5;28;01mFalse\u001b[39;00m))\n",
      "File \u001b[1;32m~\\anaconda3\\Lib\\site-packages\\numpy\\linalg\\linalg.py:112\u001b[0m, in \u001b[0;36m_raise_linalgerror_singular\u001b[1;34m(err, flag)\u001b[0m\n\u001b[0;32m    111\u001b[0m \u001b[38;5;28;01mdef\u001b[39;00m \u001b[38;5;21m_raise_linalgerror_singular\u001b[39m(err, flag):\n\u001b[1;32m--> 112\u001b[0m     \u001b[38;5;28;01mraise\u001b[39;00m LinAlgError(\u001b[38;5;124m\"\u001b[39m\u001b[38;5;124mSingular matrix\u001b[39m\u001b[38;5;124m\"\u001b[39m)\n",
      "\u001b[1;31mLinAlgError\u001b[0m: Singular matrix"
     ]
    }
   ],
   "source": [
    "np.linalg.inv(a1) # determinantı sıfır olduğundna singular"
   ]
  },
  {
   "cell_type": "markdown",
   "id": "8b9994f0-749a-4ed9-b150-626f59babfe7",
   "metadata": {},
   "source": [
    "# çok boyutlu matrisler"
   ]
  },
  {
   "cell_type": "code",
   "execution_count": 71,
   "id": "d2372cdd-5191-47bd-8040-cd5a091fc22f",
   "metadata": {},
   "outputs": [],
   "source": [
    "arr =np.array([ -2,  1,  -2,  -3,  4,  5,  -6,  7,  8])"
   ]
  },
  {
   "cell_type": "code",
   "execution_count": 72,
   "id": "7970625c-e135-4423-af8e-c0f4bf1aa23d",
   "metadata": {},
   "outputs": [
    {
     "data": {
      "text/plain": [
       "array([[-2,  1, -2],\n",
       "       [-3,  4,  5],\n",
       "       [-6,  7,  8]])"
      ]
     },
     "execution_count": 72,
     "metadata": {},
     "output_type": "execute_result"
    }
   ],
   "source": [
    "arr2 = arr.reshape(3,3)\n",
    "arr2"
   ]
  },
  {
   "cell_type": "code",
   "execution_count": 73,
   "id": "3cdac5cf-f185-4450-8f81-ac783a30fbf7",
   "metadata": {},
   "outputs": [
    {
     "data": {
      "text/plain": [
       "-5.999999999999997"
      ]
     },
     "execution_count": 73,
     "metadata": {},
     "output_type": "execute_result"
    }
   ],
   "source": [
    "np.linalg.det(arr2)"
   ]
  },
  {
   "cell_type": "markdown",
   "id": "9da97009-210f-4c8c-be12-376efb98fe75",
   "metadata": {},
   "source": [
    "## Matrisin tersi "
   ]
  },
  {
   "cell_type": "code",
   "execution_count": 74,
   "id": "a5ce5fa8-42c9-46cd-a774-95657fa33ba0",
   "metadata": {},
   "outputs": [
    {
     "data": {
      "text/plain": [
       "array([[ 0.5       ,  3.66666667, -2.16666667],\n",
       "       [ 1.        ,  4.66666667, -2.66666667],\n",
       "       [-0.5       , -1.33333333,  0.83333333]])"
      ]
     },
     "execution_count": 74,
     "metadata": {},
     "output_type": "execute_result"
    }
   ],
   "source": [
    "np.linalg.inv(arr2)"
   ]
  },
  {
   "cell_type": "markdown",
   "id": "d80f3e5f-9c84-4a8b-ba88-94cb1f90d915",
   "metadata": {},
   "source": [
    "## arrayleri filtreleme"
   ]
  },
  {
   "cell_type": "code",
   "execution_count": 75,
   "id": "9765a589-51e5-4a1d-b715-9f3ec178f891",
   "metadata": {},
   "outputs": [
    {
     "data": {
      "text/plain": [
       "array([[-2,  1, -2],\n",
       "       [-3,  4,  5],\n",
       "       [-6,  7,  8]])"
      ]
     },
     "execution_count": 75,
     "metadata": {},
     "output_type": "execute_result"
    }
   ],
   "source": [
    "arr2"
   ]
  },
  {
   "cell_type": "code",
   "execution_count": 76,
   "id": "bdaa51f3-3c66-4bed-a1fb-9604ddf7637a",
   "metadata": {},
   "outputs": [
    {
     "data": {
      "text/plain": [
       "array([[False, False, False],\n",
       "       [False, False, False],\n",
       "       [False,  True,  True]])"
      ]
     },
     "execution_count": 76,
     "metadata": {},
     "output_type": "execute_result"
    }
   ],
   "source": [
    "arr2 > 5"
   ]
  },
  {
   "cell_type": "code",
   "execution_count": 77,
   "id": "f2a91795-194d-443f-9592-82e398f1e274",
   "metadata": {},
   "outputs": [
    {
     "data": {
      "text/plain": [
       "array([[ True, False,  True],\n",
       "       [ True, False, False],\n",
       "       [ True, False, False]])"
      ]
     },
     "execution_count": 77,
     "metadata": {},
     "output_type": "execute_result"
    }
   ],
   "source": [
    "arr2 < 0"
   ]
  },
  {
   "cell_type": "code",
   "execution_count": null,
   "id": "52c38190-2ca5-4753-99ce-d3ecc64412e8",
   "metadata": {},
   "outputs": [],
   "source": []
  }
 ],
 "metadata": {
  "kernelspec": {
   "display_name": "Python 3 (ipykernel)",
   "language": "python",
   "name": "python3"
  },
  "language_info": {
   "codemirror_mode": {
    "name": "ipython",
    "version": 3
   },
   "file_extension": ".py",
   "mimetype": "text/x-python",
   "name": "python",
   "nbconvert_exporter": "python",
   "pygments_lexer": "ipython3",
   "version": "3.11.8"
  }
 },
 "nbformat": 4,
 "nbformat_minor": 5
}
