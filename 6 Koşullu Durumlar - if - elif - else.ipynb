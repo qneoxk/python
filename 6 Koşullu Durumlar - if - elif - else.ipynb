{
 "cells": [
  {
   "cell_type": "markdown",
   "metadata": {},
   "source": [
    "# Koşullu Durumlar - if -else "
   ]
  },
  {
   "cell_type": "markdown",
   "metadata": {},
   "source": [
    "Python Progrmalarının çalışma mantığı "
   ]
  },
  {
   "cell_type": "markdown",
   "metadata": {},
   "source": [
    "Python'da bir program, en üst satırdan başlayarak en alt satıra kadar satır satır işlemleri yapar, artık işlenecek satır kalmadığında program sonlanır. "
   ]
  },
  {
   "cell_type": "markdown",
   "metadata": {},
   "source": [
    "Python'da blok yapısı girintiler sayesinde yapılır. "
   ]
  },
  {
   "cell_type": "code",
   "execution_count": 9,
   "metadata": {},
   "outputs": [
    {
     "name": "stdout",
     "output_type": "stream",
     "text": [
      "a değişkeninin değeri : 2\n",
      "Maverick\n"
     ]
    }
   ],
   "source": [
    "a = 2 # Blok 1' in kodu \n",
    "\n",
    "if (a == 2):\n",
    "    print(\"a değişkeninin değeri :\", a)  # blok 2\n",
    "\n",
    "print(\"Maverick\") # Blok 1' e ait kod "
   ]
  },
  {
   "cell_type": "code",
   "execution_count": 10,
   "metadata": {},
   "outputs": [
    {
     "name": "stdout",
     "output_type": "stream",
     "text": [
      "Maverick\n"
     ]
    }
   ],
   "source": [
    "a = 3 # Blok 1' in kodu \n",
    "\n",
    "if (a == 2):\n",
    "    print(\"a'nın değeri :\", a)  # blok 2\n",
    "\n",
    "print(\"Maverick\") # Blok 1' e ait kod "
   ]
  },
  {
   "cell_type": "markdown",
   "metadata": {},
   "source": [
    "# If koşulu ve Python' daki blok yapısı"
   ]
  },
  {
   "cell_type": "markdown",
   "metadata": {},
   "source": [
    "if bloğu kullanılırken if(koşul) yapısı kullanılır. Bu koşul herhangi bir karşılaştırma ya da mantıksal değer kullanılmalıdır. if bloğunu açmak için : işareti kullanılır. Daha sonra alt satırdan istenen bilgiler girilir. if bloğu eğer koşul doğru ise çalışır, koşul false ise Python if bloğunu işletmez ve ilk bloktan devam eder.  "
   ]
  },
  {
   "cell_type": "code",
   "execution_count": 3,
   "metadata": {},
   "outputs": [
    {
     "name": "stdin",
     "output_type": "stream",
     "text": [
      "notunuzu giriniz:  68\n"
     ]
    }
   ],
   "source": [
    "nt = int(input(\"notunuzu giriniz: \"))\n",
    "\n",
    "if nt < 60: \n",
    "    print(\"Dersten geçemezsiniz !\")"
   ]
  },
  {
   "cell_type": "code",
   "execution_count": 2,
   "metadata": {},
   "outputs": [
    {
     "data": {
      "text/plain": [
       "str"
      ]
     },
     "execution_count": 2,
     "metadata": {},
     "output_type": "execute_result"
    }
   ],
   "source": [
    "type(nt)"
   ]
  },
  {
   "cell_type": "code",
   "execution_count": 4,
   "metadata": {},
   "outputs": [
    {
     "name": "stdin",
     "output_type": "stream",
     "text": [
      "notunuzu giriniz:  68\n"
     ]
    },
    {
     "name": "stdout",
     "output_type": "stream",
     "text": [
      "Dersten başarılı bulundunuz\n"
     ]
    }
   ],
   "source": [
    "nt = int(input(\"notunuzu giriniz: \"))\n",
    "\n",
    "if nt < 60: \n",
    "    print(\"Dersten geçemezsiniz !\")\n",
    "else:\n",
    "    print(\"Dersten başarılı bulundunuz\")"
   ]
  },
  {
   "cell_type": "code",
   "execution_count": 6,
   "metadata": {},
   "outputs": [
    {
     "name": "stdin",
     "output_type": "stream",
     "text": [
      "sayı : 9\n"
     ]
    },
    {
     "name": "stdout",
     "output_type": "stream",
     "text": [
      "sıfır veya pozitif sayı\n"
     ]
    }
   ],
   "source": [
    "sayı = int(input(\"sayı :\"))\n",
    "\n",
    "if sayı < 0:\n",
    "    print(\"negatif sayı\")\n",
    "else:\n",
    "    print(\"sıfır veya pozitif sayı\")"
   ]
  },
  {
   "cell_type": "code",
   "execution_count": null,
   "metadata": {},
   "outputs": [],
   "source": []
  },
  {
   "cell_type": "markdown",
   "metadata": {},
   "source": [
    "ilk örnekte sayı negatif olduğundan else bloğu, ikinci örnekte de sayı pozitif olduğundan if bloğu çalışmadı. "
   ]
  },
  {
   "cell_type": "markdown",
   "metadata": {},
   "source": [
    "Kullanıcıdan alınan bir sayının 0, pozitif bir sayı ve negatif bir sayı olduğunu tespit eden program aşağıdakilerden hangisidir ?"
   ]
  },
  {
   "cell_type": "code",
   "execution_count": 8,
   "metadata": {},
   "outputs": [
    {
     "name": "stdin",
     "output_type": "stream",
     "text": [
      "Bir sayı giriniz  0\n"
     ]
    },
    {
     "name": "stdout",
     "output_type": "stream",
     "text": [
      "sayı 0' a eşittir.\n"
     ]
    }
   ],
   "source": [
    "number = float(input(\"Bir sayı giriniz \")) # 1. kod bloğu\n",
    "\n",
    "if number >= 0:                            # 2. kod bloğu\n",
    "    if number == 0:                        # 3. kod bloğu\n",
    "        print(\"sayı 0' a eşittir.\")\n",
    "    else: \n",
    "        print(\"sayı pozitiftir.\")\n",
    "else:\n",
    "    print(\"sayı negatiftir\")"
   ]
  },
  {
   "cell_type": "markdown",
   "metadata": {},
   "source": [
    "# if - elif - else"
   ]
  },
  {
   "cell_type": "raw",
   "metadata": {},
   "source": [
    "Birden fazla koşulun olduğu durumlarda kullanılan yapıdır. \n",
    "\n",
    "if koşul:\n",
    "    Yapılacak işlemler \n",
    "elif farklı bir koşul: \n",
    "    Yapılacak işlemler \n",
    "elif farklı bir koşul: \n",
    "    // \n",
    "    // \n",
    "else: \n",
    "    Yapılacak işlemler"
   ]
  },
  {
   "cell_type": "code",
   "execution_count": 14,
   "metadata": {},
   "outputs": [
    {
     "name": "stdin",
     "output_type": "stream",
     "text": [
      "işlem numarası giriniz:  x\n"
     ]
    },
    {
     "name": "stdout",
     "output_type": "stream",
     "text": [
      "tanımsız sayı girildi\n"
     ]
    }
   ],
   "source": [
    "islem = input(\"işlem numarası giriniz: \")\n",
    "\n",
    "if islem == \"1\": \n",
    "    print(\"işlem 1 seçildi\")\n",
    "elif islem == \"2\":\n",
    "    print(\"işlem 2 seçildi\")\n",
    "elif islem == \"3\":\n",
    "    print(\"işlem 3 seçildi\")\n",
    "else:\n",
    "    print(\"tanımsız sayı girildi\")"
   ]
  },
  {
   "cell_type": "raw",
   "metadata": {},
   "source": [
    "elif blokları, if bloğundaki koşul sağlanmazsa çalışır. Fakat if bloğu üst satırları kontrol etmez. Örnek olarak hemen yukarıdaki prograda elif blokları if yapılırsa: "
   ]
  },
  {
   "cell_type": "code",
   "execution_count": 15,
   "metadata": {},
   "outputs": [
    {
     "name": "stdin",
     "output_type": "stream",
     "text": [
      "notunuzu giriniz:  100\n"
     ]
    },
    {
     "name": "stdout",
     "output_type": "stream",
     "text": [
      "AA\n",
      "BA\n",
      "BB\n",
      "CA\n",
      "CC\n"
     ]
    }
   ],
   "source": [
    "not_ = int(input(\"notunuzu giriniz: \"))\n",
    "\n",
    "if (not_ > 90):\n",
    "    print(\"AA\")\n",
    "if (not_> 85):\n",
    "    print(\"BA\")\n",
    "if (not_ > 80):\n",
    "    print(\"BB\")\n",
    "if (not_> 75):\n",
    "    print(\"CA\")\n",
    "if (not_ > 70):\n",
    "    print(\"CC\") \n",
    "else:\n",
    "    print(\"seneye görüşürüz\") "
   ]
  },
  {
   "cell_type": "code",
   "execution_count": 19,
   "metadata": {},
   "outputs": [
    {
     "name": "stdin",
     "output_type": "stream",
     "text": [
      "notunuzu giriniz  70\n"
     ]
    },
    {
     "name": "stdout",
     "output_type": "stream",
     "text": [
      "CC\n"
     ]
    }
   ],
   "source": [
    "not_ = float(input(\"notunuzu giriniz \"))\n",
    "\n",
    "if (not_ > 90):\n",
    "    print(\"AA\")\n",
    "elif (not_> 85):\n",
    "    print(\"BA\")\n",
    "elif (not_ > 80):\n",
    "    print(\"BB\")\n",
    "elif (not_> 75):\n",
    "    print(\"CA\")\n",
    "elif (not_ > 70):\n",
    "    print(\"CC\") \n",
    "else:\n",
    "    print(\"seneye görüşürüz\") "
   ]
  },
  {
   "cell_type": "raw",
   "metadata": {},
   "source": [
    "Yukarıdaki ösnekte, not 88 olduğundan ilk if bloğu çalışmadı. not > 85 olan koşul sağlandı ve sonuç BA ile verildi. Fakat alttaki if blokları, üstteki if bloklarını kontrol etmediğinden ekrana BB, CA ve CC notları da yazdırıldı.\n",
    "elif ve else, üstteki koşullar çalışmadığında göz önüne alınacak koşullarla kullanılır."
   ]
  },
  {
   "cell_type": "code",
   "execution_count": 23,
   "metadata": {},
   "outputs": [],
   "source": [
    "l = [i for i in range(1,41)]\n",
    "\n",
    "lc = []\n",
    "lt = []\n",
    "for i in l:\n",
    "    if (i % 2 == 0):\n",
    "        lc.append(i)\n",
    "    else:\n",
    "        lt.append(i)"
   ]
  },
  {
   "cell_type": "code",
   "execution_count": 24,
   "metadata": {},
   "outputs": [
    {
     "data": {
      "text/plain": [
       "[2, 4, 6, 8, 10, 12, 14, 16, 18, 20, 22, 24, 26, 28, 30, 32, 34, 36, 38, 40]"
      ]
     },
     "execution_count": 24,
     "metadata": {},
     "output_type": "execute_result"
    }
   ],
   "source": [
    "lc"
   ]
  },
  {
   "cell_type": "code",
   "execution_count": 25,
   "metadata": {},
   "outputs": [
    {
     "data": {
      "text/plain": [
       "[1, 3, 5, 7, 9, 11, 13, 15, 17, 19, 21, 23, 25, 27, 29, 31, 33, 35, 37, 39]"
      ]
     },
     "execution_count": 25,
     "metadata": {},
     "output_type": "execute_result"
    }
   ],
   "source": [
    "lt"
   ]
  },
  {
   "cell_type": "markdown",
   "metadata": {},
   "source": [
    "# Basit bir hesap makinesi "
   ]
  },
  {
   "cell_type": "code",
   "execution_count": 29,
   "metadata": {},
   "outputs": [
    {
     "name": "stdout",
     "output_type": "stream",
     "text": [
      " ****************************************\n",
      "HESAP Makinesi Programı \n",
      "\n",
      "İşlemler: \n",
      "\n",
      "1. Toplama işlemi \n",
      "2. Çıkarma işlemi \n",
      "3. Çarpma işlemi\n",
      "4. Bölme işlemi \n",
      "\n",
      "***************************************\n",
      "\n"
     ]
    },
    {
     "name": "stdin",
     "output_type": "stream",
     "text": [
      "Birinci sayıyı giriniz =  98\n",
      "ikinci sayıyı giriniz = -7\n",
      "İşlem numarası giriniz:  x\n"
     ]
    },
    {
     "name": "stdout",
     "output_type": "stream",
     "text": [
      "farklı biri işlem numarası giridniz\n"
     ]
    }
   ],
   "source": [
    "print(\"\"\" ****************************************\n",
    "HESAP Makinesi Programı \n",
    "\n",
    "İşlemler: \n",
    "\n",
    "1. Toplama işlemi \n",
    "2. Çıkarma işlemi \n",
    "3. Çarpma işlemi\n",
    "4. Bölme işlemi \n",
    "\n",
    "***************************************\n",
    "\"\"\")\n",
    "\n",
    "x = float(input(\"Birinci sayıyı giriniz = \"))\n",
    "y = float(input(\"ikinci sayıyı giriniz =\"))\n",
    "\n",
    "işlem = input(\"İşlem numarası giriniz: \")\n",
    "\n",
    "if  işlem == \"1\":\n",
    "    print(\"{} ile {}' in toplamı = {}' dir\".format(x, y, x+y))\n",
    "elif işlem == \"2\":\n",
    "    print(\"{} ile {}' nin farkı = {}' dir\".format(x, y, x - y))\n",
    "elif işlem == \"3\":\n",
    "    print(\"{} ile {}' nin çarpımı = {}' dir\".format(x, y, x * y))\n",
    "elif işlem == \"4\":\n",
    "    print(\"{} ile {}' nin bölümü = {}' dir\".format(x, y, x / y))\n",
    "else:\n",
    "    print(\"farklı biri işlem numarası giridniz\")"
   ]
  },
  {
   "cell_type": "code",
   "execution_count": null,
   "metadata": {},
   "outputs": [],
   "source": []
  }
 ],
 "metadata": {
  "kernelspec": {
   "display_name": "Python 3 (ipykernel)",
   "language": "python",
   "name": "python3"
  },
  "language_info": {
   "codemirror_mode": {
    "name": "ipython",
    "version": 3
   },
   "file_extension": ".py",
   "mimetype": "text/x-python",
   "name": "python",
   "nbconvert_exporter": "python",
   "pygments_lexer": "ipython3",
   "version": "3.9.18"
  }
 },
 "nbformat": 4,
 "nbformat_minor": 4
}
