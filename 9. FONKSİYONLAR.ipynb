{
 "cells": [
  {
   "cell_type": "markdown",
   "metadata": {},
   "source": [
    "# Fonksiyonlar"
   ]
  },
  {
   "cell_type": "raw",
   "metadata": {},
   "source": [
    "Fonksiyonlar, belirli işlevleri olan ve tekrar tekrar kullandığımız yapılardır. Örneğin dersin başından beri kullandığımız print bir fonksiyondur. Bir fonksiyon tanımlandıktan sonra iihtiyaca göre tekrar ve tekrar bu fonksiyonları kullanabiliriz. "
   ]
  },
  {
   "cell_type": "raw",
   "metadata": {},
   "source": [
    "Python geliştiricileri tarafından geliştirilmiş olan ve print gibi type gibi kullandığımız fonksiyonlar \"gömülü fonksiyonlar\" (built-in function) denir. Fakat bunun haricinde kullanıcı da kendi fonksiyonunu yazıp kullanabilir. Bu tip fonksiyonlara da \"kullanıcı tanımlı fonksiyonlar\" (user-defined functions) denir. "
   ]
  },
  {
   "cell_type": "markdown",
   "metadata": {},
   "source": [
    "# Fonksiyonların tanımlanması "
   ]
  },
  {
   "cell_type": "raw",
   "metadata": {},
   "source": [
    "def   fonksiyon_adı (parametre1, parameter2,….(opsiyonel)):\n",
    "\t\t# Fonksiyon Bloğu\n",
    "\t   \tBu blokta yapılacak işlemler\n",
    "\t\t# dönüş değeri (opsiyonel) "
   ]
  },
  {
   "cell_type": "raw",
   "metadata": {},
   "source": [
    "Burada \"def\" bir anahtardır ve yapılacak işleme göre fonksiyon tanımlanarak içine opsiyonle olarak parameteler yerleştirilir. Fonksiyon bloğu, tanımlanacak olan fonksiyonun yapacağı işlemi tanımlayan kod bütünüdür. Fonksiyon her ne zaman kullanılacaksa bu kod bloğu çalıştırılır. Ayrıca opsiyonel olarak dönüş değeri de belitirilebilir. "
   ]
  },
  {
   "cell_type": "code",
   "execution_count": null,
   "metadata": {},
   "outputs": [],
   "source": [
    "def champion():\n",
    "    print(\"Şampiyon\")\n",
    "    print(\"FB\")"
   ]
  },
  {
   "cell_type": "code",
   "execution_count": null,
   "metadata": {},
   "outputs": [],
   "source": [
    "type(champion)"
   ]
  },
  {
   "cell_type": "code",
   "execution_count": null,
   "metadata": {},
   "outputs": [],
   "source": [
    "champion()"
   ]
  },
  {
   "cell_type": "raw",
   "metadata": {},
   "source": [
    "champion fonksiyonunu tanımlarken dikkat edilirse içine parametre yazılmadı. Dolayısıyla örneğin champion(\"Fenerbahçe\") gibi bir komut kullandığımızda program hata verecektir: "
   ]
  },
  {
   "cell_type": "code",
   "execution_count": null,
   "metadata": {},
   "outputs": [],
   "source": [
    "champion(\"Galatasaray\")"
   ]
  },
  {
   "cell_type": "raw",
   "metadata": {},
   "source": [
    "Fonksiyonları, içine değer alabilecek şekilde yazabiliriz. Bu amaçla parametre ve argümanlar kullanılır. "
   ]
  },
  {
   "cell_type": "code",
   "execution_count": null,
   "metadata": {},
   "outputs": [],
   "source": [
    "def ad(isim): \n",
    "    print(\"İsminiz:\", isim)"
   ]
  },
  {
   "cell_type": "code",
   "execution_count": null,
   "metadata": {},
   "outputs": [],
   "source": [
    "ad(\"xxxxxxx\")"
   ]
  },
  {
   "cell_type": "raw",
   "metadata": {},
   "source": [
    "Fonksiyon içerisinde yazılan terim \"argüman\" olarak adlandırılır. \"isim\" ise parametredir."
   ]
  },
  {
   "cell_type": "raw",
   "metadata": {},
   "source": [
    "Şimdi bir toplama fonksiyonu tanımlayalım. "
   ]
  },
  {
   "cell_type": "code",
   "execution_count": null,
   "metadata": {},
   "outputs": [],
   "source": [
    "def toplama(a,b,c):\n",
    "    print(\"Toplamları:\", a + b + c)"
   ]
  },
  {
   "cell_type": "code",
   "execution_count": null,
   "metadata": {},
   "outputs": [],
   "source": [
    "toplama(3,4,5)"
   ]
  },
  {
   "cell_type": "raw",
   "metadata": {},
   "source": [
    "Şimdi bir faktoriyel fonksiyonu tanımlayalım. "
   ]
  },
  {
   "cell_type": "code",
   "execution_count": null,
   "metadata": {},
   "outputs": [],
   "source": [
    "def faktoriyel(sayı):\n",
    "    faktoriyel = 1\n",
    "    if (sayı == 0 or sayı == 1):\n",
    "        print(\"Faktoriyel:\", faktoriyel)\n",
    "    else:\n",
    "        while(sayı >= 1):\n",
    "            faktoriyel *= sayı\n",
    "            sayı -= 1\n",
    "        print(\"Faktoriyel:\", faktoriyel)"
   ]
  },
  {
   "cell_type": "code",
   "execution_count": null,
   "metadata": {},
   "outputs": [],
   "source": [
    "faktoriyel(0)"
   ]
  },
  {
   "cell_type": "code",
   "execution_count": null,
   "metadata": {},
   "outputs": [],
   "source": [
    "faktoriyel(1)"
   ]
  },
  {
   "cell_type": "code",
   "execution_count": null,
   "metadata": {},
   "outputs": [],
   "source": [
    "faktoriyel(5)"
   ]
  },
  {
   "cell_type": "code",
   "execution_count": null,
   "metadata": {},
   "outputs": [],
   "source": [
    "faktoriyel(20)"
   ]
  },
  {
   "cell_type": "markdown",
   "metadata": {},
   "source": [
    "# Fonksiyonlarda Return "
   ]
  },
  {
   "cell_type": "raw",
   "metadata": {},
   "source": [
    "Return ifadesi, fonksiyonun işlevi bittikten sonra, çağrıldığı yere değer döndürmesi anlamını taşır. Böylece, fonksiyondan alınan değeri bir değişkende depolayabilir ve gerek duyulduğunda bu değişken ile işlem yapabiliyoruz. "
   ]
  },
  {
   "cell_type": "code",
   "execution_count": null,
   "metadata": {},
   "outputs": [],
   "source": [
    "def toplama(a,b,c):\n",
    "    print(\"Toplamları:\", a+b+c)"
   ]
  },
  {
   "cell_type": "code",
   "execution_count": null,
   "metadata": {},
   "outputs": [],
   "source": [
    "def ikikatı(a):\n",
    "    print(\"iki katı\", 2 * a)"
   ]
  },
  {
   "cell_type": "code",
   "execution_count": null,
   "metadata": {},
   "outputs": [],
   "source": [
    "x = toplama(3,4,5)\n",
    "\n",
    "ikikatı(x)"
   ]
  },
  {
   "cell_type": "code",
   "execution_count": null,
   "metadata": {},
   "outputs": [],
   "source": [
    "type(x)"
   ]
  },
  {
   "cell_type": "raw",
   "metadata": {},
   "source": [
    "Dikkat edilirse toplam değişkeni \"nontype\" olarak tanımlı ve programın hatasında da bu bildiriliyor. İşte bu sorunu \"return\" komutu ile aşabiliyoruz. "
   ]
  },
  {
   "cell_type": "code",
   "execution_count": null,
   "metadata": {},
   "outputs": [],
   "source": [
    "def toplama(a,b,c):\n",
    "    return a+b+c\n",
    "\n",
    "def ikikatı(a):\n",
    "    return 2 * a"
   ]
  },
  {
   "cell_type": "code",
   "execution_count": null,
   "metadata": {},
   "outputs": [],
   "source": [
    "xx = toplama (3,4,5)\n",
    "\n",
    "print(ikikatı(xx))"
   ]
  },
  {
   "cell_type": "code",
   "execution_count": null,
   "metadata": {},
   "outputs": [],
   "source": [
    "type(xx)"
   ]
  },
  {
   "cell_type": "raw",
   "metadata": {},
   "source": [
    "return ile 3+4+5 sayıları toplandıktan sonra, sonuç çağrılıdığı yere geri dönüyor. Böylece \n",
    "toplam = toplama(3,4,5) işleminde toplam = 12 olur ve iki ile çarpma işlemi uygulanabilir. "
   ]
  },
  {
   "cell_type": "code",
   "execution_count": null,
   "metadata": {},
   "outputs": [],
   "source": [
    "def toplama(a,b):\n",
    "    print(\"1.fonksiyon çalıştı\", a+b)\n",
    "    return a + b"
   ]
  },
  {
   "cell_type": "code",
   "execution_count": null,
   "metadata": {},
   "outputs": [],
   "source": [
    "def ikikatı(a):\n",
    "    print(\"2.fonksiyon çalıştı\", 2*a)\n",
    "    return 2 * a"
   ]
  },
  {
   "cell_type": "code",
   "execution_count": null,
   "metadata": {},
   "outputs": [],
   "source": [
    "def yarısı(a):\n",
    "    print(\"3.fonksiyon çalıştı\", a/2)\n",
    "    return a / 2 "
   ]
  },
  {
   "cell_type": "code",
   "execution_count": null,
   "metadata": {},
   "outputs": [],
   "source": [
    "print(yarısı(ikikatı(toplama(9,8))))"
   ]
  },
  {
   "cell_type": "markdown",
   "metadata": {},
   "source": [
    "return' ün bir özelliği, fonksiyonu sonlandırmasıdır. Yani, fonksiyon tanımında return komutundan sonraki komutlar görünmez ve işletilemez "
   ]
  },
  {
   "cell_type": "code",
   "execution_count": null,
   "metadata": {},
   "outputs": [],
   "source": [
    "def toplama(a,b):\n",
    "    return a + b\n",
    "    print(\"toplama fonskiyonu\")"
   ]
  },
  {
   "cell_type": "code",
   "execution_count": null,
   "metadata": {},
   "outputs": [],
   "source": [
    "toplama(4,5)"
   ]
  },
  {
   "cell_type": "code",
   "execution_count": null,
   "metadata": {},
   "outputs": [],
   "source": [
    "print(toplama(4,5))"
   ]
  },
  {
   "cell_type": "code",
   "execution_count": null,
   "metadata": {},
   "outputs": [],
   "source": [
    "def toplama(a,b):\n",
    "    print(\"toplama fonskiyonu\")\n",
    "    return a + b"
   ]
  },
  {
   "cell_type": "code",
   "execution_count": null,
   "metadata": {},
   "outputs": [],
   "source": [
    "print(toplama(4,5))"
   ]
  },
  {
   "cell_type": "markdown",
   "metadata": {},
   "source": [
    "Dış dünyaya bilgi göndermeyen fonksiyonlara \"void\" fonksiyonlar denir. "
   ]
  },
  {
   "cell_type": "code",
   "execution_count": null,
   "metadata": {},
   "outputs": [],
   "source": [
    "toplama()"
   ]
  },
  {
   "cell_type": "markdown",
   "metadata": {},
   "source": [
    "# Fonksiyonlarda Parametre Türleri "
   ]
  },
  {
   "cell_type": "code",
   "execution_count": null,
   "metadata": {},
   "outputs": [],
   "source": [
    "def selamla(isim):\n",
    "    print(\"selam\", isim)"
   ]
  },
  {
   "cell_type": "code",
   "execution_count": null,
   "metadata": {},
   "outputs": [],
   "source": [
    "selamla(\"Cemre\")"
   ]
  },
  {
   "cell_type": "code",
   "execution_count": null,
   "metadata": {},
   "outputs": [],
   "source": [
    "selamla()"
   ]
  },
  {
   "cell_type": "raw",
   "metadata": {},
   "source": [
    "selamla olarak tanımlanan fonksiyonda \"isim\" parametre olarak belirlenmiştir ve isim değişkeni yani parametre değiştikçe, fonksiyon parametre değerine göre işlemektedir. selamla fonksiyonu içerisine parametre tanımlandığından, bu fonksiyonu selamla() olarak yani içi boş olarak kullanamayız. Ancak parametrelere varsayılan değerler atanırsa o zaman fonksiyon parametresiz olarak kullanılabilir.  "
   ]
  },
  {
   "cell_type": "code",
   "execution_count": null,
   "metadata": {},
   "outputs": [],
   "source": [
    "def selamla(isim = \"isimsiz\"):\n",
    "    print(\"selam\", isim)"
   ]
  },
  {
   "cell_type": "code",
   "execution_count": null,
   "metadata": {},
   "outputs": [],
   "source": [
    "selamla(\"Cemre\")"
   ]
  },
  {
   "cell_type": "code",
   "execution_count": null,
   "metadata": {},
   "outputs": [],
   "source": [
    "selamla()"
   ]
  },
  {
   "cell_type": "code",
   "execution_count": null,
   "metadata": {},
   "outputs": [],
   "source": [
    "a, b, c = 24, 48, 63\n",
    "a"
   ]
  },
  {
   "cell_type": "code",
   "execution_count": null,
   "metadata": {},
   "outputs": [],
   "source": [
    "def bilgiler(ad = \"Bilgi yok\", \n",
    "             soyad = \"Bilgi yok\", \n",
    "             numara = \"Bilgi yok\"):\n",
    "    \n",
    "    print(\"Ad: \", ad, \"//\" , \n",
    "          \"Soyad: \", soyad, \"//\", \n",
    "          \"Numara: \", numara)"
   ]
  },
  {
   "cell_type": "code",
   "execution_count": null,
   "metadata": {},
   "outputs": [],
   "source": [
    "bilgiler()"
   ]
  },
  {
   "cell_type": "code",
   "execution_count": null,
   "metadata": {},
   "outputs": [],
   "source": [
    "bilgiler(\"Gökhan\", \"Türeci\", \"1234\")"
   ]
  },
  {
   "cell_type": "code",
   "execution_count": null,
   "metadata": {},
   "outputs": [],
   "source": [
    "bilgiler(\"Gökhan\",\"Türeci\")"
   ]
  },
  {
   "cell_type": "code",
   "execution_count": null,
   "metadata": {},
   "outputs": [],
   "source": [
    "bilgiler(2)"
   ]
  },
  {
   "cell_type": "code",
   "execution_count": null,
   "metadata": {},
   "outputs": [],
   "source": []
  },
  {
   "cell_type": "raw",
   "metadata": {},
   "source": [
    "bilgiler fonksiyonu içerisine 3 tane parametre girildi ve bu parametrelere varsayılan değerler \"Bilgi yok\" olarak atandı.Eğer ilk iki parametreye değer verilirse üçüncü parametre varsayılan değer olarak çalışacaktır. Fakat ilk iki parametre tanımlanmadan son parametreye değer verilerek fonksiyon çalıştırılmak istenirse, bu durumda program hata verecektir. Bilgiler sıralı girilmelidir."
   ]
  },
  {
   "cell_type": "raw",
   "metadata": {},
   "source": [
    "Eğer ilk iki bilgi girilmeden son bilgiye gereksinim varsa, fonksiyon içinde özel olarak istenen paramete belirtilerek fonksiyon çalıştırılmalıdır. "
   ]
  },
  {
   "cell_type": "code",
   "execution_count": null,
   "metadata": {},
   "outputs": [],
   "source": [
    "bilgiler(\"1234\")"
   ]
  },
  {
   "cell_type": "code",
   "execution_count": null,
   "metadata": {},
   "outputs": [],
   "source": [
    "bilgiler(numara = \"1234\")"
   ]
  },
  {
   "cell_type": "markdown",
   "metadata": {},
   "source": [
    "# Esnek sayıda değerler"
   ]
  },
  {
   "cell_type": "code",
   "execution_count": null,
   "metadata": {},
   "outputs": [],
   "source": [
    "def toplama(a,b,c):\n",
    "    print(a + b + c)"
   ]
  },
  {
   "cell_type": "code",
   "execution_count": null,
   "metadata": {},
   "outputs": [],
   "source": [
    "toplama(3,4,5)"
   ]
  },
  {
   "cell_type": "raw",
   "metadata": {},
   "source": [
    "toplama fonksiyonu, 3 tane parametre ile yani daima üç sayının toplamını almak üzere tanımlanmış durumda. Dolayısıyla 4 tane sayının toplamını alamayız. "
   ]
  },
  {
   "cell_type": "code",
   "execution_count": null,
   "metadata": {},
   "outputs": [],
   "source": [
    "toplama(3,4,5,6)"
   ]
  },
  {
   "cell_type": "raw",
   "metadata": {},
   "source": [
    "Bu sorunu, esnek sayıda değerler ile çözebiliriz."
   ]
  },
  {
   "cell_type": "code",
   "execution_count": null,
   "metadata": {},
   "outputs": [],
   "source": [
    "def toplama(*a):\n",
    "    print(a)"
   ]
  },
  {
   "cell_type": "code",
   "execution_count": null,
   "metadata": {},
   "outputs": [],
   "source": [
    "toplama(1,2,3, 4, 5, 8,6,7,9)"
   ]
  },
  {
   "cell_type": "raw",
   "metadata": {},
   "source": [
    "*a şeklinde tanımlanan parametre ile, fonskiyon çalıştırıldığında ve üç tane sayı verildiğinde, sayılar tuple olarak tutulur. Bir for döngüsü tanımlayıp bu döngü ile *a şeklinde tanımlanan tuple üzerinde gezerek, tuple içindeki sayıların toplamını alabiliriz. Böylece, kaç tane rakam girilmiş olursa olsun, fonksiyon artık girilen sayı kadar sayının toplamını alabilecektir."
   ]
  },
  {
   "cell_type": "code",
   "execution_count": null,
   "metadata": {},
   "outputs": [],
   "source": [
    "def toplama(*a):\n",
    "    toplam = 0\n",
    "    print(a)\n",
    "    for i in a:\n",
    "        toplam += i\n",
    "    print(\"toplam= \", toplam)"
   ]
  },
  {
   "cell_type": "code",
   "execution_count": null,
   "metadata": {},
   "outputs": [],
   "source": [
    "toplama(1,2,3,4,40,100)"
   ]
  },
  {
   "cell_type": "code",
   "execution_count": null,
   "metadata": {},
   "outputs": [],
   "source": [
    "toplama(1, 2, 3, 4, 5)"
   ]
  },
  {
   "cell_type": "markdown",
   "metadata": {},
   "source": [
    "# Global ve Yerel Değişkenler"
   ]
  },
  {
   "cell_type": "raw",
   "metadata": {},
   "source": [
    "Kullanıcı tarafından tanımlanan fonksiyon bloğunda oluşturulan değişkenler yerel değişken olarak adlandırılır. Fonksiyon çalıştırıldığında Python fonksiyon bloğundaki yerel değişkenler ile çalışır ve fonksiyon tamamlandığında yerel değişkenler bellekten silinerek fonksiyonun işlevi olan sonuç tamamlanır. Global değişkenler ise her yerde kullanılabilecek değişkenlerdir."
   ]
  },
  {
   "cell_type": "code",
   "execution_count": null,
   "metadata": {},
   "outputs": [],
   "source": [
    "a = 10\n",
    "\n",
    "def fonksiyon():\n",
    "    a = 19\n",
    "    print(a)\n",
    "\n",
    "fonksiyon()\n",
    "print(a)"
   ]
  },
  {
   "cell_type": "code",
   "execution_count": null,
   "metadata": {},
   "outputs": [],
   "source": [
    "b = 5\n",
    "\n",
    "def fonksiyon():\n",
    "    print(b)\n",
    "\n",
    "fonksiyon()\n",
    "print(b)"
   ]
  },
  {
   "cell_type": "code",
   "execution_count": null,
   "metadata": {},
   "outputs": [],
   "source": [
    "c = 10\n",
    "def fonksiyon():\n",
    "    c = 2 \n",
    "    print(c)\n",
    "fonksiyon()\n",
    "print(c)"
   ]
  },
  {
   "cell_type": "raw",
   "metadata": {},
   "source": [
    "Aşağıda, global deyiminin kullanımı açıklanmıştır. Programın başında tanımlanan d=5, global değişkendir. fonksiyon tanımlandıktan sonra global d komutu ile fonksiyon içerisindeki yerel d değişkeni artık global d değişkeni olacaktır ve fonksiyon sonlandıktan sonra çağırılan d değişkeni de fonksiyon içinde tanımlanan yeni d değişkeni olacaktır. Bu komut, güzel bir komut gibi görünse de, büyük programların çalıştırılmasında kullanılırsa yanlışlıklara sebep olabilir."
   ]
  },
  {
   "cell_type": "code",
   "execution_count": null,
   "metadata": {},
   "outputs": [],
   "source": [
    "d = 5\n",
    "\n",
    "def fonksiyon():\n",
    "    global d\n",
    "    d = 3 \n",
    "    print(d)\n",
    "\n",
    "fonksiyon()\n",
    "print(d)"
   ]
  },
  {
   "cell_type": "markdown",
   "metadata": {},
   "source": [
    "# Not: if veya while içinde tanımlanan değişkenler global değişkenlerdir !"
   ]
  },
  {
   "cell_type": "code",
   "execution_count": null,
   "metadata": {},
   "outputs": [],
   "source": []
  },
  {
   "cell_type": "markdown",
   "metadata": {},
   "source": [
    "# Lambda ifadeleri"
   ]
  },
  {
   "cell_type": "raw",
   "metadata": {},
   "source": [
    "Lambda ifadeleri, fonksiyonlarımızı oluşturmak için pratik bir yöntemdir. Lambda ifadeleri list comprehensin'a benzemektedir. Bu nedenle list comprehension'ı hatırlayarak devam edelim."
   ]
  },
  {
   "cell_type": "code",
   "execution_count": null,
   "metadata": {},
   "outputs": [],
   "source": [
    "#list comprehension \n",
    "liste1 = [1,2,3,4,5]\n",
    "\n",
    "liste2 = [i * 2 for i in liste1]\n",
    "liste2"
   ]
  },
  {
   "cell_type": "raw",
   "metadata": {},
   "source": [
    "Lambda ifadeleri, list comprehensin'a oldukça benzerdir ve tek bir satırda fonksiyon tanımlamamıza olanak tanır. \n",
    "\n",
    "Lambda ifadeleri\n",
    "\n",
    "etiket = lambda parametre1, parametre2,... : İşlem\n",
    "\n",
    "yapısıyla kullanılır. "
   ]
  },
  {
   "cell_type": "code",
   "execution_count": null,
   "metadata": {},
   "outputs": [],
   "source": [
    "def dörtkatı(x):\n",
    "    return x * 4\n",
    "\n",
    "print(dörtkatı(5))"
   ]
  },
  {
   "cell_type": "code",
   "execution_count": null,
   "metadata": {},
   "outputs": [],
   "source": [
    "type(dörtkatı)"
   ]
  },
  {
   "cell_type": "code",
   "execution_count": 1,
   "metadata": {},
   "outputs": [
    {
     "name": "stdout",
     "output_type": "stream",
     "text": [
      "20\n"
     ]
    }
   ],
   "source": [
    "dörtX = lambda x : x * 4\n",
    "\n",
    "print(dörtX(5))"
   ]
  },
  {
   "cell_type": "code",
   "execution_count": 2,
   "metadata": {},
   "outputs": [
    {
     "data": {
      "text/plain": [
       "function"
      ]
     },
     "execution_count": 2,
     "metadata": {},
     "output_type": "execute_result"
    }
   ],
   "source": [
    "type(dörtX)"
   ]
  },
  {
   "cell_type": "code",
   "execution_count": 3,
   "metadata": {},
   "outputs": [
    {
     "name": "stdout",
     "output_type": "stream",
     "text": [
      "120\n"
     ]
    }
   ],
   "source": [
    "def toplama(x,y,z):\n",
    "    return x + y + z \n",
    "\n",
    "print(toplama(10,20,90))"
   ]
  },
  {
   "cell_type": "code",
   "execution_count": 4,
   "metadata": {},
   "outputs": [
    {
     "name": "stdout",
     "output_type": "stream",
     "text": [
      "120\n"
     ]
    }
   ],
   "source": [
    "toplama2 = lambda x, y, z : x + y + z\n",
    " \n",
    "print(toplama2(10,20,90))"
   ]
  },
  {
   "cell_type": "code",
   "execution_count": 5,
   "metadata": {},
   "outputs": [
    {
     "name": "stdout",
     "output_type": "stream",
     "text": [
      "amalmargorP nohtyP\n"
     ]
    }
   ],
   "source": [
    "def tersçevir(s):\n",
    "    return s[::-1]\n",
    " \n",
    "print(tersçevir(\"Python Programlama\"))"
   ]
  },
  {
   "cell_type": "code",
   "execution_count": 6,
   "metadata": {},
   "outputs": [
    {
     "name": "stdout",
     "output_type": "stream",
     "text": [
      "nohtyP\n"
     ]
    }
   ],
   "source": [
    "ters = lambda s : s[::-1]\n",
    " \n",
    "print(ters(\"Python\"))"
   ]
  },
  {
   "cell_type": "code",
   "execution_count": null,
   "metadata": {},
   "outputs": [],
   "source": [
    "def tekçift(sayı):\n",
    "    return sayı % 2 == 0"
   ]
  },
  {
   "cell_type": "code",
   "execution_count": null,
   "metadata": {},
   "outputs": [],
   "source": [
    "print(tekçift(15))"
   ]
  },
  {
   "cell_type": "code",
   "execution_count": null,
   "metadata": {},
   "outputs": [],
   "source": [
    "print(tekçift(8))"
   ]
  },
  {
   "cell_type": "code",
   "execution_count": null,
   "metadata": {},
   "outputs": [],
   "source": [
    "cifttek = lambda sayı : sayı % 2 == 0"
   ]
  },
  {
   "cell_type": "code",
   "execution_count": null,
   "metadata": {},
   "outputs": [],
   "source": [
    "print(cifttek(27))"
   ]
  },
  {
   "cell_type": "code",
   "execution_count": null,
   "metadata": {},
   "outputs": [],
   "source": [
    "print(cifttek(26))"
   ]
  },
  {
   "cell_type": "markdown",
   "metadata": {},
   "source": [
    "# UYGULAMA : Bir  sayının asal sayı olup olmadığının kontrolü"
   ]
  },
  {
   "cell_type": "code",
   "execution_count": 7,
   "metadata": {},
   "outputs": [
    {
     "name": "stdin",
     "output_type": "stream",
     "text": [
      "Sayı: 9\n"
     ]
    },
    {
     "name": "stdout",
     "output_type": "stream",
     "text": [
      "9 asal bir sayı değildir.\n"
     ]
    },
    {
     "name": "stdin",
     "output_type": "stream",
     "text": [
      "Sayı: 10\n"
     ]
    },
    {
     "name": "stdout",
     "output_type": "stream",
     "text": [
      "10 asal bir sayı değildir.\n"
     ]
    },
    {
     "name": "stdin",
     "output_type": "stream",
     "text": [
      "Sayı: 11\n"
     ]
    },
    {
     "name": "stdout",
     "output_type": "stream",
     "text": [
      "11 asal bir sayıdır\n"
     ]
    },
    {
     "name": "stdin",
     "output_type": "stream",
     "text": [
      "Sayı: q\n"
     ]
    },
    {
     "name": "stdout",
     "output_type": "stream",
     "text": [
      "program sonlanıyor\n"
     ]
    }
   ],
   "source": [
    "\"\"\"\n",
    "Asal sayılar sadece kendisine ve 1 sayısına bölünebilirler\n",
    "\n",
    "\"\"\"\n",
    "\n",
    "def asal_mi(sayı):\n",
    "    if (sayı == 1):\n",
    "        return True\n",
    "    elif (sayı == 2):\n",
    "        return True\n",
    "\n",
    "    else:\n",
    "        for i in range(2, sayı):\n",
    "            if (sayı % i == 0):\n",
    "                return False\n",
    "        return True\n",
    "    \n",
    "\"\"\" 2'den sayıya kadar, sayı dahil değil bir liste oluşturduk, eğer bu liste içindeki\n",
    "bir sayı, sayıyı tam bölüyorsa o zaman sayımız asal değildir.\"\"\"\n",
    "\n",
    "while True:\n",
    "    sayı = input(\"Sayı:\")\n",
    "\n",
    "    if (sayı == \"q\"):\n",
    "        print(\"program sonlanıyor\")\n",
    "        break\n",
    "\n",
    "    else:\n",
    "        sayı = int(sayı)\n",
    "\n",
    "    if (asal_mi(sayı)):\n",
    "        print(sayı,\"asal bir sayıdır\")\n",
    "    else:\n",
    "        print(sayı, \"asal bir sayı değildir.\")"
   ]
  },
  {
   "cell_type": "code",
   "execution_count": 9,
   "metadata": {},
   "outputs": [
    {
     "name": "stdin",
     "output_type": "stream",
     "text": [
      "Sayı: 10\n"
     ]
    },
    {
     "name": "stdout",
     "output_type": "stream",
     "text": [
      "Tam Bölenler: [2, 5]\n"
     ]
    },
    {
     "name": "stdin",
     "output_type": "stream",
     "text": [
      "Sayı: 27\n"
     ]
    },
    {
     "name": "stdout",
     "output_type": "stream",
     "text": [
      "Tam Bölenler: [3, 9]\n"
     ]
    },
    {
     "name": "stdin",
     "output_type": "stream",
     "text": [
      "Sayı: q\n"
     ]
    },
    {
     "name": "stdout",
     "output_type": "stream",
     "text": [
      "Program sonlanıyor\n"
     ]
    }
   ],
   "source": [
    "\"\"\"\n",
    "Bir sayının tam bölenleri\n",
    "\n",
    "Sayıya kadar liste oluşturabilir ve bu liste içinde olup\n",
    "sayıyı tam bölenleri ayırabiliriz.\n",
    "\n",
    "\"\"\"\n",
    "\n",
    "def tambölenler(sayı):\n",
    "    tam_bölenler = []\n",
    "\n",
    "    for i in range(2, sayı):\n",
    "\n",
    "        if (sayı % i == 0):\n",
    "            tam_bölenler.append(i)\n",
    "    return tam_bölenler\n",
    "\n",
    "while True:\n",
    "    sayı = input(\"Sayı:\")\n",
    "\n",
    "    if (sayı == \"q\"):\n",
    "        print(\"Program sonlanıyor\")\n",
    "        break\n",
    "    else:\n",
    "        sayı = int(sayı)\n",
    "        print(\"Tam Bölenler:\",tambölenler(sayı))"
   ]
  },
  {
   "cell_type": "code",
   "execution_count": null,
   "metadata": {},
   "outputs": [],
   "source": [
    "q\n"
   ]
  }
 ],
 "metadata": {
  "kernelspec": {
   "display_name": "Python 3 (ipykernel)",
   "language": "python",
   "name": "python3"
  },
  "language_info": {
   "codemirror_mode": {
    "name": "ipython",
    "version": 3
   },
   "file_extension": ".py",
   "mimetype": "text/x-python",
   "name": "python",
   "nbconvert_exporter": "python",
   "pygments_lexer": "ipython3",
   "version": "3.9.18"
  }
 },
 "nbformat": 4,
 "nbformat_minor": 4
}
