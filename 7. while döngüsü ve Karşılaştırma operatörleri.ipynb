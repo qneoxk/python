{
 "cells": [
  {
   "cell_type": "markdown",
   "metadata": {},
   "source": [
    "# while döngüsü "
   ]
  },
  {
   "cell_type": "raw",
   "metadata": {},
   "source": [
    "for döngüsünden yapı olarak farklıdır ancak for döngüleri ile yapabildiğimiz her şeyi while döngüleri ile de yapabiliriz. while döngüsü de blok yapısındadır ve koşul sağlandığı sürece bloktaki işlemi tekrar tekrar yapar. Koşul false olduğunda döngü sonlanır. Bu nedenle mutlaka fals olan bir koşul belirtilmelidir aksi halde döngü kısır döngü ya da sonsuz döngü olarak çalışmaya devam eder. Bu tip durumlarda interrupt ile döngünün sonlandırılması gerekecektir. "
   ]
  },
  {
   "cell_type": "code",
   "execution_count": null,
   "metadata": {},
   "outputs": [],
   "source": [
    "i = 0 \n",
    "\n",
    "while (i < 10): \n",
    "    print(\"i' nin değeri\", i)\n",
    "    i += 1"
   ]
  },
  {
   "cell_type": "code",
   "execution_count": null,
   "metadata": {},
   "outputs": [],
   "source": [
    "i = 1\n",
    "\n",
    "while (i <= 20): \n",
    "    print(\"i' nin değeri\", i)\n",
    "    i += 2"
   ]
  },
  {
   "cell_type": "raw",
   "metadata": {},
   "source": [
    "Ekrana 40 defa Python çalışıyoruz yazdıran programa bakalım "
   ]
  },
  {
   "cell_type": "code",
   "execution_count": null,
   "metadata": {},
   "outputs": [],
   "source": [
    "u = 0 \n",
    "\n",
    "while (u <= 10): \n",
    "    print(\"Python Çalışıyoruz...\")\n",
    "    u += 1"
   ]
  },
  {
   "cell_type": "code",
   "execution_count": null,
   "metadata": {},
   "outputs": [],
   "source": [
    "liste = [1,2,3,4,5, \"python\",\"kağan\"]\n",
    "\n",
    "for i in liste: \n",
    "    print(i)"
   ]
  },
  {
   "cell_type": "code",
   "execution_count": null,
   "metadata": {},
   "outputs": [],
   "source": [
    "len(liste)"
   ]
  },
  {
   "cell_type": "code",
   "execution_count": null,
   "metadata": {},
   "outputs": [],
   "source": [
    "liste[2]"
   ]
  },
  {
   "cell_type": "raw",
   "metadata": {},
   "source": [
    "aynı işlemi while ile yapmak için index değeri kullanılır. "
   ]
  },
  {
   "cell_type": "code",
   "execution_count": null,
   "metadata": {},
   "outputs": [],
   "source": [
    "liste"
   ]
  },
  {
   "cell_type": "code",
   "execution_count": null,
   "metadata": {},
   "outputs": [],
   "source": [
    "i = 0\n",
    "\n",
    "while (i < len(liste)):\n",
    "    print(\"index :\", i, \"Liste elemanı\", liste[i])\n",
    "    i += 1"
   ]
  },
  {
   "cell_type": "markdown",
   "metadata": {},
   "source": [
    "# range() fonksiyonu "
   ]
  },
  {
   "cell_type": "raw",
   "metadata": {},
   "source": [
    "Döngülerde oldukça yararlı olan belirtilen başlangıç, bitiş ve artım değeri ile sayı değeri ile liste oluşturulabilen bir fonksiyondur. "
   ]
  },
  {
   "cell_type": "code",
   "execution_count": null,
   "metadata": {},
   "outputs": [],
   "source": [
    "range(0,20)"
   ]
  },
  {
   "cell_type": "code",
   "execution_count": null,
   "metadata": {},
   "outputs": [],
   "source": [
    "print(range(0,20))"
   ]
  },
  {
   "cell_type": "code",
   "execution_count": null,
   "metadata": {},
   "outputs": [],
   "source": [
    "print(*range(0,20))"
   ]
  },
  {
   "cell_type": "raw",
   "metadata": {},
   "source": [
    "range fonksiyonu ekrana yazdırılırken print içerisinde * sembolü kullanılmak zorundadır. "
   ]
  },
  {
   "cell_type": "code",
   "execution_count": null,
   "metadata": {},
   "outputs": [],
   "source": [
    "print(*range(0,101))"
   ]
  },
  {
   "cell_type": "code",
   "execution_count": null,
   "metadata": {},
   "outputs": [],
   "source": [
    "print(*range(15))"
   ]
  },
  {
   "cell_type": "code",
   "execution_count": null,
   "metadata": {},
   "outputs": [],
   "source": [
    "print(*range(0,100,2))"
   ]
  },
  {
   "cell_type": "code",
   "execution_count": null,
   "metadata": {},
   "outputs": [],
   "source": [
    "print(*range(0,100,3))"
   ]
  },
  {
   "cell_type": "code",
   "execution_count": null,
   "metadata": {},
   "outputs": [],
   "source": [
    "print(*range(20,0,-1))"
   ]
  },
  {
   "cell_type": "code",
   "execution_count": null,
   "metadata": {},
   "outputs": [],
   "source": [
    "liste = [1, 2, 3, 4, 5, 6, 7, 8, 9]\n",
    "\n",
    "for i in liste:\n",
    "    print(i)"
   ]
  },
  {
   "cell_type": "code",
   "execution_count": null,
   "metadata": {},
   "outputs": [],
   "source": [
    "for i in range(1,21):\n",
    "    print(i)"
   ]
  },
  {
   "cell_type": "code",
   "execution_count": null,
   "metadata": {},
   "outputs": [],
   "source": [
    "for i in range(0,21):\n",
    "    print(* \"*\" * i)"
   ]
  },
  {
   "cell_type": "markdown",
   "metadata": {},
   "source": [
    "# Break ve Continue  "
   ]
  },
  {
   "cell_type": "raw",
   "metadata": {},
   "source": [
    "Döngülerin içerisinde kullanılan ve döngüleri daha etkin kullanabildiğimiz yapılardır. "
   ]
  },
  {
   "cell_type": "markdown",
   "metadata": {},
   "source": [
    "# break ifadesi "
   ]
  },
  {
   "cell_type": "raw",
   "metadata": {},
   "source": [
    "Programcılar tarafından daha sık tercih edilen bir ifadedir. Break ifadesi hiçbir koşula gerek olmadan döngüden çıkmayı sağlamaktadır. Break ifadesi sadece ait olduğu döngüyü sonlandırır. Eğer iç içe döngüler varsa o zaman hangi döngüye aitse o döngüyü sonlandırır.  "
   ]
  },
  {
   "cell_type": "code",
   "execution_count": null,
   "metadata": {},
   "outputs": [],
   "source": [
    "i = 0 \n",
    "\n",
    "while (i < 10):\n",
    "    print(\"i:\",i)\n",
    "    i += 1"
   ]
  },
  {
   "cell_type": "code",
   "execution_count": null,
   "metadata": {},
   "outputs": [],
   "source": [
    "i = 0 \n",
    "\n",
    "while (i < 10):\n",
    "    \n",
    "    if (i == 5):\n",
    "        break\n",
    "    print(\"i:\",i)\n",
    "    i += 1"
   ]
  },
  {
   "cell_type": "code",
   "execution_count": null,
   "metadata": {},
   "outputs": [],
   "source": [
    "liste = [1,2,3,4,5]\n",
    "\n",
    "for i in liste:\n",
    "    if(i == 3):\n",
    "        break\n",
    "    print(\"i:\", i)"
   ]
  },
  {
   "cell_type": "raw",
   "metadata": {},
   "source": [
    "while True: sonsuza dek dönecek bir döngüdür. Şimdi, klavyeden girilecek q harfine kadar sürekli olarak kullanıcı ismi isteyen bir program yazalım. "
   ]
  },
  {
   "cell_type": "code",
   "execution_count": null,
   "metadata": {},
   "outputs": [],
   "source": [
    "while True: \n",
    "    isim = input(\"isim (çıkmak için 'q' ya basınız: )\")\n",
    "    if (isim == 'q'):\n",
    "        print(\"programdan çıkılıyor...\")\n",
    "        break\n",
    "    print(\"isminiz:\", isim)"
   ]
  },
  {
   "cell_type": "markdown",
   "metadata": {},
   "source": [
    "# continue ifadesi"
   ]
  },
  {
   "cell_type": "raw",
   "metadata": {},
   "source": [
    "break komutuna nazaran çok daha az kullanılan bir komuttur. Döngünün herhangi bir yerinde continue komutu bulunursa, döngü sonraki işlemleri yapmadan doğrudan döngünün başına dönmektedir. "
   ]
  },
  {
   "cell_type": "code",
   "execution_count": null,
   "metadata": {},
   "outputs": [],
   "source": [
    "liste = list(range(0,11))\n",
    "print(liste)"
   ]
  },
  {
   "cell_type": "code",
   "execution_count": null,
   "metadata": {},
   "outputs": [],
   "source": [
    "for i in liste:\n",
    "    print(\"i:\", i )"
   ]
  },
  {
   "cell_type": "code",
   "execution_count": null,
   "metadata": {
    "scrolled": true
   },
   "outputs": [],
   "source": [
    "for i in liste:\n",
    "    if( i == 3 or i == 5):\n",
    "        print(\"i:\", i)\n",
    "        print(\"****************************\")\n",
    "        print(\"i:\", i)"
   ]
  },
  {
   "cell_type": "code",
   "execution_count": null,
   "metadata": {},
   "outputs": [],
   "source": [
    "liste"
   ]
  },
  {
   "cell_type": "code",
   "execution_count": null,
   "metadata": {},
   "outputs": [],
   "source": [
    "for i in liste:\n",
    "    if( i == 3 or i == 5):\n",
    "        print(\"i:\", i)"
   ]
  },
  {
   "cell_type": "code",
   "execution_count": null,
   "metadata": {},
   "outputs": [],
   "source": [
    "for i in liste:\n",
    "    if( i == 3 or i == 5):\n",
    "        print(\"xxxxxxxxxxx=\",i)\n",
    "        continue\n",
    "    print(\"i:\", i)"
   ]
  },
  {
   "cell_type": "raw",
   "metadata": {},
   "source": [
    "i = 3 olduktan sonra yer alan continu komutu ile döngü i' nin 3 olan değerini ekrana yazmadan söngünün başına çıkıyor, bu sefer artık i' nin değeri bir artırılıp 4 olduğundan program 4' ün değerini ekrana yazdırıyor. "
   ]
  },
  {
   "cell_type": "code",
   "execution_count": 1,
   "metadata": {},
   "outputs": [
    {
     "name": "stdout",
     "output_type": "stream",
     "text": [
      "zzzz\n",
      "i: 0\n",
      "zzzz\n",
      "i: 1\n",
      "zzzz\n",
      "xxxxxxxx= 2\n",
      "zzzz\n",
      "i: 3\n",
      "zzzz\n",
      "i: 4\n",
      "zzzz\n",
      "i: 5\n",
      "zzzz\n",
      "i: 6\n",
      "zzzz\n",
      "i: 7\n",
      "zzzz\n",
      "i: 8\n",
      "zzzz\n",
      "i: 9\n"
     ]
    }
   ],
   "source": [
    "i = 0 \n",
    "\n",
    "while (i < 10):\n",
    "    print(\"zzzz\")\n",
    "    if (i == 2):\n",
    "        print(\"xxxxxxxx=\",i)\n",
    "        i += 1\n",
    "        continue\n",
    "\n",
    "    print (\"i:\",i)\n",
    "    i += 1"
   ]
  },
  {
   "cell_type": "raw",
   "metadata": {},
   "source": [
    "Yukarıdaki program kısır döngüye girer. i rakamı 2 olduktan sonra, program continue nedeniyle başa döner ve i'n in değeri 2'dir. i' nin değeri hep 2 olduğundan program kısır döngüdür ve sonlanmaz. "
   ]
  },
  {
   "cell_type": "code",
   "execution_count": 4,
   "metadata": {},
   "outputs": [
    {
     "name": "stdout",
     "output_type": "stream",
     "text": [
      "i: 0\n",
      "i: 1\n",
      "i: 3\n",
      "i: 4\n",
      "i: 5\n",
      "i: 6\n",
      "i: 7\n",
      "i: 8\n",
      "i: 9\n"
     ]
    }
   ],
   "source": [
    "i = 0 \n",
    "\n",
    "while (i < 10):\n",
    "    if (i == 2):\n",
    "        i+=1\n",
    "        continue\n",
    "        \n",
    "    print (\"i:\",i)\n",
    "    i += 1"
   ]
  },
  {
   "cell_type": "markdown",
   "metadata": {},
   "source": [
    "# Mantıksal Değerler ve Karşılaştırma Operatörleri"
   ]
  },
  {
   "cell_type": "raw",
   "metadata": {},
   "source": [
    "Bolean veri tipi yani ikili sayıkodu, Python'da bir veri tipidir. True (1) ve False (0) olarak düşünülebilir."
   ]
  },
  {
   "cell_type": "code",
   "execution_count": 5,
   "metadata": {},
   "outputs": [
    {
     "name": "stdout",
     "output_type": "stream",
     "text": [
      "<class 'bool'>\n"
     ]
    }
   ],
   "source": [
    "a = True\n",
    "print(type(a))"
   ]
  },
  {
   "cell_type": "code",
   "execution_count": 6,
   "metadata": {},
   "outputs": [
    {
     "name": "stdout",
     "output_type": "stream",
     "text": [
      "<class 'bool'>\n"
     ]
    }
   ],
   "source": [
    "b = False\n",
    "print(type(b))"
   ]
  },
  {
   "cell_type": "raw",
   "metadata": {},
   "source": [
    "Python'da bir sayı tipi 0 ise false, sıfırdan farklı bir değer ise True olarak değerlendirilir. bool() fonksiyonu ile sayının sıfırdan faklı olup olmadığı kontrol edilebilir."
   ]
  },
  {
   "cell_type": "code",
   "execution_count": 7,
   "metadata": {},
   "outputs": [
    {
     "data": {
      "text/plain": [
       "(True, True, False, False)"
      ]
     },
     "execution_count": 7,
     "metadata": {},
     "output_type": "execute_result"
    }
   ],
   "source": [
    "bool(3), bool(-1.71), bool(0), bool(0.0)"
   ]
  },
  {
   "cell_type": "code",
   "execution_count": 10,
   "metadata": {},
   "outputs": [
    {
     "data": {
      "text/plain": [
       "True"
      ]
     },
     "execution_count": 10,
     "metadata": {},
     "output_type": "execute_result"
    }
   ],
   "source": [
    "1 == 1"
   ]
  },
  {
   "cell_type": "code",
   "execution_count": 9,
   "metadata": {},
   "outputs": [
    {
     "data": {
      "text/plain": [
       "False"
      ]
     },
     "execution_count": 9,
     "metadata": {},
     "output_type": "execute_result"
    }
   ],
   "source": [
    "1 == 2"
   ]
  },
  {
   "cell_type": "raw",
   "metadata": {},
   "source": [
    "Bir a değişkeninin değerine programın işleyişinde daha sonra değer atanacak ise Python'da None isimli bir belirteç bulunmaktadır. Bir değişkenin değeri atanmamış anlamında None belirteci kullanılabilir."
   ]
  },
  {
   "cell_type": "code",
   "execution_count": 11,
   "metadata": {},
   "outputs": [
    {
     "name": "stdout",
     "output_type": "stream",
     "text": [
      "None\n",
      "<class 'NoneType'>\n"
     ]
    }
   ],
   "source": [
    "c = None \n",
    "print(c)\n",
    "print(type(c))"
   ]
  },
  {
   "cell_type": "code",
   "execution_count": null,
   "metadata": {},
   "outputs": [],
   "source": [
    "c = 4\n",
    "c"
   ]
  },
  {
   "cell_type": "markdown",
   "metadata": {},
   "source": [
    "# Karşılaştırma Operatörleri"
   ]
  },
  {
   "cell_type": "raw",
   "metadata": {},
   "source": [
    "Altı tane karşılaştırma operatörü bulunmaktadır. \n",
    "\n",
    "== iki değişkenin eşit olmasını kontrol eder. \n",
    "!= iki değer birbirine eşit olup olmadığını kontrol eder. Eğer iki değer birbirine eşit değilse, sonuç True, diğer durumda sonuç False olur. \n",
    "> soldaki değerin sağındakinden büyük olup olmadığını, \n",
    "< soldaki değerin sağındakinden küçük olup olmadığını kontrol eder. \n",
    ">= ve <= benzer şekilde büyük eşit ya da küçük eşit olup olmadığını kontrol eder."
   ]
  },
  {
   "cell_type": "code",
   "execution_count": 13,
   "metadata": {
    "scrolled": true
   },
   "outputs": [
    {
     "data": {
      "text/plain": [
       "True"
      ]
     },
     "execution_count": 13,
     "metadata": {},
     "output_type": "execute_result"
    }
   ],
   "source": [
    "\"Apple\" == \"Apple\""
   ]
  },
  {
   "cell_type": "code",
   "execution_count": 14,
   "metadata": {},
   "outputs": [
    {
     "data": {
      "text/plain": [
       "True"
      ]
     },
     "execution_count": 14,
     "metadata": {},
     "output_type": "execute_result"
    }
   ],
   "source": [
    "\"Apple\" != \"Samsung\""
   ]
  },
  {
   "cell_type": "code",
   "execution_count": 15,
   "metadata": {},
   "outputs": [
    {
     "data": {
      "text/plain": [
       "True"
      ]
     },
     "execution_count": 15,
     "metadata": {},
     "output_type": "execute_result"
    }
   ],
   "source": [
    "[1,2,3] == [1,2,3]"
   ]
  },
  {
   "cell_type": "code",
   "execution_count": 16,
   "metadata": {},
   "outputs": [
    {
     "data": {
      "text/plain": [
       "True"
      ]
     },
     "execution_count": 16,
     "metadata": {},
     "output_type": "execute_result"
    }
   ],
   "source": [
    "4 > -20"
   ]
  },
  {
   "cell_type": "code",
   "execution_count": 18,
   "metadata": {},
   "outputs": [
    {
     "data": {
      "text/plain": [
       "False"
      ]
     },
     "execution_count": 18,
     "metadata": {},
     "output_type": "execute_result"
    }
   ],
   "source": [
    "\"Araba\" > \"Araba\""
   ]
  },
  {
   "cell_type": "code",
   "execution_count": 21,
   "metadata": {},
   "outputs": [
    {
     "data": {
      "text/plain": [
       "True"
      ]
     },
     "execution_count": 21,
     "metadata": {},
     "output_type": "execute_result"
    }
   ],
   "source": [
    "\"Uçak\" <= \"Uçal\""
   ]
  },
  {
   "cell_type": "markdown",
   "metadata": {},
   "source": [
    "# Mantıksal Bağlaçlar"
   ]
  },
  {
   "cell_type": "markdown",
   "metadata": {},
   "source": [
    "# and"
   ]
  },
  {
   "cell_type": "code",
   "execution_count": 22,
   "metadata": {},
   "outputs": [
    {
     "data": {
      "text/plain": [
       "True"
      ]
     },
     "execution_count": 22,
     "metadata": {},
     "output_type": "execute_result"
    }
   ],
   "source": [
    "1 < 2 and \"Western Digital\" == \"Western Digital\""
   ]
  },
  {
   "cell_type": "code",
   "execution_count": 23,
   "metadata": {},
   "outputs": [
    {
     "data": {
      "text/plain": [
       "False"
      ]
     },
     "execution_count": 23,
     "metadata": {},
     "output_type": "execute_result"
    }
   ],
   "source": [
    "2 > 9 and 7 > 6"
   ]
  },
  {
   "cell_type": "code",
   "execution_count": 28,
   "metadata": {},
   "outputs": [
    {
     "name": "stdout",
     "output_type": "stream",
     "text": [
      "Boolean operations\n",
      "******************\n",
      "\n",
      "   or_test  ::= and_test | or_test \"or\" and_test\n",
      "   and_test ::= not_test | and_test \"and\" not_test\n",
      "   not_test ::= comparison | \"not\" not_test\n",
      "\n",
      "In the context of Boolean operations, and also when expressions are\n",
      "used by control flow statements, the following values are interpreted\n",
      "as false: \"False\", \"None\", numeric zero of all types, and empty\n",
      "strings and containers (including strings, tuples, lists,\n",
      "dictionaries, sets and frozensets).  All other values are interpreted\n",
      "as true.  User-defined objects can customize their truth value by\n",
      "providing a \"__bool__()\" method.\n",
      "\n",
      "The operator \"not\" yields \"True\" if its argument is false, \"False\"\n",
      "otherwise.\n",
      "\n",
      "The expression \"x and y\" first evaluates *x*; if *x* is false, its\n",
      "value is returned; otherwise, *y* is evaluated and the resulting value\n",
      "is returned.\n",
      "\n",
      "The expression \"x or y\" first evaluates *x*; if *x* is true, its value\n",
      "is returned; otherwise, *y* is evaluated and the resulting value is\n",
      "returned.\n",
      "\n",
      "Note that neither \"and\" nor \"or\" restrict the value and type they\n",
      "return to \"False\" and \"True\", but rather return the last evaluated\n",
      "argument.  This is sometimes useful, e.g., if \"s\" is a string that\n",
      "should be replaced by a default value if it is empty, the expression\n",
      "\"s or 'foo'\" yields the desired value.  Because \"not\" has to create a\n",
      "new value, it returns a boolean value regardless of the type of its\n",
      "argument (for example, \"not 'foo'\" produces \"False\" rather than \"''\".)\n",
      "\n",
      "Related help topics: EXPRESSIONS, TRUTHVALUE\n",
      "\n"
     ]
    }
   ],
   "source": [
    "help(\"and\")"
   ]
  },
  {
   "cell_type": "code",
   "execution_count": 25,
   "metadata": {},
   "outputs": [
    {
     "data": {
      "text/plain": [
       "False"
      ]
     },
     "execution_count": 25,
     "metadata": {},
     "output_type": "execute_result"
    }
   ],
   "source": [
    "3 > 9 and 1 > 0.1 and \"JPhone\" == \"JPhone\" and \"KBookPro\" == \"KBookPro\""
   ]
  },
  {
   "cell_type": "markdown",
   "metadata": {},
   "source": [
    "# or"
   ]
  },
  {
   "cell_type": "code",
   "execution_count": null,
   "metadata": {},
   "outputs": [],
   "source": [
    "1 < 2 or \"Western Digital\" == \"Toshiba\""
   ]
  },
  {
   "cell_type": "code",
   "execution_count": null,
   "metadata": {},
   "outputs": [],
   "source": [
    "4 < 2 or \"Western Digital\" == \"Toshiba\""
   ]
  },
  {
   "cell_type": "markdown",
   "metadata": {},
   "source": [
    "# not"
   ]
  },
  {
   "cell_type": "code",
   "execution_count": 29,
   "metadata": {},
   "outputs": [
    {
     "data": {
      "text/plain": [
       "False"
      ]
     },
     "execution_count": 29,
     "metadata": {},
     "output_type": "execute_result"
    }
   ],
   "source": [
    "not (2 == 2)"
   ]
  },
  {
   "cell_type": "code",
   "execution_count": null,
   "metadata": {},
   "outputs": [],
   "source": [
    "not (3 > 2 and 1 > 0.1 and \"JPhone\" == \"JPhone\" and \"KBookPro\" == \"KBookPro\")"
   ]
  },
  {
   "cell_type": "code",
   "execution_count": null,
   "metadata": {},
   "outputs": [],
   "source": []
  }
 ],
 "metadata": {
  "kernelspec": {
   "display_name": "Python 3 (ipykernel)",
   "language": "python",
   "name": "python3"
  },
  "language_info": {
   "codemirror_mode": {
    "name": "ipython",
    "version": 3
   },
   "file_extension": ".py",
   "mimetype": "text/x-python",
   "name": "python",
   "nbconvert_exporter": "python",
   "pygments_lexer": "ipython3",
   "version": "3.9.13"
  }
 },
 "nbformat": 4,
 "nbformat_minor": 2
}
